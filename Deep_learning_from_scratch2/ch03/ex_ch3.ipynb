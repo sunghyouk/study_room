{
 "cells": [
  {
   "cell_type": "markdown",
   "metadata": {},
   "source": [
    "# Chapter 3. word2vec\n",
    "\n",
    "## 3.1 추론 기반 기법과 신경망\n"
   ]
  },
  {
   "cell_type": "markdown",
   "metadata": {},
   "source": [
    "### 3.1.1 통계 기반 기법의 문제점\n",
    "\n",
    "대규모 말뭉치를 다룰 때 문제가 발생  \n",
    "단 1회의 처리 (SVD 등)에 단어의 분산 표현: 배치 학습  \n",
    "신경망이 한번에 소량 (미니배치)의 학습 샘플씩 반복해서 학습하며 가중치를 갱신  \n",
    "게다가 여러 머신과 여러 GPU를 이용한 병렬 계산도 가능해져 학습 속도를 높일 수 있음  \n",
    "\n",
    "*reference* 3.5.3 통계 기반 vs 추론 기반"
   ]
  },
  {
   "cell_type": "markdown",
   "metadata": {},
   "source": [
    "### 3.1.2 추론 기반 기법 개요\n",
    "\n",
    "모델로 신경망을 사용  \n",
    "모델은 맥락 정보를 입력받아 (출현할 수 있는) 각 단어의 출현 확률을 출력  \n",
    "학습의 결과로 단어의 분산 표현을 얻는 것  \n"
   ]
  },
  {
   "cell_type": "markdown",
   "metadata": {},
   "source": [
    "### 3.1.3 신경망에서의 단어 처리\n",
    "\n",
    "고정 길이의 벡터로 변환 - 원핫 표현  \n"
   ]
  },
  {
   "cell_type": "code",
   "execution_count": 2,
   "metadata": {},
   "outputs": [
    {
     "name": "stdout",
     "output_type": "stream",
     "text": [
      "[[-0.48875471  0.02173541  1.08132014]]\n"
     ]
    }
   ],
   "source": [
    "import sys\n",
    "sys.path.append('..')\n",
    "import numpy as np\n",
    "from common.layers import MatMul\n",
    "\n",
    "c = np.array([[1, 0, 0, 0, 0, 0, 0]])\n",
    "W = np.random.randn(7, 3)\n",
    "layer = MatMul(W)\n",
    "h = layer.forward(c)\n",
    "print(h)"
   ]
  },
  {
   "cell_type": "markdown",
   "metadata": {},
   "source": [
    "## 3.2 단순한 word2vec\n",
    "\n",
    "### 3.2.1 CBOW 모델의 추론 처리\n",
    "\n",
    "사용할 신경망은 word2vec에서 제안하는 CBOW (continuous bag-of-words) 모델  \n",
    "맥락 (주변 단어들)으로부터 타깃 (중앙 단어)을 추측하는 용도의 신경망  \n",
    "입력: 맥락의 원핫 표현, 맥락으로 고려할 단어 2개로 정하면 입력층도 2이다.  \n",
    "은닉: 입력층이 여러 개이면 전체를 '평균'  \n",
    "출력: 뉴런 하나하나가 각각의 단어에 대응, 출력층 뉴런은 각 단어의 '점수'를 뜻하며, 소프트맥스 함수를 적용해서 '확률'을 얻음\n",
    "\n",
    "은닉층의 뉴런 수를 입력층의 뉴런 수보다 적게 - 인코딩에 해당  \n",
    "활성화 함수를 사용하지 않는 간단한 구성의 신경망  \n"
   ]
  },
  {
   "cell_type": "code",
   "execution_count": null,
   "metadata": {},
   "outputs": [],
   "source": []
  }
 ],
 "metadata": {
  "interpreter": {
   "hash": "8416a3f2a026e985bee17eceb7546469969f3a4d162bd0f7da6d9cc666a7e5f9"
  },
  "kernelspec": {
   "display_name": "Python 3.9.7 64-bit ('base': conda)",
   "language": "python",
   "name": "python3"
  },
  "language_info": {
   "codemirror_mode": {
    "name": "ipython",
    "version": 3
   },
   "file_extension": ".py",
   "mimetype": "text/x-python",
   "name": "python",
   "nbconvert_exporter": "python",
   "pygments_lexer": "ipython3",
   "version": "3.9.7"
  },
  "orig_nbformat": 4
 },
 "nbformat": 4,
 "nbformat_minor": 2
}
