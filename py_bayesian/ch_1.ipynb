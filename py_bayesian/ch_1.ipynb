{
 "cells": [
  {
   "cell_type": "markdown",
   "metadata": {},
   "source": [
    "## 1.4 컴퓨터를 사용하여 베이지안 추론하기"
   ]
  },
  {
   "cell_type": "code",
   "execution_count": null,
   "metadata": {},
   "outputs": [
    {
     "ename": "",
     "evalue": "",
     "output_type": "error",
     "traceback": [
      "\u001b[1;31mThe kernel failed to start as the module 'secure_write' could not be imported. \n",
      "View Jupyter <a href='command:jupyter.viewOutput'>log</a> for further details.\n",
      "<a href='https://aka.ms/kernelFailuresModuleImportErr'>Learn more</a>"
     ]
    }
   ],
   "source": [
    "%matplotlib inline\n",
    "import numpy as np\n",
    "import matplotlib.pyplot as plt\n",
    "import matplotlib\n",
    "#from IPython.core.pylabtools import figsize\n",
    "matplotlib.rc('font', family='Malgun Gothic')\n",
    "\n",
    "#figsize(12.5, 3.5)\n",
    "count_data = np.loadtxt(r\"txtdata.csv\")\n",
    "n_count_data = len(count_data)\n",
    "\n",
    "plt.bar(np.arange(n_count_data), count_data, color=\"#348ABD\")\n",
    "plt.xlabel(\"Time (days)\", fontsize=13)\n",
    "plt.ylabel(\"Count of text-messages received\", fontsize=13)\n",
    "plt.title(\"Did the user's texting habits change over time?\")\n",
    "plt.xlim(0, n_count_data);"
   ]
  },
  {
   "cell_type": "code",
   "execution_count": null,
   "metadata": {},
   "outputs": [],
   "source": [
    "import pymc as pm\n",
    "\n",
    "alpha = 1.0 / count_data.mean()  # count_data 변수는 문자메시지 갯수를\n",
    "                               # 저장하고 있다\n",
    "lambda_1 = pm.Exponential(\"lambda_1\", alpha)\n",
    "lambda_2 = pm.Exponential(\"lambda_2\", alpha)\n",
    "\n",
    "tau = pm.DiscreteUniform(\"tau\", lower=0, upper=n_count_data)"
   ]
  },
  {
   "cell_type": "code",
   "execution_count": null,
   "metadata": {},
   "outputs": [],
   "source": []
  }
 ],
 "metadata": {
  "interpreter": {
   "hash": "676e7185f9745f6b8c91b5bacf5f393b8e3e54f69037ea0fb24966f859d584c1"
  },
  "kernelspec": {
   "display_name": "Python 3.9.10 ('pymc3_env')",
   "language": "python",
   "name": "python3"
  },
  "language_info": {
   "codemirror_mode": {
    "name": "ipython",
    "version": 3
   },
   "file_extension": ".py",
   "mimetype": "text/x-python",
   "name": "python",
   "nbconvert_exporter": "python",
   "pygments_lexer": "ipython3",
   "version": "3.6.13"
  },
  "orig_nbformat": 4
 },
 "nbformat": 4,
 "nbformat_minor": 2
}
