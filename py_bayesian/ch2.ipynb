{
  "nbformat": 4,
  "nbformat_minor": 0,
  "metadata": {
    "colab": {
      "name": "ch2.ipynb",
      "provenance": [],
      "collapsed_sections": [],
      "authorship_tag": "ABX9TyN2Q2YkQd1pjKcaxMiOSJEA",
      "include_colab_link": true
    },
    "kernelspec": {
      "name": "python3",
      "display_name": "Python 3"
    },
    "language_info": {
      "name": "python"
    }
  },
  "cells": [
    {
      "cell_type": "markdown",
      "metadata": {
        "id": "view-in-github",
        "colab_type": "text"
      },
      "source": [
        "<a href=\"https://colab.research.google.com/github/sunghyouk/study_room/blob/master/py_beyesian/ch2.ipynb\" target=\"_parent\"><img src=\"https://colab.research.google.com/assets/colab-badge.svg\" alt=\"Open In Colab\"/></a>"
      ]
    },
    {
      "cell_type": "markdown",
      "source": [
        "# Chapter2. PyMC 더 알아보기"
      ],
      "metadata": {
        "id": "HUjGQpn4AEgc"
      }
    },
    {
      "cell_type": "markdown",
      "source": [
        "## 2.1 서론"
      ],
      "metadata": {
        "id": "hf4vw5PmALRY"
      }
    },
    {
      "cell_type": "code",
      "execution_count": 1,
      "metadata": {
        "id": "oL5tBU6a_3K5"
      },
      "outputs": [],
      "source": [
        "import pymc3 as pm\n",
        "import matplotlib\n",
        "\n",
        "with pm.Model() as model:\n",
        "    parameter = pm.Exponential(\"poisson_param\", 1.0)\n",
        "    data_generator = pm.Poisson(\"data_generator\", parameter)"
      ]
    },
    {
      "cell_type": "code",
      "source": [
        "with model:\n",
        "    data_plus_one = data_generator + 1"
      ],
      "metadata": {
        "id": "s0W_JyGPFBlF"
      },
      "execution_count": 2,
      "outputs": []
    },
    {
      "cell_type": "code",
      "source": [
        "parameter.tag.test_value"
      ],
      "metadata": {
        "colab": {
          "base_uri": "https://localhost:8080/"
        },
        "id": "GuihJ7I-yBBi",
        "outputId": "3c870818-e3bd-4ddc-b297-af0c73107167"
      },
      "execution_count": 3,
      "outputs": [
        {
          "output_type": "execute_result",
          "data": {
            "text/plain": [
              "array(0.69314718)"
            ]
          },
          "metadata": {},
          "execution_count": 3
        }
      ]
    },
    {
      "cell_type": "code",
      "source": [
        "with pm.Model() as model:\n",
        "    theta = pm.Exponential(\"theta\", 2.0)\n",
        "    data_generator = pm.Poisson(\"data_generator\", theta)"
      ],
      "metadata": {
        "id": "5bu_Mr8EyGD6"
      },
      "execution_count": 4,
      "outputs": []
    },
    {
      "cell_type": "code",
      "source": [
        "with pm.Model() as ab_testing:\n",
        "    p_A = pm.Uniform(\"P(A)\", 0, 1)\n",
        "    p_B = pm.Uniform(\"P(B)\", 0, 1)"
      ],
      "metadata": {
        "id": "LQ53TeqWyIeC"
      },
      "execution_count": 5,
      "outputs": []
    },
    {
      "cell_type": "markdown",
      "source": [
        "### 2.1.2 PyMC 변수"
      ],
      "metadata": {
        "id": "4CIaSL7IFXVy"
      }
    },
    {
      "cell_type": "code",
      "source": [
        "print(\"parameter.tag.test_value =\", parameter.tag.test_value)\n",
        "print(\"data_generator.tag.test_value =\", data_generator.tag.test_value)\n",
        "print(\"data_plus_one.tag.test_value =\", data_plus_one.tag.test_value)"
      ],
      "metadata": {
        "id": "3T-q3OmlFop0",
        "colab": {
          "base_uri": "https://localhost:8080/"
        },
        "outputId": "b5e33558-0bb0-4338-9936-9408041cb696"
      },
      "execution_count": 6,
      "outputs": [
        {
          "output_type": "stream",
          "name": "stdout",
          "text": [
            "parameter.tag.test_value = 0.6931471824645996\n",
            "data_generator.tag.test_value = 0\n",
            "data_plus_one.tag.test_value = 1\n"
          ]
        }
      ]
    },
    {
      "cell_type": "code",
      "source": [
        "with pm.Model() as model:\n",
        "    parameter = pm.Exponential(\"poisson_param\", 1.0, testval=0.5)\n",
        "\n",
        "print(\"\\nparameter.tag.test_value =\", parameter.tag.test_value)"
      ],
      "metadata": {
        "colab": {
          "base_uri": "https://localhost:8080/"
        },
        "id": "E_tBlCAByReq",
        "outputId": "df9b69cb-87dc-469d-a42e-c381f31cee68"
      },
      "execution_count": 7,
      "outputs": [
        {
          "output_type": "stream",
          "name": "stdout",
          "text": [
            "\n",
            "parameter.tag.test_value = 0.5\n"
          ]
        }
      ]
    },
    {
      "cell_type": "markdown",
      "source": [
        "* stochastic 변수 초기화\n",
        "* deterministic 변수"
      ],
      "metadata": {
        "id": "9Q4av3WGybTn"
      }
    },
    {
      "cell_type": "code",
      "source": [
        "with pm.Model() as model:\n",
        "    lambda_1 = pm.Exponential(\"lambda_1\", 1.0)\n",
        "    lambda_2 = pm.Exponential(\"lambda_2\", 1.0)\n",
        "    tau = pm.DiscreteUniform(\"tau\", lower=0, upper=10)\n",
        "\n",
        "new_deterministic_variable = lambda_1 + lambda_2"
      ],
      "metadata": {
        "id": "PScTCeGTyvcX"
      },
      "execution_count": 8,
      "outputs": []
    },
    {
      "cell_type": "code",
      "source": [
        "import numpy as np\n",
        "\n",
        "n_data_points = 5  # in CH1 we had ~70 data points\n",
        "idx = np.arange(n_data_points)\n",
        "with model:\n",
        "    lambda_ = pm.math.switch(tau >= idx, lambda_1, lambda_2)"
      ],
      "metadata": {
        "id": "D_XHEeYPy3EQ"
      },
      "execution_count": 9,
      "outputs": []
    },
    {
      "cell_type": "markdown",
      "source": [
        "#### Theano"
      ],
      "metadata": {
        "id": "LYSJ2v5CzXBG"
      }
    },
    {
      "cell_type": "code",
      "source": [
        "import theano.tensor as tt\n",
        "\n",
        "with pm.Model() as theano_test:\n",
        "    p1 = pm.Uniform(\"p\", 0, 1)\n",
        "    p2 = 1 - p1\n",
        "    p = tt.stack([p1, p2])\n",
        "    \n",
        "    assignment = pm.Categorical(\"assignment\", p)"
      ],
      "metadata": {
        "id": "MgWw_qchzWkE"
      },
      "execution_count": 10,
      "outputs": []
    },
    {
      "cell_type": "markdown",
      "source": [
        "### 2.1.3 모델에 관측 포함하기"
      ],
      "metadata": {
        "id": "LilT4qxGzgRK"
      }
    },
    {
      "cell_type": "code",
      "source": [
        "%matplotlib inline\n",
        "from IPython.core.pylabtools import figsize\n",
        "import matplotlib.pyplot as plt\n",
        "import scipy.stats as stats\n",
        "figsize(12.5, 4)\n",
        "\n",
        "\n",
        "samples = lambda_1.random(size=20000)\n",
        "plt.hist(samples, bins=70, density=True, histtype=\"stepfilled\")\n",
        "plt.title(\"Prior distribution for $\\lambda_1$\")\n",
        "plt.xlim(0, 8);"
      ],
      "metadata": {
        "colab": {
          "base_uri": "https://localhost:8080/",
          "height": 283
        },
        "id": "7zEBu-F1zi9y",
        "outputId": "4a170978-6b2f-4a31-957d-8a52d1399e05"
      },
      "execution_count": 11,
      "outputs": [
        {
          "output_type": "display_data",
          "data": {
            "image/png": "[encoded data removed]",
            "text/plain": [
              "<Figure size 900x288 with 1 Axes>"
            ]
          },
          "metadata": {
            "needs_background": "light"
          }
        }
      ]
    },
    {
      "cell_type": "code",
      "source": [
        "data = np.array([10, 5])\n",
        "with model:\n",
        "    fixed_variable = pm.Poisson(\"fxd\", 1, observed=data)\n",
        "print(\"value: \", fixed_variable.tag.test_value)"
      ],
      "metadata": {
        "colab": {
          "base_uri": "https://localhost:8080/"
        },
        "id": "CqDQW8NqzvNU",
        "outputId": "8c9fa015-2275-4c66-9add-b7909c4540aa"
      },
      "execution_count": 12,
      "outputs": [
        {
          "output_type": "stream",
          "name": "stdout",
          "text": [
            "value:  [10  5]\n"
          ]
        }
      ]
    },
    {
      "cell_type": "code",
      "source": [
        "# We're using some fake data here\n",
        "data = np.array([10, 25, 15, 20, 35])\n",
        "with model:\n",
        "    obs = pm.Poisson(\"obs\", lambda_, observed=data)\n",
        "print(obs.tag.test_value)"
      ],
      "metadata": {
        "colab": {
          "base_uri": "https://localhost:8080/"
        },
        "id": "w9zpHWDez4Ca",
        "outputId": "aab97860-8731-4d5c-b284-3239c0c7461e"
      },
      "execution_count": 13,
      "outputs": [
        {
          "output_type": "stream",
          "name": "stdout",
          "text": [
            "[10 25 15 20 35]\n"
          ]
        }
      ]
    },
    {
      "cell_type": "markdown",
      "source": [
        "## 2.2 모델링 방법"
      ],
      "metadata": {
        "id": "B-s7pb93z70i"
      }
    },
    {
      "cell_type": "code",
      "source": [
        ""
      ],
      "metadata": {
        "id": "dJEQfHbe0FYF"
      },
      "execution_count": 13,
      "outputs": []
    },
    {
      "cell_type": "markdown",
      "source": [
        "### 2.2.6 이항분포"
      ],
      "metadata": {
        "id": "_Fk5u88V0-nP"
      }
    },
    {
      "cell_type": "code",
      "source": [
        "figsize(12.5, 4)\n",
        "\n",
        "import scipy.stats as stats\n",
        "binomial = stats.binom\n",
        "\n",
        "parameters = [(10, .4), (10, .9)]\n",
        "colors = [\"#348ABD\", \"#A60628\"]\n",
        "\n",
        "for i in range(2):\n",
        "    N, p = parameters[i]\n",
        "    _x = np.arange(N + 1)\n",
        "    plt.bar(_x - 0.5, binomial.pmf(_x, N, p), color=colors[i],\n",
        "            edgecolor=colors[i],\n",
        "            alpha=0.6,\n",
        "            label=\"$N$: %d, $p$: %.1f\" % (N, p),\n",
        "            linewidth=3)\n",
        "\n",
        "plt.legend(loc=\"upper left\")\n",
        "plt.xlim(0, 10.5)\n",
        "plt.xlabel(\"$k$\")\n",
        "plt.ylabel(\"$P(X = k)$\")\n",
        "plt.title(\"Probability mass distributions of binomial random variables\");"
      ],
      "metadata": {
        "colab": {
          "base_uri": "https://localhost:8080/",
          "height": 297
        },
        "id": "fClBLn8z1A-F",
        "outputId": "5f58c515-2a9f-47d3-cab7-07349da72a8c"
      },
      "execution_count": 14,
      "outputs": [
        {
          "output_type": "display_data",
          "data": {
            "image/png": "[encoded data removed]",
            "text/plain": [
              "<Figure size 900x288 with 1 Axes>"
            ]
          },
          "metadata": {
            "needs_background": "light"
          }
        }
      ]
    },
    {
      "cell_type": "markdown",
      "source": [
        "### 2.2.7 예제: 학생들의 부정행위"
      ],
      "metadata": {
        "id": "V8iYwjVV1vqB"
      }
    },
    {
      "cell_type": "code",
      "source": [
        "import pymc3 as pm\n",
        "\n",
        "N = 100\n",
        "with pm.Model() as model:\n",
        "    p = pm.Uniform(\"freq_cheating\", 0, 1)"
      ],
      "metadata": {
        "id": "8Spbb3t71yme"
      },
      "execution_count": 15,
      "outputs": []
    },
    {
      "cell_type": "code",
      "source": [
        "with model:\n",
        "    true_answers = pm.Bernoulli(\"truths\", p, shape = N, testval = np.random.binomial(1, 0.5, N))"
      ],
      "metadata": {
        "id": "HihqPOtBS7-A"
      },
      "execution_count": 16,
      "outputs": []
    },
    {
      "cell_type": "code",
      "source": [
        "with model:\n",
        "    first_coin_flips = pm.Bernoulli(\"first_flips\", 0.5, shape=N, testval=np.random.binomial(1, 0.5, N))"
      ],
      "metadata": {
        "id": "BeOqylo6Tfsl"
      },
      "execution_count": 17,
      "outputs": []
    },
    {
      "cell_type": "code",
      "source": [
        "with model:\n",
        "    second_coin_flips = pm.Bernoulli(\"second_flips\", 0.5, shape=N, testval=np.random.binomial(1, 0.5, N))"
      ],
      "metadata": {
        "id": "RzHYqfb1TySN"
      },
      "execution_count": 18,
      "outputs": []
    },
    {
      "cell_type": "code",
      "source": [
        "import theano.tensor as tt\n",
        "with model:\n",
        "    val = first_coin_flips*true_answers + (1 - first_coin_flips)*second_coin_flips\n",
        "    observed_proportion = pm.Deterministic(\"observed_proportion\", tt.sum(val)/float(N))"
      ],
      "metadata": {
        "id": "ZOjFadNGVhsS"
      },
      "execution_count": 19,
      "outputs": []
    },
    {
      "cell_type": "code",
      "source": [
        "observed_proportion.tag.test_value"
      ],
      "metadata": {
        "colab": {
          "base_uri": "https://localhost:8080/"
        },
        "id": "jmZDTshsVxzv",
        "outputId": "d6a4f1ad-6ba6-4018-acb9-8445beaeaa7a"
      },
      "execution_count": 20,
      "outputs": [
        {
          "output_type": "execute_result",
          "data": {
            "text/plain": [
              "array(0.52999997)"
            ]
          },
          "metadata": {},
          "execution_count": 20
        }
      ]
    },
    {
      "cell_type": "code",
      "source": [
        "X = 35\n",
        "\n",
        "with model:\n",
        "    observations = pm.Binomial(\"obs\", N, observed_proportion, observed=X)"
      ],
      "metadata": {
        "id": "YKdzqHQyWEr7"
      },
      "execution_count": 21,
      "outputs": []
    },
    {
      "cell_type": "code",
      "source": [
        "# To be explained in Chapter 3!\n",
        "with model:\n",
        "    step = pm.Metropolis(vars=[p])\n",
        "    trace = pm.sample(40000, step=step)\n",
        "    burned_trace = trace[15000:]"
      ],
      "metadata": {
        "colab": {
          "base_uri": "https://localhost:8080/",
          "height": 220
        },
        "id": "DiZqf3wEWN_R",
        "outputId": "3fd8e7e2-8169-46b5-faa1-e95caf50dcfe"
      },
      "execution_count": 22,
      "outputs": [
        {
          "output_type": "stream",
          "name": "stderr",
          "text": [
            "/usr/local/lib/python3.7/dist-packages/ipykernel_launcher.py:4: FutureWarning: In v4.0, pm.sample will return an `arviz.InferenceData` object instead of a `MultiTrace` by default. You can pass return_inferencedata=True or return_inferencedata=False to be safe and silence this warning.\n",
            "  after removing the cwd from sys.path.\n",
            "Sequential sampling (2 chains in 1 job)\n",
            "CompoundStep\n",
            ">Metropolis: [freq_cheating]\n",
            ">BinaryGibbsMetropolis: [truths, first_flips, second_flips]\n"
          ]
        },
        {
          "output_type": "display_data",
          "data": {
            "text/html": [
              "\n",
              "<style>\n",
              "    /* Turns off some styling */\n",
              "    progress {\n",
              "        /* gets rid of default border in Firefox and Opera. */\n",
              "        border: none;\n",
              "        /* Needs to be in here for Safari polyfill so background images work as expected. */\n",
              "        background-size: auto;\n",
              "    }\n",
              "    .progress-bar-interrupted, .progress-bar-interrupted::-webkit-progress-bar {\n",
              "        background: #F44336;\n",
              "    }\n",
              "</style>\n"
            ],
            "text/plain": [
              "<IPython.core.display.HTML object>"
            ]
          },
          "metadata": {}
        },
        {
          "output_type": "display_data",
          "data": {
            "text/html": [
              "\n",
              "    <div>\n",
              "      <progress value='41000' class='' max='41000' style='width:300px; height:20px; vertical-align: middle;'></progress>\n",
              "      100.00% [41000/41000 14:59<00:00 Sampling chain 0, 0 divergences]\n",
              "    </div>\n",
              "    "
            ],
            "text/plain": [
              "<IPython.core.display.HTML object>"
            ]
          },
          "metadata": {}
        },
        {
          "output_type": "display_data",
          "data": {
            "text/html": [
              "\n",
              "<style>\n",
              "    /* Turns off some styling */\n",
              "    progress {\n",
              "        /* gets rid of default border in Firefox and Opera. */\n",
              "        border: none;\n",
              "        /* Needs to be in here for Safari polyfill so background images work as expected. */\n",
              "        background-size: auto;\n",
              "    }\n",
              "    .progress-bar-interrupted, .progress-bar-interrupted::-webkit-progress-bar {\n",
              "        background: #F44336;\n",
              "    }\n",
              "</style>\n"
            ],
            "text/plain": [
              "<IPython.core.display.HTML object>"
            ]
          },
          "metadata": {}
        },
        {
          "output_type": "display_data",
          "data": {
            "text/html": [
              "\n",
              "    <div>\n",
              "      <progress value='41000' class='' max='41000' style='width:300px; height:20px; vertical-align: middle;'></progress>\n",
              "      100.00% [41000/41000 14:50<00:00 Sampling chain 1, 0 divergences]\n",
              "    </div>\n",
              "    "
            ],
            "text/plain": [
              "<IPython.core.display.HTML object>"
            ]
          },
          "metadata": {}
        },
        {
          "output_type": "stream",
          "name": "stderr",
          "text": [
            "Sampling 2 chains for 1_000 tune and 40_000 draw iterations (2_000 + 80_000 draws total) took 1790 seconds.\n",
            "The number of effective samples is smaller than 10% for some parameters.\n"
          ]
        }
      ]
    },
    {
      "cell_type": "code",
      "source": [
        "figsize(12.5, 3)\n",
        "p_trace = burned_trace[\"freq_cheating\"][15000:]\n",
        "plt.hist(p_trace, histtype=\"stepfilled\", density=True, alpha=0.85, bins=30, \n",
        "         label=\"posterior distribution\", color=\"#348ABD\")\n",
        "plt.vlines([.05, .35], [0, 0], [5, 5], alpha=0.3)\n",
        "plt.xlim(0, 1)\n",
        "plt.legend();"
      ],
      "metadata": {
        "colab": {
          "base_uri": "https://localhost:8080/",
          "height": 211
        },
        "id": "4aKBY8yGkcPb",
        "outputId": "a1ef43a9-afc9-484f-9774-072e7f487049"
      },
      "execution_count": 23,
      "outputs": [
        {
          "output_type": "display_data",
          "data": {
            "image/png": "[encoded data removed]",
            "text/plain": [
              "<Figure size 900x216 with 1 Axes>"
            ]
          },
          "metadata": {
            "needs_background": "light"
          }
        }
      ]
    }
  ]
}