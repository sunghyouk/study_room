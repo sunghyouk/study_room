{
 "cells": [
  {
   "cell_type": "markdown",
   "metadata": {},
   "source": [
    "# 3. 사이킷런을 타고 떠나는 머신러닝 분류 모델 투어"
   ]
  },
  {
   "cell_type": "code",
   "execution_count": 1,
   "metadata": {},
   "outputs": [],
   "source": [
    "from rich import pretty\n",
    "pretty.install()"
   ]
  },
  {
   "cell_type": "markdown",
   "metadata": {},
   "source": [
    "## 3.1 분류 알고리즘 선택\n",
    "\n",
    "알고리즘을 훈련하기 위한 다섯 가지 주요 단계\n",
    "\n",
    "1. 특성을 선택하고 훈련 샘플을 모음\n",
    "2. 성능 지표를 선택\n",
    "3. 분류 모델과 최적화 알고리즘을 선택\n",
    "4. 모델의 성능을 평가\n",
    "5. 알고리즘을 튜닝\n"
   ]
  },
  {
   "cell_type": "markdown",
   "metadata": {},
   "source": [
    "## 3.2 사이킷런 첫걸음: 퍼셉트론 훈련\n"
   ]
  },
  {
   "cell_type": "code",
   "execution_count": 2,
   "metadata": {},
   "outputs": [
    {
     "name": "stdout",
     "output_type": "stream",
     "text": [
      "클래스 레이블: [0 1 2]\n"
     ]
    }
   ],
   "source": [
    "# data loading\n",
    "from sklearn import datasets\n",
    "import numpy as np\n",
    "\n",
    "iris = datasets.load_iris()\n",
    "X = iris.data[:, [2, 3]]\n",
    "y = iris.target\n",
    "print('클래스 레이블:', np.unique(y))"
   ]
  },
  {
   "cell_type": "code",
   "execution_count": 3,
   "metadata": {},
   "outputs": [],
   "source": [
    "# train test splitting\n",
    "from sklearn.model_selection import train_test_split\n",
    "X_train, X_test, y_train, y_test = train_test_split(\n",
    "    X, y, test_size=0.3, random_state=1, stratify=y\n",
    ")"
   ]
  },
  {
   "cell_type": "code",
   "execution_count": 4,
   "metadata": {},
   "outputs": [
    {
     "name": "stdout",
     "output_type": "stream",
     "text": [
      "y의 레이블 카운트:  [50 50 50]\n"
     ]
    }
   ],
   "source": [
    "print('y의 레이블 카운트: ', np.bincount(y))"
   ]
  },
  {
   "cell_type": "code",
   "execution_count": 5,
   "metadata": {},
   "outputs": [
    {
     "name": "stdout",
     "output_type": "stream",
     "text": [
      "y_train의 레이블 카운트:  [35 35 35]\n"
     ]
    }
   ],
   "source": [
    "print('y_train의 레이블 카운트: ', np.bincount(y_train))"
   ]
  },
  {
   "cell_type": "code",
   "execution_count": 6,
   "metadata": {},
   "outputs": [
    {
     "name": "stdout",
     "output_type": "stream",
     "text": [
      "y_test의 레이블 카운트:  [15 15 15]\n"
     ]
    }
   ],
   "source": [
    "print('y_test의 레이블 카운트: ', np.bincount(y_test))"
   ]
  },
  {
   "cell_type": "code",
   "execution_count": 7,
   "metadata": {},
   "outputs": [],
   "source": [
    "# 표준화\n",
    "from sklearn.preprocessing import StandardScaler\n",
    "sc = StandardScaler()\n",
    "sc.fit(X_train)\n",
    "X_train_std = sc.transform(X_train)\n",
    "X_test_std = sc.transform(X_test)"
   ]
  },
  {
   "cell_type": "code",
   "execution_count": 8,
   "metadata": {},
   "outputs": [
    {
     "data": {
      "text/plain": [
       "Perceptron(eta0=0.1, random_state=1)"
      ]
     },
     "execution_count": 8,
     "metadata": {},
     "output_type": "execute_result"
    }
   ],
   "source": [
    "# Perceptron training\n",
    "from sklearn.linear_model import Perceptron\n",
    "ppn = Perceptron(eta0=0.1, random_state=1)\n",
    "ppn.fit(X_train_std, y_train)"
   ]
  },
  {
   "cell_type": "code",
   "execution_count": 9,
   "metadata": {},
   "outputs": [
    {
     "name": "stdout",
     "output_type": "stream",
     "text": [
      "잘못 분류된 샘플 개수: 1\n"
     ]
    }
   ],
   "source": [
    "# 오분류\n",
    "y_pred = ppn.predict(X_test_std)\n",
    "print('잘못 분류된 샘플 개수: %d' % (y_test != y_pred).sum())"
   ]
  },
  {
   "cell_type": "code",
   "execution_count": 10,
   "metadata": {},
   "outputs": [
    {
     "name": "stdout",
     "output_type": "stream",
     "text": [
      "정확도: 0.978\n"
     ]
    }
   ],
   "source": [
    "# Accuracy\n",
    "from sklearn.metrics import accuracy_score\n",
    "print('정확도: %.3f' % accuracy_score(y_test, y_pred))"
   ]
  },
  {
   "cell_type": "code",
   "execution_count": 11,
   "metadata": {},
   "outputs": [
    {
     "name": "stdout",
     "output_type": "stream",
     "text": [
      "정확도: 0.978\n"
     ]
    }
   ],
   "source": [
    "print('정확도: %.3f' % ppn.score(X_test_std, y_test))"
   ]
  },
  {
   "cell_type": "code",
   "execution_count": 12,
   "metadata": {},
   "outputs": [],
   "source": [
    "# module loading\n",
    "import matplotlib.pyplot as plt\n",
    "import plot_decision_regions as pltreg"
   ]
  },
  {
   "cell_type": "code",
   "execution_count": 13,
   "metadata": {},
   "outputs": [
    {
     "data": {
      "image/png": "[encoded data removed]"
     },
     "metadata": {
      "needs_background": "light"
     },
     "output_type": "display_data"
    }
   ],
   "source": [
    "# 퍼셉트론 모델의 결정 경계 그리기\n",
    "X_combined_std = np.vstack((X_train_std, X_test_std))\n",
    "y_combined = np.hstack((y_train, y_test))\n",
    "pltreg.plot_decision_regions(X=X_combined_std,\n",
    "                      y=y_combined,\n",
    "                      classifier=ppn,\n",
    "                      test_idx=range(105, 150))\n",
    "plt.xlabel('petal length [standardized]')\n",
    "plt.ylabel('petal width [standardized]')\n",
    "plt.legend(loc='upper left')\n",
    "plt.tight_layout()\n",
    "plt.show()"
   ]
  },
  {
   "cell_type": "markdown",
   "metadata": {},
   "source": [
    "## 3.3 로지스틱 회귀를 사용한 클래스 확률 모델링\n",
    "\n",
    "### 3.3.1 로지스틱 회귀의 이해와 조건부 확률\n",
    "\n",
    "구현하기 매우 쉽고 선형적으로 구분되는 클래스에 뛰어난 성능  \n",
    "\n",
    "**소프트맥스 회귀**: https://sebastianraschka.com/pdf/lecture-notes/stat479ss19/L08_logistic_slides.pdf 참고\n",
    "  - GOTO: 핸즈온 머신러닝 2판, Chapter 4.\n",
    "\n",
    "$$\\phi(z)=\\frac{1}{1+e^{-z}}$$\n",
    "\n",
    "*Example*: 어떤 붓꽃 샘플이 $\\phi(z)=P(y=1|\\mathbb{x;\\,w})=0.8$이면, 이 샘플은 Iris-versicolor일 확률이 80%"
   ]
  },
  {
   "cell_type": "code",
   "execution_count": 14,
   "metadata": {},
   "outputs": [
    {
     "data": {
      "image/png": "[encoded data removed]"
     },
     "metadata": {
      "needs_background": "light"
     },
     "output_type": "display_data"
    }
   ],
   "source": [
    "# 시그모이드 함수 그리기\n",
    "def sigmoid(z):\n",
    "    return 1.0 / (1.0 + np.exp(-z))\n",
    "z = np.arange(-7, 7, 0.1)\n",
    "phi_z = sigmoid(z)\n",
    "plt.plot(z, phi_z)\n",
    "plt.axvline(0.0, color='k')\n",
    "plt.ylim(-0.1, 1.1)\n",
    "plt.xlabel('z')\n",
    "plt.ylabel('$\\phi (z)$')\n",
    "\n",
    "# y 축의 눈금과 격자선\n",
    "plt.yticks([0.0, 0.5, 1.0])\n",
    "ax = plt.gca()\n",
    "ax.yaxis.grid(True)\n",
    "plt.tight_layout()\n",
    "plt.show()"
   ]
  },
  {
   "cell_type": "markdown",
   "metadata": {},
   "source": [
    "### 3.3.2 로지스틱 비용 함수의 가중치 학습\n",
    "\n",
    "제곱 오차항 비용 함수:  \n",
    "$$J(\\mathbb{w})=\\frac{1}{2}\\sum_i(y^{(i)}-\\phi(z^{(i)}))^2$$\n",
    "\n",
    "로지스틱 회귀의 비용 함수:  \n",
    "데이터셋에 있는 각 샘플이 서로 독립적이라고 가정, 최대화하려는 가능도 (likelihood) $L$을 정의  \n",
    "\n",
    "$$L(w)=P(\\mathbb{y}|\\mathbb{x;w})=\\prod_{i=1}^nP(y^{(i)}|\\mathbb{x}^{(i)}\\mathbb{;w}) \\\\\n",
    "=\\prod_{i=1}^n(\\phi(z^{(i)}))^{y^{(i)}}(1-\\phi(z^{(i)}))^{1-y^{(i)}}$$\n",
    "\n",
    "이 공식의 (자연) 로그를 최대화 - 로그 가능도 함수  \n",
    "\n",
    "$$l(w)=\\log{L(w)}=\\sum_{i=1}^n\\left[y^{(i)}\\log(\\phi(z^{(i)}))+(1-y^{(i)})\\log(1-\\phi(z^{(i)}))\\right]$$\n",
    "\n",
    "1) 가능도가 매우 작을 때 일어나는 수치 상의 언더플로를 방지\n",
    "2) 계수의 곱을 계수의 합으로 바꿀 수 있다. - 도함수를 구하기 쉽다.\n"
   ]
  },
  {
   "cell_type": "code",
   "execution_count": 15,
   "metadata": {},
   "outputs": [
    {
     "data": {
      "image/png": "[encoded data removed]"
     },
     "metadata": {
      "needs_background": "light"
     },
     "output_type": "display_data"
    }
   ],
   "source": [
    "# 샘플이 하나인 경우 분류 비용 계산\n",
    "def cost_1(z):\n",
    "    return -np.log(sigmoid(z))\n",
    "def cost_0(z):\n",
    "    return -np.log(1-sigmoid(z))\n",
    "\n",
    "z = np.arange(-10, 10, 0.1)\n",
    "phi_z = sigmoid(z)\n",
    "c1 = [cost_1(x) for x in z]\n",
    "plt.plot(phi_z, c1, label='J(w) y=1')\n",
    "c0 = [cost_0(x) for x in z]\n",
    "plt.plot(phi_z, c0, linestyle='--', label='J(w) y=0')\n",
    "plt.ylim(0.0, 5.1)\n",
    "plt.xlim([0, 1])\n",
    "plt.xlabel('$\\phi$(z)')\n",
    "plt.ylabel('J(w)')\n",
    "plt.legend(loc='best')\n",
    "plt.tight_layout()\n",
    "plt.show()"
   ]
  },
  {
   "cell_type": "markdown",
   "metadata": {},
   "source": [
    "### 3.3.3 아달린 구현을 로지스틱 회귀 알고리즘으로 변경\n",
    "\n",
    "최소화해야 할 비용 함수 (from above section: 3.3.2)  \n",
    "logisticregressiongd.py에 LogisticRegressionGD class 구현  \n",
    "Iris-setosa, versicolor 붓꽃으로 로지스틱 회귀 구현 확인 "
   ]
  },
  {
   "cell_type": "code",
   "execution_count": 16,
   "metadata": {},
   "outputs": [
    {
     "data": {
      "image/png": "[encoded data removed]"
     },
     "metadata": {
      "needs_background": "light"
     },
     "output_type": "display_data"
    }
   ],
   "source": [
    "from logisticregressiongd import LogisticRegressionGD\n",
    "\n",
    "X_train_01_subset = X_train_std[(y_train == 0) | (y_train == 1)]\n",
    "y_train_01_subset = y_train[(y_train == 0) | (y_train == 1)]\n",
    "\n",
    "lrgd = LogisticRegressionGD(eta=0.05, n_iter=1000, random_state=1)\n",
    "lrgd.fit(X_train_01_subset,\n",
    "         y_train_01_subset)\n",
    "\n",
    "pltreg.plot_decision_regions(X=X_train_01_subset, \n",
    "                      y=y_train_01_subset,\n",
    "                      classifier=lrgd)\n",
    "\n",
    "plt.xlabel('petal length [standardized]')\n",
    "plt.ylabel('petal width [standardized]')\n",
    "plt.legend(loc='upper left')\n",
    "\n",
    "plt.tight_layout()\n",
    "# plt.savefig('images/03_05.png', dpi=300)\n",
    "plt.show()"
   ]
  }
 ],
 "metadata": {
  "interpreter": {
   "hash": "8416a3f2a026e985bee17eceb7546469969f3a4d162bd0f7da6d9cc666a7e5f9"
  },
  "kernelspec": {
   "display_name": "Python 3.9.7 64-bit ('base': conda)",
   "language": "python",
   "name": "python3"
  },
  "language_info": {
   "codemirror_mode": {
    "name": "ipython",
    "version": 3
   },
   "file_extension": ".py",
   "mimetype": "text/x-python",
   "name": "python",
   "nbconvert_exporter": "python",
   "pygments_lexer": "ipython3",
   "version": "3.9.7"
  },
  "orig_nbformat": 4
 },
 "nbformat": 4,
 "nbformat_minor": 2
}
