{
 "cells": [
  {
   "cell_type": "markdown",
   "metadata": {},
   "source": [
    "# 3. 사이킷런을 타고 떠나는 머신러닝 분류 모델 투어"
   ]
  },
  {
   "cell_type": "code",
   "execution_count": null,
   "metadata": {},
   "outputs": [],
   "source": [
    "from rich import pretty\n",
    "pretty.install()"
   ]
  },
  {
   "cell_type": "markdown",
   "metadata": {},
   "source": [
    "## 3.1 분류 알고리즘 선택\n",
    "\n",
    "알고리즘을 훈련하기 위한 다섯 가지 주요 단계\n",
    "\n",
    "1. 특성을 선택하고 훈련 샘플을 모음\n",
    "2. 성능 지표를 선택\n",
    "3. 분류 모델과 최적화 알고리즘을 선택\n",
    "4. 모델의 성능을 평가\n",
    "5. 알고리즘을 튜닝\n"
   ]
  },
  {
   "cell_type": "markdown",
   "metadata": {},
   "source": []
  }
 ],
 "metadata": {
  "language_info": {
   "name": "python"
  },
  "orig_nbformat": 4
 },
 "nbformat": 4,
 "nbformat_minor": 2
}
