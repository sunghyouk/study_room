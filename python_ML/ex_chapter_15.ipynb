{
 "cells": [
  {
   "cell_type": "markdown",
   "metadata": {},
   "source": [
    "# 15. 심층 합성곱 신경망으로 이미지 분류\n",
    "\n",
    "구성: 여러개의 `합성곱 층`, 학습되는 파라미터가 없는 `풀링 층` (서브 샘플링 층), 하나 이상의 완전 연결 층 - `다층 퍼셉트론 층`  \n",
    "\n",
    "## 15.1 합성곱 신경망의 구성 요소\n",
    "\n",
    "### 15.1.2 이산 합성곱 수행"
   ]
  },
  {
   "cell_type": "code",
   "execution_count": 1,
   "metadata": {},
   "outputs": [],
   "source": [
    "# 1차원 합성곱 구현\n",
    "import numpy as np\n",
    "def conv1d(x, w, p=0, s=1):\n",
    "    w_rot = np.array(w[::-1])\n",
    "    x_padded = np.array(x)\n",
    "    if p > 0:\n",
    "        zero_pad = np.zeros(shape=p)\n",
    "        x_padded = np.concatenate([zero_pad, x_padded, zero_pad])\n",
    "    res = []\n",
    "    for i in range(0, int((len(x_padded)-len(w_rot))/s+1), s):\n",
    "        res.append(np.sum(x_padded[i:i+w_rot.shape[0]] * w_rot))\n",
    "    return np.array(res)"
   ]
  },
  {
   "cell_type": "code",
   "execution_count": 2,
   "metadata": {},
   "outputs": [],
   "source": [
    "# 2차원 합성곱 구현\n",
    "import scipy.signal\n",
    "\n",
    "def conv2d(X, W, p=(0, 0), s=(1, 1)):\n",
    "    W_rot = np.array(W)[::-1, ::-1]\n",
    "    X_orig = np.array(X)\n",
    "    n1 = X_orig.shape[0] + 2*p[0]\n",
    "    n2 = X_orig.shape[1] + 2*p[1]\n",
    "    X_padded = np.zeros(shape=(n1, n2))\n",
    "    X_padded[p[0]:p[0]+X_orig.shape[0], p[1]:p[1]+X_orig.shape[1]] = X_orig\n",
    "    \n",
    "    res = []\n",
    "    for i in range(0, int((X_padded.shape[0]-W_rot.shape[0])/s[0])+1, s[0]):\n",
    "        res.append([])\n",
    "        for j in range(0, int((X_padded.shape[1]-W_rot.shape[1])/s[1])+1, s[1]):\n",
    "            X_sub = X_padded[i:i+W_rot.shape[0], j:j+W_rot.shape[1]]\n",
    "            res[-1].append(np.sum(X_sub * W_rot))\n",
    "    return(np.array(res))"
   ]
  },
  {
   "cell_type": "markdown",
   "metadata": {},
   "source": [
    "## 15.2 기본 구성 요소를 사용하여 심층 합성곱 신경망 구성\n",
    "\n",
    "### 15.2.2 드롭아웃으로 신경망 규제"
   ]
  },
  {
   "cell_type": "code",
   "execution_count": 3,
   "metadata": {},
   "outputs": [],
   "source": [
    "# 일단 L2 regularization\n",
    "from tensorflow import keras\n",
    "conv_layer = keras.layers.Conv2D(\n",
    "    filters=16,\n",
    "    kernel_size=(3, 3),\n",
    "    kernel_regularizer=keras.regularizers.l2(0.001))"
   ]
  },
  {
   "cell_type": "code",
   "execution_count": 4,
   "metadata": {},
   "outputs": [],
   "source": [
    "fc_layer = keras.layers.Dense(\n",
    "    units=16,\n",
    "    kernel_regularizer=keras.regularizers.l2(0.001))"
   ]
  },
  {
   "cell_type": "markdown",
   "metadata": {},
   "source": [
    "### 15.2.3 분류를 위한 손실 함수"
   ]
  },
  {
   "cell_type": "code",
   "execution_count": 5,
   "metadata": {},
   "outputs": [
    {
     "name": "stderr",
     "output_type": "stream",
     "text": [
      "2022-04-26 23:02:09.741466: I tensorflow/core/platform/cpu_feature_guard.cc:142] This TensorFlow binary is optimized with oneAPI Deep Neural Network Library (oneDNN) to use the following CPU instructions in performance-critical operations:  SSE4.1 SSE4.2 AVX AVX2 FMA\n",
      "To enable them in other operations, rebuild TensorFlow with the appropriate compiler flags.\n",
      "BCE (확률): 0.3711 (로짓): 0.3711\n"
     ]
    }
   ],
   "source": [
    "import tensorflow as tf\n",
    "import tensorflow_datasets as tfds\n",
    "# 이진 크로스 엔트로피 - 이진 분류를 위한 손실함수\n",
    "bce_probas = tf.keras.losses.BinaryCrossentropy(from_logits=False)  # 확률로 계산 결과가 나옴\n",
    "bce_logits = tf.keras.losses.BinaryCrossentropy(from_logits=True)\n",
    "\n",
    "logits = tf.constant([0.8])\n",
    "probas = tf.keras.activations.sigmoid(logits)\n",
    "tf.print(\n",
    "    'BCE (확률): {:.4f}'.format(\n",
    "        bce_probas(y_true=[1], y_pred=probas)),\n",
    "    '(로짓): {:.4f}'.format(\n",
    "        bce_logits(y_true=[1], y_pred=logits)))"
   ]
  },
  {
   "cell_type": "code",
   "execution_count": 13,
   "metadata": {},
   "outputs": [
    {
     "name": "stderr",
     "output_type": "stream",
     "text": [
      "CCE (확률): 0.5996 (로짓): 0.5996\n"
     ]
    }
   ],
   "source": [
    "# 범주형 크로스 엔트로피\n",
    "cce_probas = tf.keras.losses.CategoricalCrossentropy(from_logits=False)\n",
    "cce_logits = tf.keras.losses.CategoricalCrossentropy(from_logits=True)\n",
    "\n",
    "logits = tf.constant([[1.5, 0.8, 2.1]])\n",
    "probas = tf.keras.activations.softmax(logits)\n",
    "tf.print(\n",
    "    'CCE (확률): {:.4f}'.format(cce_probas(y_true=[[0, 0, 1]], y_pred=probas)),\n",
    "    '(로짓): {:.4f}'.format(cce_logits(y_true=[[0, 0, 1]], y_pred=logits)))"
   ]
  },
  {
   "cell_type": "code",
   "execution_count": 14,
   "metadata": {},
   "outputs": [
    {
     "name": "stderr",
     "output_type": "stream",
     "text": [
      "Sparse CCE (확률): 0.5996 (로짓): 0.5996\n"
     ]
    }
   ],
   "source": [
    "# 희소 범주형 크로스 엔트로피\n",
    "sp_cce_probas = tf.keras.losses.SparseCategoricalCrossentropy(from_logits=False)\n",
    "sp_cce_logits = tf.keras.losses.SparseCategoricalCrossentropy(from_logits=True)\n",
    "\n",
    "tf.print('Sparse CCE (확률): {:.4f}'.format(sp_cce_probas(y_true=[2], y_pred=probas)),\n",
    "         '(로짓): {:.4f}'.format(sp_cce_logits(y_true=[2], y_pred=logits)))"
   ]
  },
  {
   "cell_type": "markdown",
   "metadata": {},
   "source": [
    "## 15.3 텐서플로를 사용하여 심층 합성곱 신경망 구현\n",
    "\n",
    "### 15.3.2 데이터 적재와 전처리"
   ]
  },
  {
   "cell_type": "code",
   "execution_count": 1,
   "metadata": {},
   "outputs": [
    {
     "name": "stderr",
     "output_type": "stream",
     "text": [
      "2022-04-27 10:18:04.056258: I tensorflow/core/platform/cpu_feature_guard.cc:142] This TensorFlow binary is optimized with oneAPI Deep Neural Network Library (oneDNN) to use the following CPU instructions in performance-critical operations:  SSE4.1 SSE4.2 AVX AVX2 FMA\n",
      "To enable them in other operations, rebuild TensorFlow with the appropriate compiler flags.\n"
     ]
    }
   ],
   "source": [
    "import tensorflow_datasets as tfds\n",
    "\n",
    "mnist_bldr = tfds.builder('mnist')\n",
    "mnist_bldr.download_and_prepare()\n",
    "datasets = mnist_bldr.as_dataset(shuffle_files=False)\n",
    "mnist_train_orig = datasets['train']\n",
    "mnist_test_orig = datasets['test']"
   ]
  },
  {
   "cell_type": "code",
   "execution_count": 9,
   "metadata": {},
   "outputs": [],
   "source": [
    "# validation set 나누기\n",
    "import tensorflow as tf\n",
    "\n",
    "BUFFER_SIZE = 10000\n",
    "BATCH_SIZE = 64\n",
    "NUM_EPOCHS = 20\n",
    "mnist_train = mnist_train_orig.map(\n",
    "    lambda item: (tf.cast(item['image'], tf.float32) / 255.0,\n",
    "                  tf.cast(item['label'], tf.int32))\n",
    ")\n",
    "mnist_test = mnist_test_orig.map(\n",
    "    lambda item: (tf.cast(item['image'], tf.float32) / 255.0,\n",
    "                  tf.cast(item['label'], tf.int32))\n",
    ")\n",
    "tf.random.set_seed(1)\n",
    "mnist_train = mnist_train.shuffle(buffer_size=BUFFER_SIZE,\n",
    "                                  reshuffle_each_iteration=False)\n",
    "mnist_valid = mnist_train.take(10000).batch(BATCH_SIZE)\n",
    "mnist_train = mnist_train.skip(10000).batch(BATCH_SIZE)"
   ]
  },
  {
   "cell_type": "markdown",
   "metadata": {},
   "source": [
    "### 15.3.3 텐서플로 케라스 API를 사용하여 CNN 구현"
   ]
  },
  {
   "cell_type": "code",
   "execution_count": 10,
   "metadata": {},
   "outputs": [],
   "source": [
    "model = tf.keras.Sequential()\n",
    "model.add(tf.keras.layers.Conv2D(\n",
    "    filters=32, kernel_size=(5, 5), strides=(1, 1), padding='same',\n",
    "    data_format='channels_last',\n",
    "    name='conv_1', activation='relu'))\n",
    "\n",
    "model.add(tf.keras.layers.MaxPool2D(\n",
    "    pool_size=(2, 2), name='pool_1'))\n",
    "\n",
    "model.add(tf.keras.layers.Conv2D(\n",
    "    filters=64, kernel_size=(5, 5), strides=(1, 1), padding='same',\n",
    "    name='conv_2', activation='relu'))\n",
    "\n",
    "model.add(tf.keras.layers.MaxPool2D(\n",
    "    pool_size=(2, 2), name='pool_2'))"
   ]
  },
  {
   "cell_type": "code",
   "execution_count": 11,
   "metadata": {},
   "outputs": [
    {
     "data": {
      "text/plain": [
       "TensorShape([16, 7, 7, 64])"
      ]
     },
     "execution_count": 11,
     "metadata": {},
     "output_type": "execute_result"
    }
   ],
   "source": [
    "# 특성 맵의 크기는?\n",
    "model.compute_output_shape(input_shape=(16, 28, 28, 1))"
   ]
  },
  {
   "cell_type": "code",
   "execution_count": 12,
   "metadata": {},
   "outputs": [
    {
     "data": {
      "text/plain": [
       "TensorShape([16, 3136])"
      ]
     },
     "execution_count": 12,
     "metadata": {},
     "output_type": "execute_result"
    }
   ],
   "source": [
    "# 분류를 위해 완전 연결 층에 연결하기\n",
    "model.add(tf.keras.layers.Flatten())\n",
    "model.compute_output_shape(input_shape=(16, 28, 28, 1))"
   ]
  },
  {
   "cell_type": "code",
   "execution_count": 13,
   "metadata": {},
   "outputs": [],
   "source": [
    "# 두 개 밀집층 + 드롭 아웃 층 추가\n",
    "model.add(tf.keras.layers.Dense(\n",
    "    units=1024, name='fc_1', activation='relu'))\n",
    "\n",
    "model.add(tf.keras.layers.Dropout(rate=0.5))\n",
    "\n",
    "model.add(tf.keras.layers.Dense(\n",
    "    units=10, name='fc_2', activation='softmax'))"
   ]
  },
  {
   "cell_type": "code",
   "execution_count": 14,
   "metadata": {},
   "outputs": [],
   "source": [
    "# 모델 build -> compile\n",
    "tf.random.set_seed(1)\n",
    "model.build(input_shape=(None, 28, 28, 1))\n",
    "model.compile(\n",
    "    optimizer=tf.keras.optimizers.Adam(),\n",
    "    loss=tf.keras.losses.SparseCategoricalCrossentropy(),\n",
    "    metrics=['accuracy'])"
   ]
  },
  {
   "cell_type": "code",
   "execution_count": 15,
   "metadata": {},
   "outputs": [
    {
     "name": "stdout",
     "output_type": "stream",
     "text": [
      "Epoch 1/20\n"
     ]
    },
    {
     "name": "stderr",
     "output_type": "stream",
     "text": [
      "2022-04-27 10:44:34.994688: I tensorflow/compiler/mlir/mlir_graph_optimization_pass.cc:116] None of the MLIR optimization passes are enabled (registered 2)\n"
     ]
    },
    {
     "name": "stdout",
     "output_type": "stream",
     "text": [
      "782/782 [==============================] - 81s 102ms/step - loss: 0.3113 - accuracy: 0.9017 - val_loss: 0.0466 - val_accuracy: 0.9853\n",
      "Epoch 2/20\n",
      "782/782 [==============================] - 85s 108ms/step - loss: 0.0483 - accuracy: 0.9853 - val_loss: 0.0413 - val_accuracy: 0.9866\n",
      "Epoch 3/20\n",
      "782/782 [==============================] - 83s 105ms/step - loss: 0.0304 - accuracy: 0.9904 - val_loss: 0.0400 - val_accuracy: 0.9885\n",
      "Epoch 4/20\n",
      "782/782 [==============================] - 78s 99ms/step - loss: 0.0243 - accuracy: 0.9923 - val_loss: 0.0331 - val_accuracy: 0.9902\n",
      "Epoch 5/20\n",
      "782/782 [==============================] - 67s 85ms/step - loss: 0.0196 - accuracy: 0.9937 - val_loss: 0.0417 - val_accuracy: 0.9890\n",
      "Epoch 6/20\n",
      "782/782 [==============================] - 63s 80ms/step - loss: 0.0149 - accuracy: 0.9955 - val_loss: 0.0481 - val_accuracy: 0.9879\n",
      "Epoch 7/20\n",
      "782/782 [==============================] - 57s 73ms/step - loss: 0.0132 - accuracy: 0.9957 - val_loss: 0.0408 - val_accuracy: 0.9899\n",
      "Epoch 8/20\n",
      "782/782 [==============================] - 57s 73ms/step - loss: 0.0116 - accuracy: 0.9963 - val_loss: 0.0377 - val_accuracy: 0.9923\n",
      "Epoch 9/20\n",
      "782/782 [==============================] - 58s 74ms/step - loss: 0.0090 - accuracy: 0.9973 - val_loss: 0.0439 - val_accuracy: 0.9903\n",
      "Epoch 10/20\n",
      "782/782 [==============================] - 58s 73ms/step - loss: 0.0091 - accuracy: 0.9971 - val_loss: 0.0386 - val_accuracy: 0.9916\n",
      "Epoch 11/20\n",
      "782/782 [==============================] - 57s 73ms/step - loss: 0.0083 - accuracy: 0.9972 - val_loss: 0.0485 - val_accuracy: 0.9909\n",
      "Epoch 12/20\n",
      "782/782 [==============================] - 59s 75ms/step - loss: 0.0072 - accuracy: 0.9975 - val_loss: 0.0453 - val_accuracy: 0.9910\n",
      "Epoch 13/20\n",
      "782/782 [==============================] - 58s 74ms/step - loss: 0.0066 - accuracy: 0.9979 - val_loss: 0.0597 - val_accuracy: 0.9883\n",
      "Epoch 14/20\n",
      "782/782 [==============================] - 58s 73ms/step - loss: 0.0086 - accuracy: 0.9973 - val_loss: 0.0515 - val_accuracy: 0.9908\n",
      "Epoch 15/20\n",
      "782/782 [==============================] - 58s 74ms/step - loss: 0.0086 - accuracy: 0.9975 - val_loss: 0.0530 - val_accuracy: 0.9916\n",
      "Epoch 16/20\n",
      "782/782 [==============================] - 58s 74ms/step - loss: 0.0059 - accuracy: 0.9981 - val_loss: 0.0495 - val_accuracy: 0.9922\n",
      "Epoch 17/20\n",
      "782/782 [==============================] - 106s 135ms/step - loss: 0.0057 - accuracy: 0.9982 - val_loss: 0.0533 - val_accuracy: 0.9916\n",
      "Epoch 18/20\n",
      "782/782 [==============================] - 75s 96ms/step - loss: 0.0053 - accuracy: 0.9984 - val_loss: 0.0603 - val_accuracy: 0.9908\n",
      "Epoch 19/20\n",
      "782/782 [==============================] - 82s 104ms/step - loss: 0.0084 - accuracy: 0.9977 - val_loss: 0.0653 - val_accuracy: 0.9890\n",
      "Epoch 20/20\n",
      "782/782 [==============================] - 79s 100ms/step - loss: 0.0059 - accuracy: 0.9982 - val_loss: 0.0618 - val_accuracy: 0.9915\n"
     ]
    }
   ],
   "source": [
    "# fit() on validation set - evaluate () - predict()\n",
    "history = model.fit(mnist_train, epochs=NUM_EPOCHS,\n",
    "                    validation_data=mnist_valid,\n",
    "                    shuffle=True)"
   ]
  },
  {
   "cell_type": "code",
   "execution_count": 17,
   "metadata": {},
   "outputs": [
    {
     "data": {
      "image/png": "[encoded data removed]",
      "text/plain": [
       "<Figure size 864x288 with 2 Axes>"
      ]
     },
     "metadata": {
      "needs_background": "light"
     },
     "output_type": "display_data"
    }
   ],
   "source": [
    "# 학습 곡선 그리기\n",
    "import matplotlib.pyplot as plt\n",
    "import numpy as np\n",
    "hist = history.history\n",
    "x_arr = np.arange(len(hist['loss'])) + 1\n",
    "fig = plt.figure(figsize=(12, 4))\n",
    "\n",
    "ax = fig.add_subplot(1, 2, 1)\n",
    "ax.plot(x_arr, hist['loss'], '-o', label='Training loss')\n",
    "ax.plot(x_arr, hist['val_loss'], '--<', label='Validation loss')\n",
    "ax.set_xlabel('Epoch', size=15)\n",
    "ax.set_ylabel('Loss', size=15)\n",
    "ax.legend(fontsize=15)\n",
    "\n",
    "ax = fig.add_subplot(1, 2, 2)\n",
    "ax.plot(x_arr, hist['accuracy'], '-o', label='Training acc.')\n",
    "ax.plot(x_arr, hist['val_accuracy'], '--<', label='Validation acc.')\n",
    "ax.legend(fontsize=15)\n",
    "ax.set_xlabel('Epoch', size=15)\n",
    "ax.set_ylabel('Accuracy', size=15)\n",
    "\n",
    "plt.show()"
   ]
  },
  {
   "cell_type": "code",
   "execution_count": 19,
   "metadata": {},
   "outputs": [
    {
     "name": "stdout",
     "output_type": "stream",
     "text": [
      "500/500 [==============================] - 4s 8ms/step - loss: 0.0464 - accuracy: 0.9923\n",
      "테스트 정확도: 99.23%\n"
     ]
    }
   ],
   "source": [
    "# evaluate()\n",
    "test_results = model.evaluate(mnist_test.batch(20))\n",
    "print('테스트 정확도: {:.2f}%'.format(test_results[1] * 100))"
   ]
  },
  {
   "cell_type": "code",
   "execution_count": 20,
   "metadata": {},
   "outputs": [
    {
     "name": "stdout",
     "output_type": "stream",
     "text": [
      "TensorShape([12, 10])\n"
     ]
    }
   ],
   "source": [
    "# 입력과 예측 레이블을 그래프로 그려보기\n",
    "batch_test = next(iter(mnist_test.batch(12)))\n",
    "preds = model(batch_test[0])\n",
    "tf.print(preds.shape)"
   ]
  },
  {
   "cell_type": "code",
   "execution_count": 21,
   "metadata": {},
   "outputs": [
    {
     "name": "stdout",
     "output_type": "stream",
     "text": [
      "tf.Tensor([2 0 4 8 7 6 0 6 3 1 8 0], shape=(12,), dtype=int64)\n"
     ]
    }
   ],
   "source": [
    "preds = tf.argmax(preds, axis=1)\n",
    "print(preds)"
   ]
  },
  {
   "cell_type": "code",
   "execution_count": 22,
   "metadata": {},
   "outputs": [
    {
     "data": {
      "image/png": "[encoded data removed]",
      "text/plain": [
       "<Figure size 864x288 with 12 Axes>"
      ]
     },
     "metadata": {},
     "output_type": "display_data"
    }
   ],
   "source": [
    "fig = plt.figure(figsize=(12, 4))\n",
    "for i in range(12):\n",
    "    ax = fig.add_subplot(2, 6, i+1)\n",
    "    ax.set_xticks([]); ax.set_yticks([])\n",
    "    img = batch_test[0][i, :, :, 0]\n",
    "    ax.imshow(img, cmap='gray_r')\n",
    "    ax.text(0.9, 0.1, '{}'.format(preds[i]),\n",
    "            size=15, color='blue',\n",
    "            horizontalalignment='center',\n",
    "            verticalalignment='center',\n",
    "            transform=ax.transAxes)\n",
    "plt.show()"
   ]
  },
  {
   "cell_type": "markdown",
   "metadata": {},
   "source": [
    "## 15.4 합성곱 신경망을 사용하여 얼굴 이미지의 성별 분류"
   ]
  },
  {
   "cell_type": "code",
   "execution_count": null,
   "metadata": {},
   "outputs": [],
   "source": []
  }
 ],
 "metadata": {
  "interpreter": {
   "hash": "dc1b947dce198ff7f2d2cb152b2cbb61132fce4429fa808fd5b89ac4d7df39fa"
  },
  "kernelspec": {
   "display_name": "Python 3.7.13 ('tf')",
   "language": "python",
   "name": "python3"
  },
  "language_info": {
   "codemirror_mode": {
    "name": "ipython",
    "version": 3
   },
   "file_extension": ".py",
   "mimetype": "text/x-python",
   "name": "python",
   "nbconvert_exporter": "python",
   "pygments_lexer": "ipython3",
   "version": "3.7.13"
  },
  "orig_nbformat": 4
 },
 "nbformat": 4,
 "nbformat_minor": 2
}
