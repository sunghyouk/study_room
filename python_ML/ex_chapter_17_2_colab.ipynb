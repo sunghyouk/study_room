{
 "cells": [
  {
   "cell_type": "markdown",
   "metadata": {},
   "source": [
    "## 17.3 합성곱 GAN과 바서슈타인 GAN으로 합성 이미지 품질 높이기\n",
    "\n",
    "### 17.3.1 전치 합성곱\n",
    "\n",
    "### 17.3.2 배치 정규화\n",
    "\n",
    "`tf.keras.layers.BatchNormalization()`  \n",
    "\n",
    "### 17.3.3 생성자와 판별자 구현\n",
    "\n",
    "`tf.keras.layers.Conv2DTranspose()`"
   ]
  },
  {
   "cell_type": "code",
   "execution_count": 4,
   "metadata": {},
   "outputs": [],
   "source": [
    "import tensorflow as tf\n",
    "import tensorflow_datasets as tfds\n",
    "import numpy as np"
   ]
  },
  {
   "cell_type": "code",
   "execution_count": 8,
   "metadata": {},
   "outputs": [],
   "source": [
    "# 생성자와 판별자 신경망을 만드는 헬퍼 함수 코드\n",
    "def make_dcgan_generator(\n",
    "    z_size=20,\n",
    "    output_size=(28, 28, 1),\n",
    "    n_filters=128,\n",
    "    n_blocks=2):\n",
    "    size_factor = 2**n_blocks\n",
    "    hidden_size = (\n",
    "        output_size[0]//size_factor,\n",
    "        output_size[1]//size_factor)\n",
    "    \n",
    "    model = tf.keras.Sequential([\n",
    "        tf.keras.layers.Input(shape=(z_size,)),\n",
    "        \n",
    "        tf.keras.layers.Dense(\n",
    "            units=n_filters * np.prod(hidden_size),\n",
    "            use_bias=False),\n",
    "        tf.keras.layers.BatchNormalization(),\n",
    "        tf.keras.layers.LeakyReLU(),\n",
    "        tf.keras.layers.Reshape(\n",
    "            (hidden_size[0], hidden_size[1], n_filters)),\n",
    "        \n",
    "        tf.keras.layers.Conv2DTranspose(\n",
    "            filters=n_filters, kernel_size=(5, 5),\n",
    "            strides=(1, 1), padding='same', use_bias=False),\n",
    "        tf.keras.layers.BatchNormalization(),\n",
    "        tf.keras.layers.LeakyReLU()\n",
    "    ])\n",
    "    \n",
    "    nf = n_filters\n",
    "    for i in range(n_blocks):\n",
    "        nf = nf//2\n",
    "        model.add(\n",
    "            tf.keras.layers.Conv2DTranspose(\n",
    "                filters=nf, kernel_size=(5, 5),\n",
    "                strides=(2, 2), padding='same',\n",
    "                use_bias=False))\n",
    "        model.add(tf.keras.layers.BatchNormalization())\n",
    "        model.add(tf.keras.layers.LeakyReLU())\n",
    "        \n",
    "    model.add(\n",
    "        tf.keras.layers.Conv2DTranspose(\n",
    "            filters=output_size[2], kernel_size=(5, 5),\n",
    "            strides=(1, 1), padding='same', use_bias=False,\n",
    "            activation='tanh'))\n",
    "    \n",
    "    return model\n",
    "\n",
    "def make_dcgan_discriminator(\n",
    "    input_size=(28, 28, 1),\n",
    "    n_filters=64,\n",
    "    n_blocks=2):\n",
    "    model = tf.keras.Sequential([\n",
    "        tf.keras.layers.Input(shape=input_size),\n",
    "        tf.keras.layers.Conv2D(\n",
    "            filters=n_filters, kernel_size=5,\n",
    "            strides=(1, 1), padding='same'),\n",
    "        tf.keras.layers.BatchNormalization(),\n",
    "        tf.keras.layers.LeakyReLU()\n",
    "    ])\n",
    "    \n",
    "    nf = n_filters\n",
    "    for i in range(n_blocks):\n",
    "        nf = nf*2\n",
    "        model.add(\n",
    "            tf.keras.layers.Conv2D(\n",
    "                filters=nf, kernel_size=(5, 5),\n",
    "                strides=(2, 2), padding='same'))\n",
    "        model.add(tf.keras.layers.BatchNormalization())\n",
    "        model.add(tf.keras.layers.LeakyReLU())\n",
    "        model.add(tf.keras.layers.Dropout(0.3))\n",
    "        \n",
    "    model.add(\n",
    "        tf.keras.layers.Conv2D(\n",
    "            filters=1, kernel_size=(7, 7),\n",
    "            padding='valid'))\n",
    "    \n",
    "    model.add(tf.keras.layers.Reshape((1,)))\n",
    "    \n",
    "    return model"
   ]
  },
  {
   "cell_type": "code",
   "execution_count": 5,
   "metadata": {},
   "outputs": [
    {
     "name": "stderr",
     "output_type": "stream",
     "text": [
      "2022-04-29 21:55:40.842272: I tensorflow/core/platform/cpu_feature_guard.cc:142] This TensorFlow binary is optimized with oneAPI Deep Neural Network Library (oneDNN) to use the following CPU instructions in performance-critical operations:  SSE4.1 SSE4.2 AVX AVX2 FMA\n",
      "To enable them in other operations, rebuild TensorFlow with the appropriate compiler flags.\n"
     ]
    }
   ],
   "source": [
    "mnist_bldr = tfds.builder('mnist')\n",
    "mnist_bldr.download_and_prepare()\n",
    "mnist = mnist_bldr.as_dataset(shuffle_files=False)"
   ]
  },
  {
   "cell_type": "code",
   "execution_count": 9,
   "metadata": {},
   "outputs": [],
   "source": [
    "# preprocess: 펼친 벡터가 아니라 이미지 텐서를 출력\n",
    "z_size = 20\n",
    "def preprocess(ex, mode='uniform'):\n",
    "    image = ex['image']\n",
    "    image = tf.image.convert_image_dtype(image, tf.float32)\n",
    "    \n",
    "    image = image*2 - 1.0\n",
    "    if mode == 'uniform':\n",
    "        input_z = tf.random.uniform(\n",
    "            shape=(z_size,), minval=-1.0, maxval=1.0)\n",
    "    elif mode == 'normal':\n",
    "        input_z = tf.random.normal(shape=(z_size,))\n",
    "    return input_z, image"
   ]
  },
  {
   "cell_type": "code",
   "execution_count": 10,
   "metadata": {},
   "outputs": [
    {
     "name": "stdout",
     "output_type": "stream",
     "text": [
      "Model: \"sequential\"\n",
      "_________________________________________________________________\n",
      "Layer (type)                 Output Shape              Param #   \n",
      "=================================================================\n",
      "dense_1 (Dense)              (None, 6272)              125440    \n",
      "_________________________________________________________________\n",
      "batch_normalization_1 (Batch (None, 6272)              25088     \n",
      "_________________________________________________________________\n",
      "leaky_re_lu_1 (LeakyReLU)    (None, 6272)              0         \n",
      "_________________________________________________________________\n",
      "reshape_1 (Reshape)          (None, 7, 7, 128)         0         \n",
      "_________________________________________________________________\n",
      "conv2d_transpose (Conv2DTran (None, 7, 7, 128)         409600    \n",
      "_________________________________________________________________\n",
      "batch_normalization_2 (Batch (None, 7, 7, 128)         512       \n",
      "_________________________________________________________________\n",
      "leaky_re_lu_2 (LeakyReLU)    (None, 7, 7, 128)         0         \n",
      "_________________________________________________________________\n",
      "conv2d_transpose_1 (Conv2DTr (None, 14, 14, 64)        204800    \n",
      "_________________________________________________________________\n",
      "batch_normalization_3 (Batch (None, 14, 14, 64)        256       \n",
      "_________________________________________________________________\n",
      "leaky_re_lu_3 (LeakyReLU)    (None, 14, 14, 64)        0         \n",
      "_________________________________________________________________\n",
      "conv2d_transpose_2 (Conv2DTr (None, 28, 28, 32)        51200     \n",
      "_________________________________________________________________\n",
      "batch_normalization_4 (Batch (None, 28, 28, 32)        128       \n",
      "_________________________________________________________________\n",
      "leaky_re_lu_4 (LeakyReLU)    (None, 28, 28, 32)        0         \n",
      "_________________________________________________________________\n",
      "conv2d_transpose_3 (Conv2DTr (None, 28, 28, 1)         800       \n",
      "=================================================================\n",
      "Total params: 817,824\n",
      "Trainable params: 804,832\n",
      "Non-trainable params: 12,992\n",
      "_________________________________________________________________\n"
     ]
    }
   ],
   "source": [
    "# 생성자 신경망 만들기\n",
    "gen_model = make_dcgan_generator()\n",
    "gen_model.summary()"
   ]
  },
  {
   "cell_type": "code",
   "execution_count": 11,
   "metadata": {},
   "outputs": [
    {
     "name": "stdout",
     "output_type": "stream",
     "text": [
      "Model: \"sequential_1\"\n",
      "_________________________________________________________________\n",
      "Layer (type)                 Output Shape              Param #   \n",
      "=================================================================\n",
      "conv2d (Conv2D)              (None, 28, 28, 64)        1664      \n",
      "_________________________________________________________________\n",
      "batch_normalization_5 (Batch (None, 28, 28, 64)        256       \n",
      "_________________________________________________________________\n",
      "leaky_re_lu_5 (LeakyReLU)    (None, 28, 28, 64)        0         \n",
      "_________________________________________________________________\n",
      "conv2d_1 (Conv2D)            (None, 14, 14, 128)       204928    \n",
      "_________________________________________________________________\n",
      "batch_normalization_6 (Batch (None, 14, 14, 128)       512       \n",
      "_________________________________________________________________\n",
      "leaky_re_lu_6 (LeakyReLU)    (None, 14, 14, 128)       0         \n",
      "_________________________________________________________________\n",
      "dropout (Dropout)            (None, 14, 14, 128)       0         \n",
      "_________________________________________________________________\n",
      "conv2d_2 (Conv2D)            (None, 7, 7, 256)         819456    \n",
      "_________________________________________________________________\n",
      "batch_normalization_7 (Batch (None, 7, 7, 256)         1024      \n",
      "_________________________________________________________________\n",
      "leaky_re_lu_7 (LeakyReLU)    (None, 7, 7, 256)         0         \n",
      "_________________________________________________________________\n",
      "dropout_1 (Dropout)          (None, 7, 7, 256)         0         \n",
      "_________________________________________________________________\n",
      "conv2d_3 (Conv2D)            (None, 1, 1, 1)           12545     \n",
      "_________________________________________________________________\n",
      "reshape_2 (Reshape)          (None, 1)                 0         \n",
      "=================================================================\n",
      "Total params: 1,040,385\n",
      "Trainable params: 1,039,489\n",
      "Non-trainable params: 896\n",
      "_________________________________________________________________\n"
     ]
    }
   ],
   "source": [
    "# 판별자 신경망 만들기\n",
    "disc_model = make_dcgan_discriminator()\n",
    "disc_model.summary()"
   ]
  },
  {
   "cell_type": "code",
   "execution_count": null,
   "metadata": {},
   "outputs": [],
   "source": []
  }
 ],
 "metadata": {
  "interpreter": {
   "hash": "9a9d8a47e6d1f787630eec40e1e20738d7c0865adc0eb090fe6d66afe83eddcf"
  },
  "kernelspec": {
   "display_name": "Python 3.7.13 ('tf')",
   "language": "python",
   "name": "python3"
  },
  "language_info": {
   "codemirror_mode": {
    "name": "ipython",
    "version": 3
   },
   "file_extension": ".py",
   "mimetype": "text/x-python",
   "name": "python",
   "nbconvert_exporter": "python",
   "pygments_lexer": "ipython3",
   "version": "3.7.13"
  },
  "orig_nbformat": 4
 },
 "nbformat": 4,
 "nbformat_minor": 2
}
