{
 "cells": [
  {
   "cell_type": "markdown",
   "metadata": {
    "pycharm": {
     "name": "#%% md\n"
    }
   },
   "source": [
    "# 16. 순환 신경망으로 순차 데이터 모델링\n",
    "\n",
    "## 16.1 순차 데이터 소개\n",
    "\n",
    "## 16.2 시퀀스 모델링을 위한 RNN\n",
    "\n",
    "### 16.2.3 은닉 순환과 출력 순환"
   ]
  },
  {
   "cell_type": "code",
   "execution_count": 1,
   "metadata": {
    "pycharm": {
     "name": "#%%\n"
    }
   },
   "outputs": [
    {
     "name": "stderr",
     "output_type": "stream",
     "text": [
      "2022-04-28 05:50:14.081660: I tensorflow/core/platform/cpu_feature_guard.cc:142] This TensorFlow binary is optimized with oneAPI Deep Neural Network Library (oneDNN) to use the following CPU instructions in performance-critical operations:  SSE4.1 SSE4.2 AVX AVX2 FMA\n",
      "To enable them in other operations, rebuild TensorFlow with the appropriate compiler flags.\n"
     ]
    },
    {
     "name": "stdout",
     "output_type": "stream",
     "text": [
      "W_xh 크기:  (5, 2)\n",
      "W_oo 크기:  (2, 2)\n",
      "b_h 크기:  (2,)\n"
     ]
    }
   ],
   "source": [
    "import tensorflow as tf\n",
    "tf.random.set_seed(1)\n",
    "rnn_layer = tf.keras.layers.SimpleRNN(\n",
    "    units=2, use_bias=True,\n",
    "    return_sequences=True)\n",
    "rnn_layer.build(input_shape=(None, None, 5))\n",
    "w_xh, w_oo, b_h = rnn_layer.weights\n",
    "print('W_xh 크기: ', w_xh.shape)\n",
    "print('W_oo 크기: ', w_oo.shape)\n",
    "print('b_h 크기: ', b_h.shape)"
   ]
  },
  {
   "cell_type": "code",
   "execution_count": 2,
   "metadata": {
    "pycharm": {
     "name": "#%%\n"
    }
   },
   "outputs": [
    {
     "name": "stdout",
     "output_type": "stream",
     "text": [
      "타임 스텝 0 =>\n",
      "  입력  :  [[1. 1. 1. 1. 1.]]\n",
      "  은닉  :  [[0.41464037 0.96012145]]\n",
      "  출력 (수동)  : [[0.39240566 0.74433106]]\n",
      "  SimpleRNN 출력:  [0.39240566 0.74433106]\n",
      "\n",
      "타임 스텝 1 =>\n",
      "  입력  :  [[2. 2. 2. 2. 2.]]\n",
      "  은닉  :  [[0.82928073 1.9202429 ]]\n",
      "  출력 (수동)  : [[0.80116504 0.9912947 ]]\n",
      "  SimpleRNN 출력:  [0.80116504 0.9912947 ]\n",
      "\n",
      "타임 스텝 2 =>\n",
      "  입력  :  [[3. 3. 3. 3. 3.]]\n",
      "  은닉  :  [[1.243921  2.8803642]]\n",
      "  출력 (수동)  : [[0.95468265 0.9993069 ]]\n",
      "  SimpleRNN 출력:  [0.95468265 0.9993069 ]\n",
      "\n"
     ]
    }
   ],
   "source": [
    "# 수동으로 구현하기\n",
    "x_seq = tf.convert_to_tensor(\n",
    "    [[1.0]*5, [2.0]*5, [3.0]*5], dtype=tf.float32)\n",
    "## simple RNN의 출력\n",
    "output = rnn_layer(tf.reshape(x_seq, shape=(1, 3, 5)))\n",
    "## 수동으로 출력 계산하기\n",
    "out_man = []\n",
    "for t in range(len(x_seq)):\n",
    "    xt = tf.reshape(x_seq[t], (1, 5))\n",
    "    print('타임 스텝 {} =>'.format(t))\n",
    "    print('  입력  : ', xt.numpy())\n",
    "    \n",
    "    ht = tf.matmul(xt, w_xh) + b_h\n",
    "    print('  은닉  : ', ht.numpy())\n",
    "    \n",
    "    if t > 0:\n",
    "        prev_o = out_man[t-1]\n",
    "    else:\n",
    "        prev_o = tf.zeros(shape=(ht.shape))\n",
    "    ot = ht + tf.matmul(prev_o, w_oo)\n",
    "    ot = tf.math.tanh(ot)\n",
    "    out_man.append(ot)\n",
    "    print('  출력 (수동)  :', ot.numpy())\n",
    "    print('  SimpleRNN 출력: '.format(t), output[0][t].numpy())\n",
    "    print()"
   ]
  },
  {
   "cell_type": "markdown",
   "metadata": {
    "pycharm": {
     "name": "#%% md\n"
    }
   },
   "source": [
    "## 16.3 텐서플로로 시퀀스 모델링을 위한 RNN 구현\n",
    "\n",
    "### 16.3.1 첫 번째 프로젝트: IMDb 영화 리뷰의 감성 분석"
   ]
  },
  {
   "cell_type": "code",
   "execution_count": 3,
   "metadata": {
    "pycharm": {
     "name": "#%%\n"
    }
   },
   "outputs": [],
   "source": [
    "import tensorflow as tf\n",
    "import tensorflow_datasets as tfds\n",
    "import numpy as np\n",
    "import pandas as pd\n",
    "\n",
    "df = pd.read_csv('movie_data.csv', encoding='utf-8')"
   ]
  },
  {
   "cell_type": "code",
   "execution_count": 4,
   "metadata": {
    "pycharm": {
     "name": "#%%\n"
    }
   },
   "outputs": [
    {
     "name": "stdout",
     "output_type": "stream",
     "text": [
      "b'In 1974, the teenager Martha Moxley (Maggie Grace)' 1\n",
      "b'OK... so... I really like Kris Kristofferson and h' 0\n",
      "b'***SPOILER*** Do not read this, if you think about' 0\n"
     ]
    }
   ],
   "source": [
    "# 1 단계 - 데이터셋 만들기\n",
    "target = df.pop('sentiment')\n",
    "ds_raw = tf.data.Dataset.from_tensor_slices(\n",
    "    (df.values, target.values))\n",
    "\n",
    "# 확인\n",
    "for ex in ds_raw.take(3):\n",
    "    tf.print(ex[0].numpy()[0][:50], ex[1])"
   ]
  },
  {
   "cell_type": "code",
   "execution_count": 5,
   "metadata": {
    "pycharm": {
     "name": "#%%\n"
    }
   },
   "outputs": [],
   "source": [
    "# 훈련, 검증, 테스트셋 나누기\n",
    "tf.random.set_seed(1)\n",
    "ds_raw = ds_raw.shuffle(\n",
    "    50000, reshuffle_each_iteration=False)\n",
    "ds_raw_test = ds_raw.take(25000)\n",
    "ds_raw_train_valid = ds_raw.skip(25000)\n",
    "ds_raw_train = ds_raw_train_valid.take(20000)\n",
    "ds_raw_valid = ds_raw_train_valid.skip(20000)"
   ]
  },
  {
   "cell_type": "code",
   "execution_count": 6,
   "metadata": {
    "pycharm": {
     "name": "#%%\n"
    }
   },
   "outputs": [
    {
     "name": "stdout",
     "output_type": "stream",
     "text": [
      "어휘 사전 크기:  87007\n"
     ]
    }
   ],
   "source": [
    "# 2 단계 - 고유 토큰 (단어) 찾기\n",
    "from collections import Counter\n",
    "tokenizer = tfds.deprecated.text.Tokenizer()\n",
    "token_counts = Counter()\n",
    "for example in ds_raw_train:\n",
    "    tokens = tokenizer.tokenize(example[0].numpy()[0])\n",
    "    token_counts.update(tokens)\n",
    "print('어휘 사전 크기: ', len(token_counts))"
   ]
  },
  {
   "cell_type": "code",
   "execution_count": 7,
   "metadata": {},
   "outputs": [
    {
     "name": "stdout",
     "output_type": "stream",
     "text": [
      "[232, 9, 270, 1123]\n"
     ]
    }
   ],
   "source": [
    "# 3 단계: 코유 토큰을 정수로 인코딩하기\n",
    "encoder = tfds.deprecated.text.TokenTextEncoder(token_counts)\n",
    "example_str = 'This is an example!'\n",
    "print(encoder.encode(example_str))"
   ]
  },
  {
   "cell_type": "code",
   "execution_count": 8,
   "metadata": {},
   "outputs": [],
   "source": [
    "# 3-A: 변환을 위한 함수 정의\n",
    "def encode(text_tensor, label):\n",
    "    text = text_tensor.numpy()[0]\n",
    "    encoded_text = encoder.encode(text)\n",
    "    return encoded_text, label\n",
    "\n",
    "# 3-B: 함수를 TF 연산으로 변환\n",
    "def encode_map_fn(text, label):\n",
    "    return tf.py_function(encode, inp=[text, label],\n",
    "                          Tout=(tf.int64, tf.int64))"
   ]
  },
  {
   "cell_type": "code",
   "execution_count": 9,
   "metadata": {},
   "outputs": [
    {
     "name": "stderr",
     "output_type": "stream",
     "text": [
      "2022-04-28 06:32:10.317261: I tensorflow/compiler/mlir/mlir_graph_optimization_pass.cc:116] None of the MLIR optimization passes are enabled (registered 2)\n"
     ]
    },
    {
     "name": "stdout",
     "output_type": "stream",
     "text": [
      "시퀀스 길이:  (24,)\n",
      "시퀀스 길이:  (179,)\n",
      "시퀀스 길이:  (262,)\n",
      "시퀀스 길이:  (535,)\n",
      "시퀀스 길이:  (130,)\n"
     ]
    }
   ],
   "source": [
    "ds_train = ds_raw_train.map(encode_map_fn)\n",
    "ds_valid = ds_raw_valid.map(encode_map_fn)\n",
    "ds_test = ds_raw_test.map(encode_map_fn)\n",
    "\n",
    "# 샘플의 크기 확인하기\n",
    "tf.random.set_seed(1)\n",
    "for example in ds_train.shuffle(1000).take(5):\n",
    "    print('시퀀스 길이: ', example[0].shape)"
   ]
  },
  {
   "cell_type": "code",
   "execution_count": 10,
   "metadata": {},
   "outputs": [
    {
     "name": "stdout",
     "output_type": "stream",
     "text": [
      "개별 샘플 크기:  (119,)\n",
      "개별 샘플 크기:  (688,)\n",
      "개별 샘플 크기:  (308,)\n",
      "개별 샘플 크기:  (204,)\n",
      "개별 샘플 크기:  (326,)\n",
      "개별 샘플 크기:  (240,)\n",
      "개별 샘플 크기:  (127,)\n",
      "개별 샘플 크기:  (453,)\n"
     ]
    }
   ],
   "source": [
    "# 일부 데이터 추출하기\n",
    "ds_subset = ds_train.take(8)\n",
    "for example in ds_subset:\n",
    "    print('개별 샘플 크기: ', example[0].shape)"
   ]
  },
  {
   "cell_type": "code",
   "execution_count": 11,
   "metadata": {},
   "outputs": [
    {
     "name": "stdout",
     "output_type": "stream",
     "text": [
      "배치 차원:  (4, 688)\n",
      "배치 차원:  (4, 453)\n"
     ]
    }
   ],
   "source": [
    "# 배치 데이터 만들기\n",
    "ds_batched = ds_subset.padded_batch(\n",
    "    4, padded_shapes=([-1], []))\n",
    "for batch in ds_batched:\n",
    "    print('배치 차원: ', batch[0].shape)"
   ]
  },
  {
   "cell_type": "code",
   "execution_count": 12,
   "metadata": {},
   "outputs": [],
   "source": [
    "# 배치 크기 32로 만들기\n",
    "train_data = ds_train.padded_batch(32, padded_shapes=([-1], []))\n",
    "valid_data = ds_valid.padded_batch(32, padded_shapes=([-1], []))\n",
    "test_data = ds_test.padded_batch(32, padded_shapes=([-1], []))"
   ]
  },
  {
   "cell_type": "code",
   "execution_count": 14,
   "metadata": {},
   "outputs": [
    {
     "name": "stdout",
     "output_type": "stream",
     "text": [
      "Model: \"sequential_1\"\n",
      "_________________________________________________________________\n",
      "Layer (type)                 Output Shape              Param #   \n",
      "=================================================================\n",
      "embed-layer (Embedding)      (None, 20, 6)             600       \n",
      "=================================================================\n",
      "Total params: 600\n",
      "Trainable params: 600\n",
      "Non-trainable params: 0\n",
      "_________________________________________________________________\n"
     ]
    }
   ],
   "source": [
    "# 임베딩 층 만들기\n",
    "from tensorflow.keras.layers import Embedding\n",
    "model = tf.keras.Sequential()\n",
    "model.add(Embedding(input_dim=100, output_dim=6, input_length=20, name='embed-layer'))\n",
    "model.summary()"
   ]
  },
  {
   "cell_type": "code",
   "execution_count": null,
   "metadata": {},
   "outputs": [],
   "source": []
  }
 ],
 "metadata": {
  "interpreter": {
   "hash": "dc1b947dce198ff7f2d2cb152b2cbb61132fce4429fa808fd5b89ac4d7df39fa"
  },
  "kernelspec": {
   "display_name": "Python 3.7.13 ('tf')",
   "language": "python",
   "name": "python3"
  },
  "language_info": {
   "codemirror_mode": {
    "name": "ipython",
    "version": 3
   },
   "file_extension": ".py",
   "mimetype": "text/x-python",
   "name": "python",
   "nbconvert_exporter": "python",
   "pygments_lexer": "ipython3",
   "version": "3.7.13"
  },
  "orig_nbformat": 4
 },
 "nbformat": 4,
 "nbformat_minor": 2
}
