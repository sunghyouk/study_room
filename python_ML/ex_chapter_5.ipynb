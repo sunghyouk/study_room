{
 "cells": [
  {
   "cell_type": "markdown",
   "metadata": {},
   "source": [
    "# 5장. 차원 축소를 사용한 데이터 압축\n",
    "\n",
    "특성 추출 - 데이터 압축하기:  \n",
    "* 주성분 분석 - 비지도 데이터 압축\n",
    "* 선형 판별 분석 - 지도 방식 차원 축소 기법\n",
    "* 커널 PCA - 비선형 차원 축소"
   ]
  },
  {
   "cell_type": "markdown",
   "metadata": {},
   "source": [
    "## 5.1 주성분 분석을 통한 비지도 차원 축소\n",
    "\n",
    "새로운 특성 공간으로 데이터를 변환하거나 투영  \n",
    "대부분의 관련 있는 정보를 유지하면서 데이터를 압축  \n",
    "특히 규제가 없는 모델로 작업할 때 차원의 저주 문제를 감소시켜 예측 성능을 향상"
   ]
  },
  {
   "cell_type": "markdown",
   "metadata": {},
   "source": [
    "### 5.1.1 주성분 분석의 주요 단계\n",
    "\n",
    "*USAGE)* exploratory data analysis, 주식 거래 시장의 잡음 제거, 게놈 데이터나 유전자 발현 분석 등에 이용  \n",
    "PCA는 고차원 데이터에서 분산이 가장 큰 방향을 찾고 좀 더 작거나 같은 수의 차원을 갖는 새로운 부분 공간으로 이를 투영  \n",
    "차원을 축소하기 위해 $d\\times k$ 차원의 변환 행렬 $\\mathbf{W}$ 를 만듦  \n",
    "원본 $d$ 차원 데이터를 새로운 $k$ 차원의 부분 공간으로 변환하여 만들어진 첫번재 주성분이 가장 큰 분산을 가짐  \n",
    "\n",
    "이를 정리하면:  \n",
    "1) $d$ 차원 데이터셋을 *표준화 전처리*\n",
    "2) *공분산 행렬*을 만듦\n",
    "3) 공분산 행렬을 *고유 벡터*와 *고유값*으로 분해\n",
    "4) 고유값을 내림차순으로 정렬하고 그에 해당하는 고유 벡터의 순위를 매김\n",
    "5) 고유값이 가장 큰 $k$ 개의 고유 벡터를 선택\n",
    "6) 최상위 $k$ 개의 고유 벡터로 *투영 행렬* $\\mathbf{W}$ 를 만듦\n",
    "7) 투영 행렬을 이용하여 새로운 차원의 특성 부분 공간으로 변환  \n",
    "\n",
    "### 5.1.2 주성분 추출 단계\n",
    "\n",
    "1번 과정부터 4번 과정까지"
   ]
  },
  {
   "cell_type": "code",
   "execution_count": 1,
   "metadata": {},
   "outputs": [],
   "source": [
    "# Wine 데이터셋 로드\n",
    "import pandas as pd\n",
    "df_wine = pd.read_csv('https://archive.ics.uci.edu/ml/'\n",
    "                      'machine-learning-databases/wine/wine.data',\n",
    "                      header=None)"
   ]
  },
  {
   "cell_type": "code",
   "execution_count": 2,
   "metadata": {},
   "outputs": [],
   "source": [
    "from sklearn.model_selection import train_test_split\n",
    "X, y = df_wine.iloc[:, 1:].values, df_wine.iloc[:, 0].values\n",
    "X_train, X_test, y_train, y_test = \\\n",
    "    train_test_split(X, y, test_size=0.3,\n",
    "                     stratify=y,\n",
    "                     random_state=0)\n",
    "\n",
    "# 특성을 표준화 전처리\n",
    "from sklearn.preprocessing import StandardScaler\n",
    "sc = StandardScaler()\n",
    "X_train_std = sc.fit_transform(X_train)\n",
    "X_test_std = sc.transform(X_test)"
   ]
  },
  {
   "cell_type": "markdown",
   "metadata": {},
   "source": [
    "두 특성 $x_j$와 $x_k$ 사이의 공분산  \n",
    "$$\\sigma_{jk} = \\frac{1}{n-1}\\sum_{i=1}^n (x_j^{(i)}-\\mu_j)(x_k^{(i)}-\\mu_k)$$"
   ]
  },
  {
   "cell_type": "code",
   "execution_count": 3,
   "metadata": {},
   "outputs": [
    {
     "name": "stdout",
     "output_type": "stream",
     "text": [
      "\n",
      "고유값 \n",
      "[4.84274532 2.41602459 1.54845825 0.96120438 0.84166161 0.6620634\n",
      " 0.51828472 0.34650377 0.3131368  0.10754642 0.21357215 0.15362835\n",
      " 0.1808613 ]\n"
     ]
    }
   ],
   "source": [
    "# 공분산 행렬 구하기 -> 고유 벡터와 고유값 쌍 구하기\n",
    "import numpy as np\n",
    "cov_mat = np.cov(X_train_std.T)\n",
    "eigen_vals, eigen_vecs = np.linalg.eig(cov_mat)\n",
    "print('\\n고유값 \\n%s' % eigen_vals)"
   ]
  },
  {
   "cell_type": "code",
   "execution_count": null,
   "metadata": {},
   "outputs": [],
   "source": []
  }
 ],
 "metadata": {
  "interpreter": {
   "hash": "8416a3f2a026e985bee17eceb7546469969f3a4d162bd0f7da6d9cc666a7e5f9"
  },
  "kernelspec": {
   "display_name": "Python 3.9.7 ('base')",
   "language": "python",
   "name": "python3"
  },
  "language_info": {
   "codemirror_mode": {
    "name": "ipython",
    "version": 3
   },
   "file_extension": ".py",
   "mimetype": "text/x-python",
   "name": "python",
   "nbconvert_exporter": "python",
   "pygments_lexer": "ipython3",
   "version": "3.9.7"
  },
  "orig_nbformat": 4
 },
 "nbformat": 4,
 "nbformat_minor": 2
}
