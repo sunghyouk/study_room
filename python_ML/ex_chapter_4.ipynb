{
 "cells": [
  {
   "cell_type": "markdown",
   "metadata": {},
   "source": [
    "# 4장. 좋은 훈련 데이터셋 만들기: 데이터 전처리\n",
    "\n",
    "* 데이터셋에서 누락된 값을 제거하거나 대체하기\n",
    "* 머신 러닝 알고리즘을 위해 범주형 데이터 변환하기\n",
    "* 모델과 관련이 높은 특성 선택하기"
   ]
  },
  {
   "cell_type": "markdown",
   "metadata": {},
   "source": [
    "## 4.1 누락된 데이터 다루기\n",
    "\n",
    "데이터셋에서 샘플을 제거하거나 다른 샘플이나 특성에서 누락된 값을 대체하는 기법\n",
    "\n",
    "### 4.1.1 테이블 형태 데이터에서 누락된 값 식별\n"
   ]
  },
  {
   "cell_type": "code",
   "execution_count": 1,
   "metadata": {},
   "outputs": [
    {
     "data": {
      "text/html": [
       "<div>\n",
       "<style scoped>\n",
       "    .dataframe tbody tr th:only-of-type {\n",
       "        vertical-align: middle;\n",
       "    }\n",
       "\n",
       "    .dataframe tbody tr th {\n",
       "        vertical-align: top;\n",
       "    }\n",
       "\n",
       "    .dataframe thead th {\n",
       "        text-align: right;\n",
       "    }\n",
       "</style>\n",
       "<table border=\"1\" class=\"dataframe\">\n",
       "  <thead>\n",
       "    <tr style=\"text-align: right;\">\n",
       "      <th></th>\n",
       "      <th>A</th>\n",
       "      <th>B</th>\n",
       "      <th>C</th>\n",
       "      <th>D</th>\n",
       "    </tr>\n",
       "  </thead>\n",
       "  <tbody>\n",
       "    <tr>\n",
       "      <th>0</th>\n",
       "      <td>1.0</td>\n",
       "      <td>2.0</td>\n",
       "      <td>3.0</td>\n",
       "      <td>4.0</td>\n",
       "    </tr>\n",
       "    <tr>\n",
       "      <th>1</th>\n",
       "      <td>5.0</td>\n",
       "      <td>6.0</td>\n",
       "      <td>NaN</td>\n",
       "      <td>8.0</td>\n",
       "    </tr>\n",
       "    <tr>\n",
       "      <th>2</th>\n",
       "      <td>10.0</td>\n",
       "      <td>11.0</td>\n",
       "      <td>12.0</td>\n",
       "      <td>NaN</td>\n",
       "    </tr>\n",
       "  </tbody>\n",
       "</table>\n",
       "</div>"
      ],
      "text/plain": [
       "      A     B     C    D\n",
       "0   1.0   2.0   3.0  4.0\n",
       "1   5.0   6.0   NaN  8.0\n",
       "2  10.0  11.0  12.0  NaN"
      ]
     },
     "execution_count": 1,
     "metadata": {},
     "output_type": "execute_result"
    }
   ],
   "source": [
    "import pandas as pd\n",
    "from io import StringIO\n",
    "\n",
    "csv_data = \\\n",
    "    '''A,B,C,D\n",
    "    1.0,2.0,3.0,4.0\n",
    "    5.0,6.0,,8.0\n",
    "    10.0,11.0,12.0,'''\n",
    "df = pd.read_csv(StringIO(csv_data))\n",
    "df"
   ]
  },
  {
   "cell_type": "code",
   "execution_count": 2,
   "metadata": {},
   "outputs": [
    {
     "data": {
      "text/plain": [
       "A    0\n",
       "B    0\n",
       "C    1\n",
       "D    1\n",
       "dtype: int64"
      ]
     },
     "execution_count": 2,
     "metadata": {},
     "output_type": "execute_result"
    }
   ],
   "source": [
    "df.isnull().sum()"
   ]
  },
  {
   "cell_type": "markdown",
   "metadata": {},
   "source": [
    "* 사이킷런에서 데이터를 적재할 때, as_frame 매개변수를 True로 지정하면 판다스 데이터프레임으로 반환\n",
    "* 이제 auto로 바뀌는데 이는 데이터가 희소하지 않으면 기본적으로 판다스 데이터프레임으로 반환한다."
   ]
  },
  {
   "cell_type": "markdown",
   "metadata": {},
   "source": [
    "### 4.1.2 누락된 값이 있는 훈련 샘플이나 특성 제외\n",
    "\n",
    "* dropna 메서드:\n",
    "  * axis = 0 : NA가 있는 행 삭제\n",
    "  * axis = 1 : NA가 있는 열 삭제\n",
    "  * inplace = True: 새로운 데이터프레임을 반환하지 않고 주어진 데이터프레임 자체를 바꿈\n",
    "  * how = 'all': 모든 열이 NaN일 때만 행을 삭제\n",
    "  * thresh = 4: NaN이 아닌 값이 네 개보다 작은 행을 삭제\n",
    "  * subset = ['C']: 특정 열에 NaN이 있는 행만 삭제\n",
    "\n",
    "너무 많은 데이터를 제거하면 안정된 분석이 불가능하다."
   ]
  },
  {
   "cell_type": "markdown",
   "metadata": {},
   "source": [
    "### 4.1.3 누락된 값 대체\n",
    "\n",
    "가장 흔한 보간 기법 중 하나는 평균으로 대체하는 것 - sklearn의 SimpleImputer 클래스  \n",
    "scikit-learn의 0.24버전에서 아직 실험 중이지만, IterativeImputer 클래스로 누락된 값이 있는 한 특성을 타깃으로 삼고 다른 특성을 사용해서 모델을 훈련하여 예측  \n",
    "\n",
    "더 쉬운 방법은 판다스의 fillna 메서드에 매개변수로 누락된 값을 채울 방법을 전달  \n",
    "* df.fillna(df.mean())\n",
    "\n",
    "fillna 메서드의 method 매개변수를 사용하여 누락된 값을 채울 수도 있음  \n",
    "* df.fillna(method='bfill') # 누락된 값을 다음 행의 값으로 채움\n",
    "* df.fillna(method='ffill') # 누락된 값을 이전 행의 값으로 채움\n",
    "* df.fillna(method='ffill', axis=1) # 행이 아닌 열을 사용해 이전 열의 값으로 누락된 값을 채움"
   ]
  },
  {
   "cell_type": "code",
   "execution_count": 3,
   "metadata": {},
   "outputs": [
    {
     "data": {
      "text/plain": [
       "array([[ 1. ,  2. ,  3. ,  4. ],\n",
       "       [ 5. ,  6. ,  7.5,  8. ],\n",
       "       [10. , 11. , 12. ,  6. ]])"
      ]
     },
     "execution_count": 3,
     "metadata": {},
     "output_type": "execute_result"
    }
   ],
   "source": [
    "# 특성 열에서 계산한 평규능로 바꾸기\n",
    "from sklearn.impute import SimpleImputer\n",
    "import numpy as np\n",
    "imr = SimpleImputer(missing_values=np.nan, strategy='mean')\n",
    "imr = imr.fit(df.values)\n",
    "imputed_data = imr.transform(df.values)\n",
    "imputed_data"
   ]
  },
  {
   "cell_type": "markdown",
   "metadata": {},
   "source": [
    "### 4.1.4 사이킷런 추정기 API 익히기\n",
    "\n",
    "변환기 클래스 = fit() + transform()  \n",
    "* fit: 훈련 데이터에서 모델 파라미터를 학습\n",
    "* transform: 학습한 파라미터로 데이터를 변환\n",
    "\n",
    "추정기는 추가로 predict() 메서드가 있음"
   ]
  },
  {
   "cell_type": "markdown",
   "metadata": {},
   "source": [
    "## 4.2 범주형 데이터 다루기\n",
    "\n"
   ]
  }
 ],
 "metadata": {
  "interpreter": {
   "hash": "40d3a090f54c6569ab1632332b64b2c03c39dcf918b08424e98f38b5ae0af88f"
  },
  "kernelspec": {
   "display_name": "Python 3.9.7 64-bit ('base': conda)",
   "language": "python",
   "name": "python3"
  },
  "language_info": {
   "codemirror_mode": {
    "name": "ipython",
    "version": 3
   },
   "file_extension": ".py",
   "mimetype": "text/x-python",
   "name": "python",
   "nbconvert_exporter": "python",
   "pygments_lexer": "ipython3",
   "version": "3.9.7"
  },
  "orig_nbformat": 4
 },
 "nbformat": 4,
 "nbformat_minor": 2
}
