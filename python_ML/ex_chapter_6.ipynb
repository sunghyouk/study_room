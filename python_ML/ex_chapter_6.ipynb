{
 "cells": [
  {
   "cell_type": "markdown",
   "metadata": {},
   "source": [
    "# 6장. 모델 평가와 하이퍼파라미터 튜닝의 모범 사례\n",
    "\n",
    "## 6.1 파이프라인을 사용한 효율적인 워크플로\n",
    "\n",
    "`pipeline` 클래스\n",
    "\n",
    "### 6.1.1 위스콘신 유방암 데이터셋\n",
    "\n"
   ]
  },
  {
   "cell_type": "code",
   "execution_count": 1,
   "metadata": {},
   "outputs": [],
   "source": [
    "# Importing Data\n",
    "import pandas as pd\n",
    "df = pd.read_csv('https://archive.ics.uci.edu/ml/'\n",
    "                 'machine-learning-databases'\n",
    "                 '/breast-cancer-wisconsin/wdbc.data',\n",
    "                 header=None)"
   ]
  },
  {
   "cell_type": "code",
   "execution_count": 2,
   "metadata": {},
   "outputs": [
    {
     "data": {
      "text/plain": [
       "array(['B', 'M'], dtype=object)"
      ]
     },
     "execution_count": 2,
     "metadata": {},
     "output_type": "execute_result"
    }
   ],
   "source": [
    "# change the Character outcome to integer\n",
    "from sklearn.preprocessing import LabelEncoder\n",
    "\n",
    "X = df.loc[:, 2:].values\n",
    "y = df.loc[:, 1].values\n",
    "le = LabelEncoder()\n",
    "y = le.fit_transform(y)\n",
    "le.classes_"
   ]
  },
  {
   "cell_type": "code",
   "execution_count": 3,
   "metadata": {},
   "outputs": [
    {
     "data": {
      "text/plain": [
       "array([1, 0])"
      ]
     },
     "execution_count": 3,
     "metadata": {},
     "output_type": "execute_result"
    }
   ],
   "source": [
    "le.transform(['M', 'B'])"
   ]
  },
  {
   "cell_type": "code",
   "execution_count": 4,
   "metadata": {},
   "outputs": [],
   "source": [
    "# training/test dataset splitting\n",
    "from sklearn.model_selection import train_test_split\n",
    "\n",
    "X_train, X_test, y_train, y_test = \\\n",
    "    train_test_split(X, y,\n",
    "                     test_size=0.2,\n",
    "                     stratify=y,\n",
    "                     random_state=1)"
   ]
  },
  {
   "cell_type": "markdown",
   "metadata": {},
   "source": [
    "### 6.1.2 파이프라인으로 변환기와 추정기 연결\n",
    "\n"
   ]
  },
  {
   "cell_type": "code",
   "execution_count": 6,
   "metadata": {},
   "outputs": [
    {
     "name": "stdout",
     "output_type": "stream",
     "text": [
      "테스트 정확도: 0.956\n"
     ]
    }
   ],
   "source": [
    "from sklearn.preprocessing import StandardScaler\n",
    "from sklearn.decomposition import PCA\n",
    "from sklearn.linear_model import LogisticRegression\n",
    "from sklearn.pipeline import make_pipeline\n",
    "pipe_lr = make_pipeline(StandardScaler(),\n",
    "                        PCA(n_components=2),\n",
    "                        LogisticRegression(random_state=1))\n",
    "pipe_lr.fit(X_train, y_train)\n",
    "y_pred = pipe_lr.predict(X_test)\n",
    "print('테스트 정확도: %.3f' % pipe_lr.score(X_test, y_test))"
   ]
  },
  {
   "cell_type": "code",
   "execution_count": 8,
   "metadata": {},
   "outputs": [
    {
     "data": {
      "text/html": [
       "<style>#sk-d53eafe1-8f39-4fd9-a5eb-af589683eac7 {color: black;background-color: white;}#sk-d53eafe1-8f39-4fd9-a5eb-af589683eac7 pre{padding: 0;}#sk-d53eafe1-8f39-4fd9-a5eb-af589683eac7 div.sk-toggleable {background-color: white;}#sk-d53eafe1-8f39-4fd9-a5eb-af589683eac7 label.sk-toggleable__label {cursor: pointer;display: block;width: 100%;margin-bottom: 0;padding: 0.2em 0.3em;box-sizing: border-box;text-align: center;}#sk-d53eafe1-8f39-4fd9-a5eb-af589683eac7 div.sk-toggleable__content {max-height: 0;max-width: 0;overflow: hidden;text-align: left;background-color: #f0f8ff;}#sk-d53eafe1-8f39-4fd9-a5eb-af589683eac7 div.sk-toggleable__content pre {margin: 0.2em;color: black;border-radius: 0.25em;background-color: #f0f8ff;}#sk-d53eafe1-8f39-4fd9-a5eb-af589683eac7 input.sk-toggleable__control:checked~div.sk-toggleable__content {max-height: 200px;max-width: 100%;overflow: auto;}#sk-d53eafe1-8f39-4fd9-a5eb-af589683eac7 div.sk-estimator input.sk-toggleable__control:checked~label.sk-toggleable__label {background-color: #d4ebff;}#sk-d53eafe1-8f39-4fd9-a5eb-af589683eac7 div.sk-label input.sk-toggleable__control:checked~label.sk-toggleable__label {background-color: #d4ebff;}#sk-d53eafe1-8f39-4fd9-a5eb-af589683eac7 input.sk-hidden--visually {border: 0;clip: rect(1px 1px 1px 1px);clip: rect(1px, 1px, 1px, 1px);height: 1px;margin: -1px;overflow: hidden;padding: 0;position: absolute;width: 1px;}#sk-d53eafe1-8f39-4fd9-a5eb-af589683eac7 div.sk-estimator {font-family: monospace;background-color: #f0f8ff;margin: 0.25em 0.25em;border: 1px dotted black;border-radius: 0.25em;box-sizing: border-box;}#sk-d53eafe1-8f39-4fd9-a5eb-af589683eac7 div.sk-estimator:hover {background-color: #d4ebff;}#sk-d53eafe1-8f39-4fd9-a5eb-af589683eac7 div.sk-parallel-item::after {content: \"\";width: 100%;border-bottom: 1px solid gray;flex-grow: 1;}#sk-d53eafe1-8f39-4fd9-a5eb-af589683eac7 div.sk-label:hover label.sk-toggleable__label {background-color: #d4ebff;}#sk-d53eafe1-8f39-4fd9-a5eb-af589683eac7 div.sk-serial::before {content: \"\";position: absolute;border-left: 1px solid gray;box-sizing: border-box;top: 2em;bottom: 0;left: 50%;}#sk-d53eafe1-8f39-4fd9-a5eb-af589683eac7 div.sk-serial {display: flex;flex-direction: column;align-items: center;background-color: white;}#sk-d53eafe1-8f39-4fd9-a5eb-af589683eac7 div.sk-item {z-index: 1;}#sk-d53eafe1-8f39-4fd9-a5eb-af589683eac7 div.sk-parallel {display: flex;align-items: stretch;justify-content: center;background-color: white;}#sk-d53eafe1-8f39-4fd9-a5eb-af589683eac7 div.sk-parallel-item {display: flex;flex-direction: column;position: relative;background-color: white;}#sk-d53eafe1-8f39-4fd9-a5eb-af589683eac7 div.sk-parallel-item:first-child::after {align-self: flex-end;width: 50%;}#sk-d53eafe1-8f39-4fd9-a5eb-af589683eac7 div.sk-parallel-item:last-child::after {align-self: flex-start;width: 50%;}#sk-d53eafe1-8f39-4fd9-a5eb-af589683eac7 div.sk-parallel-item:only-child::after {width: 0;}#sk-d53eafe1-8f39-4fd9-a5eb-af589683eac7 div.sk-dashed-wrapped {border: 1px dashed gray;margin: 0.2em;box-sizing: border-box;padding-bottom: 0.1em;background-color: white;position: relative;}#sk-d53eafe1-8f39-4fd9-a5eb-af589683eac7 div.sk-label label {font-family: monospace;font-weight: bold;background-color: white;display: inline-block;line-height: 1.2em;}#sk-d53eafe1-8f39-4fd9-a5eb-af589683eac7 div.sk-label-container {position: relative;z-index: 2;text-align: center;}#sk-d53eafe1-8f39-4fd9-a5eb-af589683eac7 div.sk-container {display: inline-block;position: relative;}</style><div id=\"sk-d53eafe1-8f39-4fd9-a5eb-af589683eac7\" class\"sk-top-container\"><div class=\"sk-container\"><div class=\"sk-item sk-dashed-wrapped\"><div class=\"sk-label-container\"><div class=\"sk-label sk-toggleable\"><input class=\"sk-toggleable__control sk-hidden--visually\" id=\"8be8c5b2-d694-4394-8a8e-7e2095888eb4\" type=\"checkbox\" ><label class=\"sk-toggleable__label\" for=\"8be8c5b2-d694-4394-8a8e-7e2095888eb4\">Pipeline</label><div class=\"sk-toggleable__content\"><pre>Pipeline(steps=[('standardscaler', StandardScaler()),\n",
       "                ('pca', PCA(n_components=2)),\n",
       "                ('logisticregression', LogisticRegression(random_state=1))])</pre></div></div></div><div class=\"sk-serial\"><div class=\"sk-item\"><div class=\"sk-estimator sk-toggleable\"><input class=\"sk-toggleable__control sk-hidden--visually\" id=\"1b384bbe-6b10-4cde-835d-35690df83b3c\" type=\"checkbox\" ><label class=\"sk-toggleable__label\" for=\"1b384bbe-6b10-4cde-835d-35690df83b3c\">StandardScaler</label><div class=\"sk-toggleable__content\"><pre>StandardScaler()</pre></div></div></div><div class=\"sk-item\"><div class=\"sk-estimator sk-toggleable\"><input class=\"sk-toggleable__control sk-hidden--visually\" id=\"c6ea14e0-c3de-46d1-9586-a63e5a8a7dcc\" type=\"checkbox\" ><label class=\"sk-toggleable__label\" for=\"c6ea14e0-c3de-46d1-9586-a63e5a8a7dcc\">PCA</label><div class=\"sk-toggleable__content\"><pre>PCA(n_components=2)</pre></div></div></div><div class=\"sk-item\"><div class=\"sk-estimator sk-toggleable\"><input class=\"sk-toggleable__control sk-hidden--visually\" id=\"fb560fd2-3b31-4d7c-9c0e-c745d6cfce73\" type=\"checkbox\" ><label class=\"sk-toggleable__label\" for=\"fb560fd2-3b31-4d7c-9c0e-c745d6cfce73\">LogisticRegression</label><div class=\"sk-toggleable__content\"><pre>LogisticRegression(random_state=1)</pre></div></div></div></div></div></div></div>"
      ],
      "text/plain": [
       "Pipeline(steps=[('standardscaler', StandardScaler()),\n",
       "                ('pca', PCA(n_components=2)),\n",
       "                ('logisticregression', LogisticRegression(random_state=1))])"
      ]
     },
     "execution_count": 8,
     "metadata": {},
     "output_type": "execute_result"
    }
   ],
   "source": [
    "# pipeline 시각화\n",
    "from sklearn import set_config\n",
    "set_config(display='diagram')\n",
    "pipe_lr"
   ]
  },
  {
   "cell_type": "markdown",
   "metadata": {},
   "source": [
    "## 6.2 k-겹 교차 검증을 사용한 모델 성능 평가\n",
    "\n",
    "### 6.2.1 홀드아웃 방법\n",
    "\n"
   ]
  }
 ],
 "metadata": {
  "interpreter": {
   "hash": "8416a3f2a026e985bee17eceb7546469969f3a4d162bd0f7da6d9cc666a7e5f9"
  },
  "kernelspec": {
   "display_name": "Python 3.9.7 ('base')",
   "language": "python",
   "name": "python3"
  },
  "language_info": {
   "codemirror_mode": {
    "name": "ipython",
    "version": 3
   },
   "file_extension": ".py",
   "mimetype": "text/x-python",
   "name": "python",
   "nbconvert_exporter": "python",
   "pygments_lexer": "ipython3",
   "version": "3.9.7"
  },
  "orig_nbformat": 4
 },
 "nbformat": 4,
 "nbformat_minor": 2
}
