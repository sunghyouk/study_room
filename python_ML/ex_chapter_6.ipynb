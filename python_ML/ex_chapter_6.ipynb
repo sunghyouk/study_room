{
 "cells": [
  {
   "cell_type": "markdown",
   "metadata": {},
   "source": [
    "# 6장. 모델 평가와 하이퍼파라미터 튜닝의 모범 사례\n",
    "\n",
    "## 6.1 파이프라인을 사용한 효율적인 워크플로\n",
    "\n",
    "`pipeline` 클래스\n",
    "\n",
    "### 6.1.1 위스콘신 유방암 데이터셋\n",
    "\n"
   ]
  },
  {
   "cell_type": "code",
   "execution_count": null,
   "metadata": {},
   "outputs": [],
   "source": []
  }
 ],
 "metadata": {
  "language_info": {
   "name": "python"
  },
  "orig_nbformat": 4
 },
 "nbformat": 4,
 "nbformat_minor": 2
}
