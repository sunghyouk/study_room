{
 "cells": [
  {
   "cell_type": "markdown",
   "source": [
    "# 3-3. 냉장고가 아이스크림을 자동으로 주문해 준다면\n",
    "## 02. 데이터 불러오기"
   ],
   "metadata": {}
  },
  {
   "cell_type": "code",
   "execution_count": 1,
   "source": [
    "import csv\n",
    "f = open('temp_ice.csv', encoding='euc-kr') # 어느 폴더에 있는 지 확인\n",
    "data = csv.reader(f)\n",
    "header = next(data)\n",
    "temp = []\n",
    "ice = []"
   ],
   "outputs": [],
   "metadata": {}
  },
  {
   "cell_type": "code",
   "execution_count": 2,
   "source": [
    "for row in data:\n",
    "    temp.append(float(row[1]))\n",
    "    ice.append(int(row[4]))\n",
    "\n",
    "print(temp)\n",
    "print(ice)"
   ],
   "outputs": [
    {
     "output_type": "stream",
     "name": "stdout",
     "text": [
      "[-2.1, -2.5, -2.1, -0.7, 0.2, -1.3, -0.5, -0.7, -2.9, 0.5, 2.1, 3.0, 1.3, 1.0, 0.9, -3.2, 0.4, 0.8, 2.9, 1.6, 0.5, 2.6, 3.1, 0.7, -0.4, -1.8, -0.2, 2.6, 0.0, 3.5, 0.3, -1.3, 2.1, 5.6, 2.5, 2.9, 5.6, 2.1, -2.0, -1.7, -1.4, -0.8, 0.1, 0.3, 0.6, 2.0, -0.3, -0.2, 2.2, 2.9, 2.8, 2.7, 3.9, 5.0, 6.1, 6.0, 5.4, 7.1, 6.8, 6.0, 6.9, 8.7, 8.8, 8.2, 8.8, 6.5, 6.1, 7.9, 7.8, 6.4, 5.8, 3.9, 5.2, 5.8, 5.8, 6.6, 7.5, 10.7, 11.4, 9.8, 5.2, 4.2, 4.7, 7.2, 10.5, 12.8, 10.6, 10.6, 7.2, 5.4, 5.7, 6.7, 7.4, 9.9, 11.7, 11.6, 12.5, 11.8, 9.3, 7.2, 8.8, 10.7, 11.6, 10.2, 11.1, 14.2, 15.5, 15.3, 12.8, 14.7, 16.5, 17.6, 16.8, 17.3, 13.5, 9.4, 11.4, 12.1, 11.3, 14.6, 15.4, 16.0, 16.7, 17.6, 18.9, 14.0, 13.9, 15.7, 17.1, 17.6, 18.5, 18.4, 17.9, 19.8, 20.3, 21.4, 21.3, 18.8, 19.5, 17.0, 17.0, 19.2, 20.9, 22.9, 23.3, 23.2, 18.6, 17.8, 19.7, 20.5, 18.6, 18.9, 20.6, 22.0, 23.1, 22.9, 21.1, 18.6, 20.1, 19.7, 18.3, 18.8, 19.7, 21.2, 20.2, 20.4, 20.2, 21.3, 21.3, 22.2, 23.4, 22.8, 21.7, 21.6, 22.5, 23.6, 21.1, 23.8, 23.6, 21.6, 23.8, 23.2, 23.4, 23.1, 24.4, 25.1, 25.1, 23.5, 22.6, 22.6, 20.9, 22.2, 23.2, 23.3, 23.9, 23.2, 23.8, 24.4, 24.3, 25.2, 24.8, 24.8, 27.0, 27.9, 26.8, 26.6, 26.5, 27.1, 26.9, 27.8, 28.4, 28.4, 28.4, 28.8, 28.3, 28.4, 28.8, 27.6, 27.2, 27.6, 28.3, 28.6, 28.3, 27.7, 28.5, 28.6, 26.1, 26.4, 26.2, 25.3, 25.1, 26.0, 25.8, 25.8, 24.7, 22.8, 23.2, 24.3, 22.7, 23.8, 22.4, 22.9, 22.6, 22.1, 21.6, 22.1, 23.4, 24.2, 25.4, 25.8, 24.6, 24.7, 25.4, 23.9, 20.8, 21.7, 22.3, 23.4, 22.4, 21.3, 21.0, 19.2, 19.3, 17.8, 17.5, 18.1, 17.8, 18.4, 20.4, 21.4, 22.5, 22.2, 21.6, 21.5, 21.1, 22.0, 21.2, 18.9, 17.3, 15.5, 15.9, 13.3, 14.9, 17.9, 18.0, 15.9, 14.7, 13.3, 13.3, 14.0, 15.3, 16.2, 15.1, 15.3, 15.9, 16.0, 17.4, 16.9, 12.8, 10.7, 11.5, 13.2, 11.3, 13.3, 14.3, 13.5, 13.8, 12.5, 11.7, 11.3, 10.8, 7.8, 8.5, 9.4, 12.1, 9.7, 8.9, 3.7, 7.2, 10.3, 11.0, 8.7, 3.7, 2.6, 5.0, 9.3, 10.8, 12.8, 5.9, 7.7, 6.2, 4.7, 3.4, 5.4, 6.3, 3.6, 2.4, 4.2, 0.2, -3.2, 0.1, 1.4, 3.0, 6.5, 6.9, 1.7, 1.6, 4.0, 4.7, 7.1, 8.3, 4.6, 2.2, 1.0, 0.2, 3.0, 3.8, 2.1, 3.5, 3.7, 0.6, 0.5, 2.6, 5.0, -3.8]\n",
      "[27, 27, 25, 25, 26, 30, 29, 28, 27, 27, 27, 25, 30, 31, 34, 33, 29, 26, 26, 32, 33, 31, 32, 28, 25, 24, 29, 30, 27, 24, 21, 20, 21, 21, 22, 22, 28, 33, 32, 31, 34, 34, 30, 27, 26, 23, 26, 31, 32, 31, 28, 28, 29, 30, 32, 32, 29, 28, 28, 27, 28, 31, 28, 27, 31, 25, 24, 28, 33, 30, 28, 29, 28, 23, 24, 27, 28, 28, 31, 28, 25, 26, 32, 34, 35, 31, 31, 24, 26, 32, 31, 32, 32, 32, 27, 27, 32, 34, 33, 32, 31, 29, 27, 37, 38, 37, 36, 36, 31, 29, 35, 47, 43, 44, 42, 35, 31, 37, 44, 41, 56, 46, 39, 35, 37, 47, 52, 51, 51, 48, 54, 77, 81, 87, 90, 100, 72, 67, 77, 76, 75, 89, 96, 75, 67, 84, 99, 91, 86, 77, 60, 63, 78, 95, 88, 73, 81, 69, 67, 75, 80, 79, 75, 71, 66, 57, 68, 78, 76, 68, 67, 63, 56, 66, 81, 79, 67, 64, 54, 52, 64, 70, 83, 75, 69, 61, 57, 68, 75, 68, 66, 63, 55, 53, 62, 69, 66, 65, 62, 61, 57, 61, 73, 77, 69, 74, 63, 52, 57, 65, 65, 61, 66, 56, 54, 64, 72, 75, 69, 69, 61, 49, 56, 62, 60, 53, 49, 53, 41, 50, 55, 53, 47, 47, 41, 37, 44, 45, 43, 47, 40, 34, 32, 41, 42, 39, 35, 36, 36, 33, 37, 35, 26, 22, 23, 28, 29, 38, 39, 38, 36, 32, 28, 29, 35, 33, 34, 32, 31, 27, 28, 35, 36, 34, 32, 35, 31, 27, 33, 32, 30, 32, 29, 28, 28, 33, 31, 32, 32, 29, 27, 28, 31, 34, 32, 32, 32, 25, 24, 30, 33, 29, 28, 25, 23, 25, 32, 31, 30, 32, 27, 22, 22, 29, 27, 28, 29, 24, 21, 21, 29, 29, 29, 30, 27, 26, 25, 32, 30, 31, 30, 28, 24, 24, 31, 33, 30, 28, 26, 24, 25, 39, 33, 30, 30, 30, 28, 30, 35, 35, 35, 33, 31, 25, 25, 31, 29, 22, 24, 26, 24, 25, 29, 28, 22]\n"
     ]
    }
   ],
   "metadata": {}
  },
  {
   "cell_type": "markdown",
   "source": [
    "## 03. 데이터 다루기"
   ],
   "metadata": {}
  },
  {
   "cell_type": "code",
   "execution_count": 3,
   "source": [
    "print(min(temp), max(temp))"
   ],
   "outputs": [
    {
     "output_type": "stream",
     "name": "stdout",
     "text": [
      "-3.8 28.8\n"
     ]
    }
   ],
   "metadata": {}
  },
  {
   "cell_type": "code",
   "execution_count": 5,
   "source": [
    "import numpy as np\n",
    "\n",
    "bins = np.arange(min(temp), max(temp)+5, 5)\n",
    "print(bins)"
   ],
   "outputs": [
    {
     "output_type": "stream",
     "name": "stdout",
     "text": [
      "[-3.8  1.2  6.2 11.2 16.2 21.2 26.2 31.2]\n"
     ]
    }
   ],
   "metadata": {}
  },
  {
   "cell_type": "code",
   "execution_count": 6,
   "source": [
    "hist, bins = np.histogram(temp, bins)\n",
    "print(hist)\n",
    "print(bins)"
   ],
   "outputs": [
    {
     "output_type": "stream",
     "name": "stdout",
     "text": [
      "[40 63 50 49 57 80 26]\n",
      "[-3.8  1.2  6.2 11.2 16.2 21.2 26.2 31.2]\n"
     ]
    }
   ],
   "metadata": {}
  },
  {
   "cell_type": "code",
   "execution_count": 7,
   "source": [
    "ice_buy = np.zeros(7)\n",
    "\n",
    "for i in range(0, len(temp)):\n",
    "    for j in range(0, len(bins)):\n",
    "        if j == len(bins):\n",
    "            ice_buy[j] = ice_buy[j] + ice[i]\n",
    "        else:\n",
    "            if bins[j] <= temp[i] and temp[i] < bins[j+1]:\n",
    "                ice_buy[j] = ice_buy[j] + ice[i]\n",
    "\n",
    "print(ice_buy)"
   ],
   "outputs": [
    {
     "output_type": "stream",
     "name": "stdout",
     "text": [
      "[1098. 1782. 1469. 1632. 3198. 4337. 1616.]\n"
     ]
    }
   ],
   "metadata": {}
  },
  {
   "cell_type": "code",
   "execution_count": 8,
   "source": [
    "ice_buy_a = np.zeros(7)\n",
    "\n",
    "for i in range(0, len(ice_buy)):\n",
    "    ice_buy_a[i] = ice_buy[i]/hist[i]\n",
    "\n",
    "for i in range(0, len(ice_buy)):\n",
    "    print('%0.2f' % ice_buy_a[i])"
   ],
   "outputs": [
    {
     "output_type": "stream",
     "name": "stdout",
     "text": [
      "27.45\n",
      "28.29\n",
      "29.38\n",
      "33.31\n",
      "56.11\n",
      "54.21\n",
      "62.15\n"
     ]
    }
   ],
   "metadata": {}
  },
  {
   "cell_type": "markdown",
   "source": [
    "## 04. 데이터 시각화하기"
   ],
   "metadata": {}
  },
  {
   "cell_type": "code",
   "execution_count": 9,
   "source": [
    "import matplotlib.pyplot as plt\n",
    "plt.xlabel('Average temperature')\n",
    "plt.ylabel('Number of ice cream shopping')\n",
    "\n",
    "# bar graph\n",
    "plt.bar(bins[0:7], ice_buy_a, width=2, align='edge')\n",
    "plt.xticks(bins[0:7])\n",
    "plt.show()"
   ],
   "outputs": [
    {
     "output_type": "display_data",
     "data": {
      "image/png": "[encoded data removed]",
      "text/plain": [
       "<Figure size 432x288 with 1 Axes>"
      ]
     },
     "metadata": {
      "needs_background": "light"
     }
    }
   ],
   "metadata": {}
  },
  {
   "cell_type": "code",
   "execution_count": 10,
   "source": [
    "# scatter plot\n",
    "plt.scatter(temp, ice)\n",
    "plt.show()"
   ],
   "outputs": [
    {
     "output_type": "display_data",
     "data": {
      "image/png": "[encoded data removed]",
      "text/plain": [
       "<Figure size 432x288 with 1 Axes>"
      ]
     },
     "metadata": {
      "needs_background": "light"
     }
    }
   ],
   "metadata": {}
  }
 ],
 "metadata": {
  "orig_nbformat": 4,
  "language_info": {
   "name": "python",
   "version": "3.8.8",
   "mimetype": "text/x-python",
   "codemirror_mode": {
    "name": "ipython",
    "version": 3
   },
   "pygments_lexer": "ipython3",
   "nbconvert_exporter": "python",
   "file_extension": ".py"
  },
  "kernelspec": {
   "name": "python3",
   "display_name": "Python 3.8.8 64-bit ('base': conda)"
  },
  "interpreter": {
   "hash": "9b7e75470a4891b58761540277533836a84645951a7d7d5c267def9da85af1a5"
  }
 },
 "nbformat": 4,
 "nbformat_minor": 2
}