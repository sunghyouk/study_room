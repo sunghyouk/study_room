{
 "cells": [
  {
   "cell_type": "markdown",
   "source": [
    "## 05. 학습하기"
   ],
   "metadata": {}
  },
  {
   "cell_type": "code",
   "execution_count": 10,
   "source": [
    "import librosa\n",
    "import librosa.display\n",
    "import numpy as np\n",
    "\n",
    "#import matplotlib.pyplot as plt"
   ],
   "outputs": [],
   "metadata": {}
  },
  {
   "cell_type": "code",
   "execution_count": 11,
   "source": [
    "# 입력변수와 출력변수 생성하기\n",
    "\n",
    "X_train=np.zeros((40,20))                # 입력변수 생성\n",
    "y_train=np.zeros(40)                     # 출력변수 생성\n",
    "\n",
    "#인덱스번호 0~19번까지는 레이블 1(배고픔), 21~40번까지는 레이블 0(웃음)\n",
    "y_train[0:20] = 1"
   ],
   "outputs": [],
   "metadata": {}
  },
  {
   "cell_type": "code",
   "execution_count": 12,
   "source": [
    "# hungry_특징추출  \n",
    "for i in range(20):\n",
    "  audio_path = '/Users/sunghyoukchoi/Google Drive/Code_of_textbook/수학과_함께하는_AI기초/3단원_0822/3-4/hungry/hungry_'+str(i+1)+'.wav' # 저장되어 있는 경로 확인\n",
    "  y, sr = librosa.load(audio_path)\n",
    "  mfcc= librosa.feature.mfcc(y=y, sr=sr)\n",
    "  temp=mfcc.mean(axis=1)\n",
    "  X_train[i]=temp                       # 인덱스번호 0~19번까지 \n",
    "\n",
    "# laugh_특징추출  \n",
    "for i in range(20):\n",
    "  audio_path = '/Users/sunghyoukchoi/Google Drive/Code_of_textbook/수학과_함께하는_AI기초/3단원_0822/3-4/laugh/laugh_'+str(i+1)+'.wav' # 저장되어 있는 경로 확인\n",
    "  y, sr = librosa.load(audio_path)\n",
    "  mfcc= librosa.feature.mfcc(y=y, sr=sr)\n",
    "  temp=mfcc.mean(axis=1) \n",
    "  X_train[i+20]=temp                   # 인덱스번호 20~39번까지"
   ],
   "outputs": [],
   "metadata": {}
  },
  {
   "cell_type": "code",
   "execution_count": 13,
   "source": [
    "# 추출한 특성 값들을 데이터 셋으로 묶기\n",
    "\n",
    "# 데이터 셋\n",
    "data_sets=np.zeros((40,21))\n",
    "data_sets[:,0:20]=X_train\n",
    "data_sets[:,20]=y_train"
   ],
   "outputs": [],
   "metadata": {}
  },
  {
   "cell_type": "code",
   "execution_count": 18,
   "source": [
    "# 특성의 여러 값 중 하나로 관측치 별 특성 간의 변화율을 대표값으로 선택 -- 의외로 잘 이해 안 감\n",
    "def AccumAscentCurv(A):\n",
    "    accVal = 0\n",
    "    for i in range(len(A)-1):\n",
    "        accVal = accVal + abs(A[i+1] - A[i])\n",
    "    return accVal\n",
    "\n",
    "X = [AccumAscentCurv(X_train[i]) for i in range(40)]\n",
    "y = y_train"
   ],
   "outputs": [],
   "metadata": {}
  },
  {
   "cell_type": "markdown",
   "source": [
    "### 5-6 프로그램으로 해결하기\n",
    "#### 5-6-1. 모델 학습하기 "
   ],
   "metadata": {}
  },
  {
   "cell_type": "code",
   "execution_count": 19,
   "source": [
    "# 데이터 준비하기\n",
    "X=np.array(X).reshape(40,1)\n",
    "y=y.reshape(40,1)\n",
    "\n",
    "print(X[:5])\n",
    "print(y[:5])"
   ],
   "outputs": [
    {
     "output_type": "stream",
     "name": "stdout",
     "text": [
      "[[1065.84900665]\n",
      " [ 835.66071713]\n",
      " [ 874.80856338]\n",
      " [ 955.22123384]\n",
      " [ 965.16731071]]\n",
      "[[1.]\n",
      " [1.]\n",
      " [1.]\n",
      " [1.]\n",
      " [1.]]\n"
     ]
    }
   ],
   "metadata": {}
  },
  {
   "cell_type": "code",
   "execution_count": 20,
   "source": [
    "def sigmoid(X):\n",
    "    return 1/(1+np.exp(-X))\n",
    "\n",
    "def cost_func(X, a):\n",
    "    delta = 1e-7\n",
    "    temp = beta0 + np.dot(X, beta1)\n",
    "    Y_pred = sigmoid(temp)\n",
    "    return -np.sum(a * np.log(Y_pred + delta) + (1-a) * np.log(1 - Y_pred) + delta)"
   ],
   "outputs": [],
   "metadata": {}
  },
  {
   "cell_type": "code",
   "execution_count": 24,
   "source": [
    "# 에포크(Epoch) 마다 손실(비용)값을 계산하는 Error 함수 정의하기\n",
    "def Error(X, a):\n",
    "    delta = 1e-7    # log 무한대 발산 방지\n",
    "    \n",
    "    #temp = beta0 + X*beta1\n",
    "    temp = beta0 + np.dot(X,beta1)\n",
    "    Y_pred = sigmoid(temp)\n",
    "    \n",
    "    # likelihood \n",
    "    return  -np.sum( a*np.log(Y_pred + delta) + (1-a)*np.log((1 - Y_pred)+delta ) )"
   ],
   "outputs": [],
   "metadata": {}
  },
  {
   "cell_type": "code",
   "execution_count": 21,
   "source": [
    "def predict(X):\n",
    "    temp = np.dot(X, beta1) + beta0\n",
    "    Y_pred = sigmoid(temp)\n",
    "    if Y_pred >= 0.79:\n",
    "        result = 1\n",
    "    else:\n",
    "        result = 0\n",
    "    return Y_pred, result"
   ],
   "outputs": [],
   "metadata": {}
  },
  {
   "cell_type": "code",
   "execution_count": 22,
   "source": [
    "# 편미분 함수 정의하기 -- 책에 별도의 설명이 없음\n",
    "def numerical_derivative(f, x):\n",
    "    delta_x = 1e-4 # 0.0001\n",
    "    grad = np.zeros_like(x)\n",
    "    \n",
    "    it = np.nditer(x, flags=['multi_index'], op_flags=['readwrite'])\n",
    "    \n",
    "    while not it.finished:\n",
    "        idx = it.multi_index        \n",
    "        tmp_val = x[idx]\n",
    "        x[idx] = float(tmp_val) + delta_x\n",
    "        fx1 = f(x) # f(x+delta_x)\n",
    "        \n",
    "        x[idx] = tmp_val - delta_x \n",
    "        fx2 = f(x) # f(x-delta_x)\n",
    "        grad[idx] = (fx1 - fx2) / (2*delta_x)\n",
    "        \n",
    "        x[idx] = tmp_val \n",
    "        it.iternext()   \n",
    "        \n",
    "    return grad"
   ],
   "outputs": [],
   "metadata": {}
  },
  {
   "cell_type": "code",
   "execution_count": 25,
   "source": [
    "# 파라미터 업데이트하기 \n",
    "\n",
    "learning_rate = 1e-3 \n",
    "beta1 = np.random.rand(1,1)  \n",
    "beta0 = np.random.rand(1)\n",
    "\n",
    "F = lambda X : cost_func(X,y) \n",
    "\n",
    "for step in  range(10000001):  \n",
    "    \n",
    "    beta1 -= learning_rate * numerical_derivative(F, beta1)\n",
    "    \n",
    "    beta0 -= learning_rate * numerical_derivative(F, beta0)\n",
    "    \n",
    "    if (step % 100000 == 0):\n",
    "        print(\"Epoch = \", step, \"error value = \", Error(X,y) )"
   ],
   "outputs": [
    {
     "output_type": "stream",
     "name": "stdout",
     "text": [
      "Epoch =  0 error value =  322.3619110191665\n",
      "Epoch =  100000 error value =  196.646450648938\n",
      "Epoch =  200000 error value =  139.20326177882035\n",
      "Epoch =  300000 error value =  113.7460795139475\n",
      "Epoch =  400000 error value =  98.61706183098735\n",
      "Epoch =  500000 error value =  88.34350200878401\n",
      "Epoch =  600000 error value =  80.80785952868752\n",
      "Epoch =  700000 error value =  74.99436364348375\n",
      "Epoch =  800000 error value =  70.34653350570878\n",
      "Epoch =  900000 error value =  66.53044942262773\n",
      "Epoch =  1000000 error value =  63.331955843218466\n",
      "Epoch =  1100000 error value =  60.60654305829521\n",
      "Epoch =  1200000 error value =  58.252702423050536\n",
      "Epoch =  1300000 error value =  56.19677284219049\n",
      "Epoch =  1400000 error value =  54.383843337020416\n",
      "Epoch =  1500000 error value =  52.772043317818444\n",
      "Epoch =  1600000 error value =  51.3288239209287\n",
      "Epoch =  1700000 error value =  50.02845751141967\n",
      "Epoch =  1800000 error value =  48.85031065527468\n",
      "Epoch =  1900000 error value =  47.777622069741156\n",
      "Epoch =  2000000 error value =  46.79662171385877\n",
      "Epoch =  2100000 error value =  45.895881176700065\n",
      "Epoch =  2200000 error value =  45.065829013334024\n",
      "Epoch =  2300000 error value =  44.29838256260647\n",
      "Epoch =  2400000 error value =  43.5866659607442\n",
      "Epoch =  2500000 error value =  42.924789250082014\n",
      "Epoch =  2600000 error value =  42.30767604815561\n",
      "Epoch =  2700000 error value =  41.730925681055936\n",
      "Epoch =  2800000 error value =  41.19070284107995\n",
      "Epoch =  2900000 error value =  40.683649045382836\n",
      "Epoch =  3000000 error value =  40.20680939457753\n",
      "Epoch =  3100000 error value =  39.757573483136134\n",
      "Epoch =  3200000 error value =  39.333625855722715\n",
      "Epoch =  3300000 error value =  38.932905151555055\n",
      "Epoch =  3400000 error value =  38.55356980458046\n",
      "Epoch =  3500000 error value =  38.19396933877798\n",
      "Epoch =  3600000 error value =  37.85262000894996\n",
      "Epoch =  3700000 error value =  37.5281838110906\n",
      "Epoch =  3800000 error value =  37.21945116644024\n",
      "Epoch =  3900000 error value =  36.92532555928908\n",
      "Epoch =  4000000 error value =  36.644810854676834\n",
      "Epoch =  4100000 error value =  36.37699964141338\n",
      "Epoch =  4200000 error value =  36.12106351761723\n",
      "Epoch =  4300000 error value =  35.876244949055774\n",
      "Epoch =  4400000 error value =  35.64184943888707\n",
      "Epoch =  4500000 error value =  35.41723932037034\n",
      "Epoch =  4600000 error value =  35.20182776122948\n",
      "Epoch =  4700000 error value =  34.99507416147345\n",
      "Epoch =  4800000 error value =  34.796479224656764\n",
      "Epoch =  4900000 error value =  34.60558140361006\n",
      "Epoch =  5000000 error value =  34.42195362711381\n",
      "Epoch =  5100000 error value =  34.24519886557653\n",
      "Epoch =  5200000 error value =  34.07494932095472\n",
      "Epoch =  5300000 error value =  33.91086242750137\n",
      "Epoch =  5400000 error value =  33.75261944676453\n",
      "Epoch =  5500000 error value =  33.59992281935251\n",
      "Epoch =  5600000 error value =  33.452495126695474\n",
      "Epoch =  5700000 error value =  33.31007688617422\n",
      "Epoch =  5800000 error value =  33.17242541409889\n",
      "Epoch =  5900000 error value =  33.03931318271099\n",
      "Epoch =  6000000 error value =  32.910527149459924\n",
      "Epoch =  6100000 error value =  32.78586699797624\n",
      "Epoch =  6200000 error value =  32.66514463030602\n",
      "Epoch =  6300000 error value =  32.54818314031773\n",
      "Epoch =  6400000 error value =  32.43481607015934\n",
      "Epoch =  6500000 error value =  32.32488644648725\n",
      "Epoch =  6600000 error value =  32.21824631044441\n",
      "Epoch =  6700000 error value =  32.11475599272453\n",
      "Epoch =  6800000 error value =  32.01428350022733\n",
      "Epoch =  6900000 error value =  31.91670415229091\n",
      "Epoch =  7000000 error value =  31.821899763516765\n",
      "Epoch =  7100000 error value =  31.729758693285667\n",
      "Epoch =  7200000 error value =  31.640175215793214\n",
      "Epoch =  7300000 error value =  31.55304872238364\n",
      "Epoch =  7400000 error value =  31.468284110339955\n",
      "Epoch =  7500000 error value =  31.385790658868352\n",
      "Epoch =  7600000 error value =  31.30548275082423\n",
      "Epoch =  7700000 error value =  31.22727841466957\n",
      "Epoch =  7800000 error value =  31.151099952761104\n",
      "Epoch =  7900000 error value =  31.07687337405697\n",
      "Epoch =  8000000 error value =  31.004528457920536\n",
      "Epoch =  8100000 error value =  30.933997684068665\n",
      "Epoch =  8200000 error value =  30.865217100152165\n",
      "Epoch =  8300000 error value =  30.798125758829784\n",
      "Epoch =  8400000 error value =  30.732665233708317\n",
      "Epoch =  8500000 error value =  30.668779726219253\n",
      "Epoch =  8600000 error value =  30.606416154791056\n",
      "Epoch =  8700000 error value =  30.54552360935515\n",
      "Epoch =  8800000 error value =  30.486053106082146\n",
      "Epoch =  8900000 error value =  30.427958256464237\n",
      "Epoch =  9000000 error value =  30.371194672312082\n",
      "Epoch =  9100000 error value =  30.315719349796126\n",
      "Epoch =  9200000 error value =  30.261491285281792\n",
      "Epoch =  9300000 error value =  30.208471654969784\n",
      "Epoch =  9400000 error value =  30.156622532624922\n",
      "Epoch =  9500000 error value =  30.10590758029215\n",
      "Epoch =  9600000 error value =  30.056292567851436\n",
      "Epoch =  9700000 error value =  30.00774395189429\n",
      "Epoch =  9800000 error value =  29.960229659262026\n",
      "Epoch =  9900000 error value =  29.9137189769817\n",
      "Epoch =  10000000 error value =  29.868182344388494\n"
     ]
    }
   ],
   "metadata": {}
  },
  {
   "cell_type": "markdown",
   "source": [
    "#### 5-6-2. 평가하기"
   ],
   "metadata": {}
  },
  {
   "cell_type": "code",
   "execution_count": 26,
   "source": [
    "count=0\n",
    "for i in range(len(X)):\n",
    "  (temp1, temp2) = predict(X[i])\n",
    "  print(i+1, temp1,temp2,temp2 == y[i] )\n",
    "  if (temp2==y[i]) :\n",
    "    count += 1\n",
    "print(\"정확도:{0}\".format(count/len(X)))"
   ],
   "outputs": [
    {
     "output_type": "stream",
     "name": "stdout",
     "text": [
      "1 [0.84336417] 1 [ True]\n",
      "2 [0.78916508] 0 [False]\n",
      "3 [0.79926916] 1 [ True]\n",
      "4 [0.81887472] 1 [ True]\n",
      "5 [0.82119308] 1 [ True]\n",
      "6 [0.83976476] 1 [ True]\n",
      "7 [0.83127172] 1 [ True]\n",
      "8 [0.84021408] 1 [ True]\n",
      "9 [0.83230874] 1 [ True]\n",
      "10 [0.82025807] 1 [ True]\n",
      "11 [0.84351907] 1 [ True]\n",
      "12 [0.83001149] 1 [ True]\n",
      "13 [0.81786718] 1 [ True]\n",
      "14 [0.9072773] 1 [ True]\n",
      "15 [0.78151714] 0 [False]\n",
      "16 [0.86169475] 1 [ True]\n",
      "17 [0.82637209] 1 [ True]\n",
      "18 [0.84248312] 1 [ True]\n",
      "19 [0.7887331] 0 [False]\n",
      "20 [0.79188992] 1 [ True]\n",
      "21 [0.71352151] 0 [ True]\n",
      "22 [0.71439651] 0 [ True]\n",
      "23 [0.71196897] 0 [ True]\n",
      "24 [0.71266056] 0 [ True]\n",
      "25 [0.71155582] 0 [ True]\n",
      "26 [0.71040881] 0 [ True]\n",
      "27 [0.71195771] 0 [ True]\n",
      "28 [0.72010616] 0 [ True]\n",
      "29 [0.75415447] 0 [ True]\n",
      "30 [0.75415677] 0 [ True]\n",
      "31 [0.75331426] 0 [ True]\n",
      "32 [0.74846019] 0 [ True]\n",
      "33 [0.74968151] 0 [ True]\n",
      "34 [0.72548404] 0 [ True]\n",
      "35 [0.72783728] 0 [ True]\n",
      "36 [0.72597113] 0 [ True]\n",
      "37 [0.72826685] 0 [ True]\n",
      "38 [0.72810624] 0 [ True]\n",
      "39 [0.7223566] 0 [ True]\n",
      "40 [0.72751273] 0 [ True]\n",
      "정확도:0.925\n"
     ]
    }
   ],
   "metadata": {}
  },
  {
   "cell_type": "markdown",
   "source": [
    "#### 5-6-3. 문제 해결하기"
   ],
   "metadata": {}
  },
  {
   "cell_type": "code",
   "execution_count": 27,
   "source": [
    "# test data 준비하기\n",
    "audio_path = '/Users/sunghyoukchoi/Google Drive/Code_of_textbook/수학과_함께하는_AI기초/3단원_0822/3-4/test01.wav' # 폴더 확인 하기\n",
    "y, sr = librosa.load(audio_path)\n",
    "mfcc= librosa.feature.mfcc(y=y, sr=sr)\n",
    "X_test=mfcc.mean(axis=1)\n",
    "\n",
    "print(X_test)"
   ],
   "outputs": [
    {
     "output_type": "stream",
     "name": "stdout",
     "text": [
      "[-297.9742      146.2829      -55.88721     -10.3654585    -0.58388543\n",
      "  -46.56438      -8.005968      6.911135    -12.364081      2.9450808\n",
      "   -2.4025762   -14.017911     -1.035388     -4.6966343    -2.4477491\n",
      "    8.988057     -5.497288     -8.135314      1.624709     -9.138424  ]\n"
     ]
    }
   ],
   "metadata": {}
  },
  {
   "cell_type": "code",
   "execution_count": 28,
   "source": [
    "X_test = np.array(AccumAscentCurv(X_test).reshape(1, 1))\n",
    "print(X_test)\n",
    "\n",
    "Y_pred, label = predict(X_test)\n",
    "print(Y_pred, label)"
   ],
   "outputs": [
    {
     "output_type": "stream",
     "name": "stdout",
     "text": [
      "[[920.70890856]]\n",
      "[[0.81064874]] 1\n"
     ]
    }
   ],
   "metadata": {}
  },
  {
   "cell_type": "markdown",
   "source": [
    "#### scikit learn으로 로지스틱 모델 만들어 보기"
   ],
   "metadata": {}
  },
  {
   "cell_type": "code",
   "execution_count": 31,
   "source": [
    "from sklearn.linear_model import LogisticRegression\n",
    "lr = LogisticRegression()\n",
    "lr.fit(X, y_train)\n",
    "\n",
    "Y_pred_prob = lr.predict_proba(X_test)\n",
    "print(Y_pred_prob)\n",
    "\n",
    "Y_pred_sk = lr.predict(X_test)\n",
    "print(Y_pred_sk)"
   ],
   "outputs": [
    {
     "output_type": "stream",
     "name": "stdout",
     "text": [
      "[[9.17064202e-11 1.00000000e+00]]\n",
      "[1.]\n"
     ]
    }
   ],
   "metadata": {}
  }
 ],
 "metadata": {
  "orig_nbformat": 4,
  "language_info": {
   "name": "python",
   "version": "3.8.8",
   "mimetype": "text/x-python",
   "codemirror_mode": {
    "name": "ipython",
    "version": 3
   },
   "pygments_lexer": "ipython3",
   "nbconvert_exporter": "python",
   "file_extension": ".py"
  },
  "kernelspec": {
   "name": "python3",
   "display_name": "Python 3.8.8 64-bit ('base': conda)"
  },
  "interpreter": {
   "hash": "9b7e75470a4891b58761540277533836a84645951a7d7d5c267def9da85af1a5"
  }
 },
 "nbformat": 4,
 "nbformat_minor": 2
}