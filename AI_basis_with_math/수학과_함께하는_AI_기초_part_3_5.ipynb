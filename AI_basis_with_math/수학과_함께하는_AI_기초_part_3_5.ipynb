{
 "cells": [
  {
   "cell_type": "markdown",
   "source": [
    "## 05. 학습하기\n",
    "### 5-2 다층 신경망\n",
    "#### 5-2-3 퍼셉트론 간의 신호를 전달하는 순전파"
   ],
   "metadata": {}
  },
  {
   "cell_type": "code",
   "execution_count": 6,
   "source": [
    "import numpy as np"
   ],
   "outputs": [],
   "metadata": {}
  },
  {
   "cell_type": "code",
   "execution_count": 7,
   "source": [
    "def Sigmoid(z):\n",
    "    return 1/(1+np.exp(-z))"
   ],
   "outputs": [],
   "metadata": {}
  },
  {
   "cell_type": "code",
   "execution_count": 8,
   "source": [
    "# 편미분 함수 정의하기 -- 책에 별도의 설명이 없음\n",
    "def numerical_derivative(f, x):\n",
    "    delta_x = 1e-4 # 0.0001\n",
    "    grad = np.zeros_like(x)\n",
    "    \n",
    "    it = np.nditer(x, flags=['multi_index'], op_flags=['readwrite'])\n",
    "    \n",
    "    while not it.finished:\n",
    "        idx = it.multi_index        \n",
    "        tmp_val = x[idx]\n",
    "        x[idx] = float(tmp_val) + delta_x\n",
    "        fx1 = f(x) # f(x+delta_x)\n",
    "        \n",
    "        x[idx] = tmp_val - delta_x \n",
    "        fx2 = f(x) # f(x-delta_x)\n",
    "        grad[idx] = (fx1 - fx2) / (2*delta_x)\n",
    "        \n",
    "        x[idx] = tmp_val \n",
    "        it.iternext()   \n",
    "        \n",
    "    return grad"
   ],
   "outputs": [],
   "metadata": {}
  },
  {
   "cell_type": "code",
   "execution_count": 9,
   "source": [
    "class my_NN01:\n",
    "    # 클래스 생성자를 선언\n",
    "    def __init__(self, input_nodes, hidden_nodes, output_nodes, learning_rate):\n",
    "        self.input_nodes = input_nodes\n",
    "        self.hidden_nodes = hidden_nodes\n",
    "        self.output_nodes = output_nodes\n",
    "\n",
    "        # 은닉층의 파라미터 W1, B1을 초기화\n",
    "        self.W1 = np.random.rand(self.input_nodes, self.hidden_nodes)/np.sqrt(self.input_nodes/2) # 수렴값을 빠르게 찾기 위해서\n",
    "        self.B1 = np.random.rand(self.hidden_nodes)\n",
    "        \n",
    "        # 출력층의 파라미터 W2, B2를 초기화\n",
    "        self.W2 = np.random.rand(self.hidden_nodes, self.output_nodes)/np.sqrt(self.hidden_nodes/2)\n",
    "        self.B2 = np.random.rand(self.output_nodes)\n",
    "\n",
    "        # 학습률 learning rate 초기화\n",
    "        self.learning_rate = learning_rate\n",
    "\n",
    "    # 순전파\n",
    "    def feed_forward(self):\n",
    "        delta = 1e-7\n",
    "        A1 = np.dot(self.input_nodes, self.W1) + self.B1\n",
    "        Z1 = Sigmoid(A1)\n",
    "        A2 = np.dot(Z1, self.W2) + self.B2\n",
    "        y = Sigmoid(A2)\n",
    "        return -np.sum(self.target_data * np.log(y + delta) + (1-self.target_data) * np.log((1-y) + delta)) # 계산의 편의를 위해 순전파 출력 시 로그최대우도추정법 계산을 적용\n",
    "\n",
    "        # 5-2-4 파라미터를 결정하는 비용함수\n",
    "        # 로그최대우도 추정법의 비용함수로 작성\n",
    "    def cost(self):\n",
    "        delta = 1e-7\n",
    "        A1 = np.dot(self.input_data, self.W1) + self.B1\n",
    "        Z1 = Sigmoid(A1)\n",
    "        A2 = np.dot(Z1, self.W2) + self.B2\n",
    "        y = Sigmoid(A2)\n",
    "\n",
    "        # 로그최대우도추정법\n",
    "        cost_val = -np.sum(self.target_data * np.log(y + delta) + (1-self.target_data) * np.log((1-y) + delta))\n",
    "        return cost_val\n",
    "\n",
    "        # 5-2-5 경사하강법을 적용한 train 함수\n",
    "    def train(self, input_data, target_data):\n",
    "        self.input_data = input_data\n",
    "        self.target_data = target_data\n",
    "        f = lambda x: self.feed_forward()\n",
    "        self.W1 -= self.learning_rate * numerical_derivative(f, self.W1)\n",
    "        self.B1 -= self.learning_rate * numerical_derivative(f, self.B1)\n",
    "        self.W2 -= self.learning_rate * numerical_derivative(f, self.W2)\n",
    "        self.B2 -= self.learning_rate * numerical_derivative(f, self.B2)\n",
    "    \n",
    "        # 5-2-6 평가를 위한 예측 함수와 정확도 함수 정의하기\n",
    "    def predict(self, input_data):\n",
    "        A1 = np.dot(self.input_data, self.W1) + self.B1\n",
    "        Z1 = Sigmoid(A1)\n",
    "        A2 = np.dot(Z1, self.W2) + self.B2\n",
    "        y = Sigmoid(A2)\n",
    "        predicted_num = np.argmax(y)\n",
    "        return predicted_num\n",
    "\n",
    "    def accuracy(selt, test_data):\n",
    "        matched_list = []\n",
    "        not_matched_list = []\n",
    "\n",
    "        for index in range(len(test_data)):\n",
    "            label = int(test_data[index, 0])\n",
    "            data = (test_data[index, 1:]/255.0 *0.99) + 0.01\n",
    "            predicted_num = self.predict(np.array(data, ndmin = 2))\n",
    "            if label == predicted_num:\n",
    "                matched_list.append(index)\n",
    "            else:\n",
    "                not_matched_list.append(index)\n",
    "    \n",
    "        print('정확도: ', 100*(len(matched_list)/(len(test_data))), '%')\n",
    "        return matched_list, not_matched_list"
   ],
   "outputs": [],
   "metadata": {}
  },
  {
   "cell_type": "markdown",
   "source": [
    "### 5-3 모델 학습하기\n",
    "#### Step 1. 사용할 데이터 셋 분리하기"
   ],
   "metadata": {}
  },
  {
   "cell_type": "code",
   "execution_count": 10,
   "source": [
    "import pandas as pd\n",
    "df_train = pd.read_csv('fashion-mnist_train.csv') # verify your data stored folder\n",
    "df_test = pd.read_csv('fashion-mnist_test.csv')\n",
    "\n",
    "data_train = np.array(df_train, dtype = np.float32)\n",
    "data_test = np.array(df_test, dtype=np.float32)"
   ],
   "outputs": [],
   "metadata": {}
  },
  {
   "cell_type": "markdown",
   "source": [
    "#### Step 2. 사용할 데이터 모델 만들기"
   ],
   "metadata": {}
  },
  {
   "cell_type": "code",
   "execution_count": null,
   "source": [
    "my_model = my_NN01(784, 100, 10, 0.01)\n",
    "cost_val_list = []\n",
    "\n",
    "for step in range(len(data_train)):\n",
    "    input_data = ((data_train[step, 1:]/255.0) * 0.99) + 0.01\n",
    "    target_data = np.zeros(10) + 0.01\n",
    "    target_data[int(data_train[step, 0])] = 0.99\n",
    "    my_model.train(input_data, target_data)\n",
    "\n",
    "    if(step % 200 == 0):\n",
    "        print('단계: ', step, ', 비용 (손실) 값: ', my_model.cost())\n",
    "\n",
    "        cost_val_list.append(my_model.cost())"
   ],
   "outputs": [],
   "metadata": {}
  },
  {
   "cell_type": "code",
   "execution_count": null,
   "source": [
    "my_model.accuracy(data_test)"
   ],
   "outputs": [],
   "metadata": {}
  }
 ],
 "metadata": {
  "orig_nbformat": 4,
  "language_info": {
   "name": "python",
   "version": "3.8.8",
   "mimetype": "text/x-python",
   "codemirror_mode": {
    "name": "ipython",
    "version": 3
   },
   "pygments_lexer": "ipython3",
   "nbconvert_exporter": "python",
   "file_extension": ".py"
  },
  "kernelspec": {
   "name": "python3",
   "display_name": "Python 3.8.8 64-bit ('base': conda)"
  },
  "interpreter": {
   "hash": "9b7e75470a4891b58761540277533836a84645951a7d7d5c267def9da85af1a5"
  }
 },
 "nbformat": 4,
 "nbformat_minor": 2
}