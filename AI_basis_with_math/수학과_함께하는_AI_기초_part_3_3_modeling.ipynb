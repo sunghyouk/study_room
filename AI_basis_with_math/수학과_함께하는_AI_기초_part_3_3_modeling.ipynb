{
 "cells": [
  {
   "cell_type": "markdown",
   "source": [
    "## 05. 학습하기\n",
    "### 5-4 프로그래밍으로 해결하기\n",
    "#### 5-4-1 모델 학습하기"
   ],
   "metadata": {}
  },
  {
   "cell_type": "code",
   "execution_count": 48,
   "source": [
    "import pandas as pd\n",
    "df = pd.read_csv('/Users/sunghyoukchoi/Google Drive/Code_of_textbook/수학과_함께하는_AI기초/3단원_0822/3-3/temp_ice.csv', encoding='euc-kr')\n",
    "print(df.head(5))"
   ],
   "outputs": [
    {
     "output_type": "stream",
     "name": "stdout",
     "text": [
      "           날짜  평균기온(℃)  최저기온(℃)  최고기온(℃)  아이스크림/빙수\n",
      "0  2019-01-01     -2.1     -5.8      2.1        27\n",
      "1  2019-01-02     -2.5     -7.0      3.2        27\n",
      "2  2019-01-03     -2.1     -7.7      5.0        25\n",
      "3  2019-01-04     -0.7     -7.3      5.3        25\n",
      "4  2019-01-05      0.2     -4.6      5.3        26\n"
     ]
    }
   ],
   "metadata": {}
  },
  {
   "cell_type": "code",
   "execution_count": 49,
   "source": [
    "import numpy as np\n",
    "data = np.array(df)\n",
    "X = data[:, 1]\n",
    "Y = data[:, -1]"
   ],
   "outputs": [],
   "metadata": {}
  },
  {
   "cell_type": "code",
   "execution_count": 50,
   "source": [
    "# 비용을 계산하고 업데이트 하기 -- 최소제곱법\n",
    "mean_X = np.mean(X)\n",
    "mean_Y = np.mean(Y)\n",
    "\n",
    "n = len(X)\n",
    "\n",
    "temp1 = 0\n",
    "temp2 = 0\n",
    "\n",
    "for i in range(n):\n",
    "    temp1 += (X[i]-mean_X) * (Y[i]-mean_Y)\n",
    "    temp2 += (X[i]-mean_X)**2\n",
    "\n",
    "beta1 = temp1/temp2\n",
    "beta0 = mean_Y - (beta1*mean_X)\n",
    "\n",
    "print('기울기 (beta1): {0}, 절편 (beta0): {1} '.format(beta1, beta0))"
   ],
   "outputs": [
    {
     "output_type": "stream",
     "name": "stdout",
     "text": [
      "기울기 (beta1): 1.3695501118896156, 절편 (beta0): 22.845160616391098 \n"
     ]
    }
   ],
   "metadata": {}
  },
  {
   "cell_type": "code",
   "execution_count": 51,
   "source": [
    "# 적합된 회귀선 그리기\n",
    "import matplotlib.pyplot as plt\n",
    "Y_pred = beta0 + beta1 * X\n",
    "\n",
    "plt.title('Avg_temp & Clicks')\n",
    "plt.xlabel('Average temperature(C)')\n",
    "plt.ylabel('Clicks')\n",
    "\n",
    "plt.plot(X, Y, 'k.')\n",
    "plt.plot(X, Y_pred, color = 'red')\n",
    "plt.axis([-4, 30, 20, 100])\n",
    "plt.grid()\n",
    "plt.show()"
   ],
   "outputs": [
    {
     "output_type": "display_data",
     "data": {
      "image/png": "[encoded data removed]",
      "text/plain": [
       "<Figure size 432x288 with 1 Axes>"
      ]
     },
     "metadata": {
      "needs_background": "light"
     }
    }
   ],
   "metadata": {}
  },
  {
   "cell_type": "code",
   "execution_count": 52,
   "source": [
    "# 평가하기\n",
    "def RMSE(beta0, beta1, x, y):\n",
    "    RMSE = np.sqrt(((y-(beta0+beta1*x))**2).mean())\n",
    "    return RMSE\n",
    "\n",
    "results = RMSE(beta0, beta1, X, Y)\n",
    "print('손실값 결과는? {0}'.format(results))"
   ],
   "outputs": [
    {
     "output_type": "stream",
     "name": "stdout",
     "text": [
      "손실값 결과는? 13.932934996027768\n"
     ]
    }
   ],
   "metadata": {}
  },
  {
   "cell_type": "markdown",
   "source": [
    "#### 5-4-2 예측하기"
   ],
   "metadata": {}
  },
  {
   "cell_type": "code",
   "execution_count": 53,
   "source": [
    "def Regression(beta0, beta1, X):\n",
    "    Y_pred = beta0 + beta1 * X\n",
    "    return Y_pred\n",
    "\n",
    "my_temp = float(input('안녕하세요, 오늘의 평균 기온을 입력해 주세요. : '))\n",
    "predicted_value = Regression(beta0, beta1, my_temp)\n",
    "print('아이스크림 쇼핑 클릭량은 100점을 기준으로 {0}만큼 예상됩니다.'.format(predicted_value))"
   ],
   "outputs": [
    {
     "output_type": "stream",
     "name": "stdout",
     "text": [
      "아이스크림 쇼핑 클릭량은 100점을 기준으로 63.931663973079566만큼 예상됩니다.\n"
     ]
    }
   ],
   "metadata": {}
  },
  {
   "cell_type": "markdown",
   "source": [
    "### scikit learn으로 풀기"
   ],
   "metadata": {}
  },
  {
   "cell_type": "code",
   "execution_count": 54,
   "source": [
    "X_new = np.reshape(X, (-1, 1))\n",
    "Y_new = np.reshape(Y, (-1, 1))"
   ],
   "outputs": [],
   "metadata": {}
  },
  {
   "cell_type": "code",
   "execution_count": 55,
   "source": [
    "from sklearn.linear_model import LinearRegression\n",
    "lr = LinearRegression()\n",
    "lr.fit(X_new, Y_new)"
   ],
   "outputs": [
    {
     "output_type": "execute_result",
     "data": {
      "text/plain": [
       "LinearRegression()"
      ]
     },
     "metadata": {},
     "execution_count": 55
    }
   ],
   "metadata": {}
  },
  {
   "cell_type": "code",
   "execution_count": 59,
   "source": [
    "Y_pred_new = lr.predict([[30]])\n",
    "print(Y_pred_new)"
   ],
   "outputs": [
    {
     "output_type": "stream",
     "name": "stdout",
     "text": [
      "[[63.93166397]]\n"
     ]
    }
   ],
   "metadata": {}
  }
 ],
 "metadata": {
  "orig_nbformat": 4,
  "language_info": {
   "name": "python",
   "version": "3.8.8",
   "mimetype": "text/x-python",
   "codemirror_mode": {
    "name": "ipython",
    "version": 3
   },
   "pygments_lexer": "ipython3",
   "nbconvert_exporter": "python",
   "file_extension": ".py"
  },
  "kernelspec": {
   "name": "python3",
   "display_name": "Python 3.8.8 64-bit ('base': conda)"
  },
  "interpreter": {
   "hash": "9b7e75470a4891b58761540277533836a84645951a7d7d5c267def9da85af1a5"
  }
 },
 "nbformat": 4,
 "nbformat_minor": 2
}