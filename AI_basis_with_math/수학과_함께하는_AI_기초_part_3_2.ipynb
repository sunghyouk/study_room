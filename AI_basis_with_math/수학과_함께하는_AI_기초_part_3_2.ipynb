{
 "cells": [
  {
   "cell_type": "code",
   "execution_count": 2,
   "source": [
    "import pandas as pd\n",
    "\n",
    "iris = pd.read_csv(\"/Volumes/GoogleDrive/내 드라이브/Data_of_textbook/iris.csv\")"
   ],
   "outputs": [],
   "metadata": {}
  },
  {
   "cell_type": "code",
   "execution_count": 6,
   "source": [
    "import numpy as np\n",
    "\n",
    "xy = np.array(iris)\n",
    "features = xy[:, 1:-1]\n",
    "target_value = xy[:, [-1]]"
   ],
   "outputs": [],
   "metadata": {}
  },
  {
   "cell_type": "code",
   "execution_count": 4,
   "source": [
    "def Distance(A, B):\n",
    "    return np.sqrt(np.sum(np.power((A-B), 2)))"
   ],
   "outputs": [],
   "metadata": {}
  },
  {
   "cell_type": "code",
   "execution_count": 8,
   "source": [
    "def K_NN(Unknown, features, K):\n",
    "    distance_result = np.zeros(150)\n",
    "    for i in range(150):\n",
    "        distance_result[i] = Distance(Unknown, features[i])\n",
    "\n",
    "        index = distance_result.argsort()\n",
    "\n",
    "        target_result = []\n",
    "        result = [0, 0, 0]\n",
    "        for i in range(K):\n",
    "            target_result.append(target_value[index[i]])\n",
    "            if target_result[i] == 'iris-setosa':\n",
    "                result[0] += 1\n",
    "            elif target_result[i] == 'iris-vesicolor':\n",
    "                result[1] += 1\n",
    "            else:\n",
    "                result[2] += 1\n",
    "        max_label = result.index(max(result))\n",
    "        species = {0: 'setosa', 1: 'vesicolor', 2: 'virginica'}\n",
    "        species_result = species[max_label]\n",
    "        return species_result"
   ],
   "outputs": [],
   "metadata": {}
  },
  {
   "cell_type": "code",
   "execution_count": 9,
   "source": [
    "test_1 = features[149]\n",
    "test_2 = np.array([6, 2.9, 5, 2])\n",
    "\n",
    "result_1 = K_NN(test_1, features, 3)\n",
    "result_2 = K_NN(test_2, features, 3)\n",
    "\n",
    "print(result_1)\n",
    "print(result_2)"
   ],
   "outputs": [
    {
     "output_type": "stream",
     "name": "stdout",
     "text": [
      "virginica\n",
      "virginica\n"
     ]
    }
   ],
   "metadata": {}
  },
  {
   "cell_type": "markdown",
   "source": [
    "# Scikit-learn  이용해서  풀기 - solved\n"
   ],
   "metadata": {}
  },
  {
   "cell_type": "code",
   "execution_count": 10,
   "source": [
    "from sklearn.neighbors import KNeighborsClassifier"
   ],
   "outputs": [],
   "metadata": {}
  },
  {
   "cell_type": "code",
   "execution_count": 15,
   "source": [
    "target_value = xy[:, -1]"
   ],
   "outputs": [],
   "metadata": {}
  },
  {
   "cell_type": "code",
   "execution_count": 16,
   "source": [
    "neigh = KNeighborsClassifier(n_neighbors=3)\n",
    "neigh.fit(features, target_value)"
   ],
   "outputs": [
    {
     "output_type": "execute_result",
     "data": {
      "text/plain": [
       "KNeighborsClassifier(n_neighbors=3)"
      ]
     },
     "metadata": {},
     "execution_count": 16
    }
   ],
   "metadata": {}
  },
  {
   "cell_type": "code",
   "execution_count": 18,
   "source": [
    "print(neigh.predict([[2.7, 2.4, 1.65, 0.67]]))"
   ],
   "outputs": [
    {
     "output_type": "stream",
     "name": "stdout",
     "text": [
      "['Iris-setosa']\n"
     ]
    }
   ],
   "metadata": {}
  }
 ],
 "metadata": {
  "orig_nbformat": 4,
  "language_info": {
   "name": "python",
   "version": "3.8.8",
   "mimetype": "text/x-python",
   "codemirror_mode": {
    "name": "ipython",
    "version": 3
   },
   "pygments_lexer": "ipython3",
   "nbconvert_exporter": "python",
   "file_extension": ".py"
  },
  "kernelspec": {
   "name": "python3",
   "display_name": "Python 3.8.8 64-bit ('base': conda)"
  },
  "interpreter": {
   "hash": "df8ec8ddb07083ad68f03ba1176cc1a7fe817a07112184a0094d87e5a3092d40"
  }
 },
 "nbformat": 4,
 "nbformat_minor": 2
}