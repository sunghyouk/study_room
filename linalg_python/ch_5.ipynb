{
 "cells": [
  {
   "cell_type": "markdown",
   "metadata": {},
   "source": [
    "# Chapter 5. 선형 시스템\n",
    "\n",
    "## 5.1 선형 방정식\n",
    "\n",
    "### 5.1.1 선형 방정식의 정의\n",
    "\n",
    "xy 평면이 존재할 때 해당 평면 위의 직선을 표현하고,  \n",
    "이 직선을 변수 x, y에 대한 1차 방정식, 혹은 `선형 방정식`이라 부름\n",
    "\n",
    "### 5.1.2 선형 방정식의 예\n",
    "\n",
    "선형 방정식이 주어졌을 때 해당 방정식의 변수가 축에 해당하므로 변수가 무엇인지 잘 확인\n",
    "\n",
    "### 5.1.3 선형 방정식이 아닌 경우\n",
    "\n",
    "변수가 삼각함수, 지수함수의 형태  \n",
    "변수끼리 곱이나 제곱근을 포함하지 않음\n",
    "\n",
    "## 5.2 선형 시스템\n",
    "\n",
    "### 5.2.1 선형 시스템의 정의\n",
    "\n",
    "선형 방정식이 다수 존재하는 경우, 선형 방정식의 집합을 연립 1차 방정식, 혹은 `선형 시스템`이라 부름  \n",
    "선형 시스템은 1) 오직 하나의 해를 갖는 경우, 2) 무한개의 해를 갖는 경우, 3) 해가 존재하지 않는 경우로 나눌 수 있음  \n",
    "선형 시스템의 상수 부분만 모아서 행렬 형태로 나타낸 것을 `첨가 행렬` *Argumented matrix*라 함\n",
    "\n",
    "### 5.2.2 기본 행 연산\n",
    "\n",
    "1) 한 행에 0이 아닌 상수를 모두 곱한다.\n",
    "2) 두 행을 교환한다.\n",
    "3) 한 행의 배수를 다른 행에 더한다.\n",
    "\n",
    "### 5.2.3 가우스 조르단 소거법\n",
    "\n",
    "**가우스행렬**:  \n",
    "우선 첨가 행렬의 1행 1열 구성 원소를 기본 행 연산을 이용해 1로 변형  \n",
    "1행 1열 아래에 위치하는 원소가 0이 되게끔 기본 행 연산을 수행\n",
    "행렬의 구성 원소가 사다리꼴의 형태  \n",
    "\n",
    "**기약 (reduced) 가우스 행렬**:  \n",
    "가장 첫 원소가 1인 열에 대해 1을 제외한 나머지 행 원소가 모두 0인 형태  \n",
    "이 형태를 이용해 방정식의 해를 구하는 것을 **가우스 조르단 소거법**이라 부름\n",
    "\n",
    "### 5.2.4 가우스 소거법\n",
    "\n",
    "**가우스 소거법**: 선형 시스템의 첨가 행렬을 가우스 행렬로 변환한 후 해를 구하는 방법\n",
    "\n",
    "## 5.3 동차 선형 시스템\n",
    "\n",
    "우변이 모두 0인 선형 시스템  \n",
    "적어도 하나의 해가 존재  \n",
    "방정식의 개수보다 변수의 개수가 많은 경우 무한개의 해를 갖음\n",
    "\n",
    "## 5.4 파이썬 실습\n",
    "\n",
    "### 5.4.1 단계적으로 계산하기\n"
   ]
  },
  {
   "cell_type": "code",
   "execution_count": 11,
   "metadata": {},
   "outputs": [
    {
     "name": "stdout",
     "output_type": "stream",
     "text": [
      "원본 행렬\n",
      "[3, 1, 2] 5\n",
      "[2, 6, -1] 1\n",
      "[4, 0, -1] 3\n"
     ]
    }
   ],
   "source": [
    "# 행렬을 초기화\n",
    "X = [[3, 1, 2], [2, 6, -1], [4, 0, -1]]\n",
    "y = [5, 1, 3]\n",
    "\n",
    "# 행렬의 각 행을 따로 변수로 선언\n",
    "x0 = X[0]\n",
    "x1 = X[1]\n",
    "x2 = X[2]\n",
    "\n",
    "y0 = y[0]\n",
    "y1 = y[1]\n",
    "y2 = y[2]\n",
    "\n",
    "print('원본 행렬')\n",
    "print(x0, y0)\n",
    "print(x1, y1)\n",
    "print(x2, y2)"
   ]
  },
  {
   "cell_type": "code",
   "execution_count": 12,
   "metadata": {},
   "outputs": [
    {
     "name": "stdout",
     "output_type": "stream",
     "text": [
      "1행 * 1/3\n",
      "[1.0, 0.3333333333333333, 0.6666666666666666] 1.6666666666666665\n",
      "[2, 6, -1] 1\n",
      "[4, 0, -1] 3\n"
     ]
    }
   ],
   "source": [
    "# 가우스 행렬 만들기\n",
    "# 1행 * (1행 1열의 역수)\n",
    "tmp = 1/x0[0]\n",
    "x0 = [element * tmp for element in x0]\n",
    "y0 = y0 * tmp\n",
    "\n",
    "print('1행 * 1/3')\n",
    "print(x0, y0)\n",
    "print(x1, y1)\n",
    "print(x2, y2)"
   ]
  },
  {
   "cell_type": "code",
   "execution_count": 13,
   "metadata": {},
   "outputs": [
    {
     "name": "stdout",
     "output_type": "stream",
     "text": [
      "[-2.0, -0.6666666666666666, -1.3333333333333333] -3.333333333333333\n",
      "1행 * -2 + 2행\n",
      "[1.0, 0.3333333333333333, 0.6666666666666666] 1.6666666666666665\n",
      "[0.0, 5.333333333333333, -2.333333333333333] -2.333333333333333\n",
      "[4, 0, -1] 3\n"
     ]
    }
   ],
   "source": [
    "# 1행 * -(2행 1열) + 2행\n",
    "x0_tmp = [element * -x1[0] for element in x0]\n",
    "y0_tmp = y0 * -x1[0]\n",
    "print(x0_tmp, y0_tmp)\n",
    "\n",
    "for i in range(0, len(x0)):\n",
    "    x1[i] = x0_tmp[i] + x1[i]\n",
    "y1 = y0_tmp + y1\n",
    "\n",
    "print('1행 * -2 + 2행')\n",
    "print(x0, y0)\n",
    "print(x1, y1)\n",
    "print(x2, y2)"
   ]
  },
  {
   "cell_type": "code",
   "execution_count": 14,
   "metadata": {},
   "outputs": [
    {
     "name": "stdout",
     "output_type": "stream",
     "text": [
      "[-4.0, -1.3333333333333333, -2.6666666666666665] -6.666666666666666\n",
      "1행 * -4 + 3행\n",
      "[1.0, 0.3333333333333333, 0.6666666666666666] 1.6666666666666665\n",
      "[0.0, 5.333333333333333, -2.333333333333333] -2.333333333333333\n",
      "[0.0, -1.3333333333333333, -3.6666666666666665] -3.666666666666666\n"
     ]
    }
   ],
   "source": [
    "# 1행 * -(3행 1열) + 3행\n",
    "x0_tmp = [element * -x2[0] for element in x0]\n",
    "y0_tmp = y0 * -x2[0]\n",
    "print(x0_tmp, y0_tmp)\n",
    "\n",
    "for i in range(0, len(x0)):\n",
    "    x2[i] = x0_tmp[i] + x2[i]\n",
    "y2 = y0_tmp + y2\n",
    "\n",
    "print('1행 * -4 + 3행')\n",
    "print(x0, y0)\n",
    "print(x1, y1)\n",
    "print(x2, y2)"
   ]
  },
  {
   "cell_type": "code",
   "execution_count": 15,
   "metadata": {},
   "outputs": [
    {
     "name": "stdout",
     "output_type": "stream",
     "text": [
      "2행 * 3/16\n",
      "[1.0, 0.3333333333333333, 0.6666666666666666] 1.6666666666666665\n",
      "[0.0, 1.0, -0.43749999999999994] -0.43749999999999994\n",
      "[0.0, -1.3333333333333333, -3.6666666666666665] -3.666666666666666\n"
     ]
    }
   ],
   "source": [
    "# 2행 * (2행 2열의 역수)\n",
    "tmp = 1/x1[1]\n",
    "x1 = [element * tmp for element in x1]\n",
    "y1 = y1 * tmp\n",
    "\n",
    "print('2행 * 3/16')\n",
    "print(x0, y0)\n",
    "print(x1, y1)\n",
    "print(x2, y2)"
   ]
  },
  {
   "cell_type": "code",
   "execution_count": 16,
   "metadata": {},
   "outputs": [
    {
     "name": "stdout",
     "output_type": "stream",
     "text": [
      "[0.0, 1.3333333333333333, -0.5833333333333333] -0.5833333333333333\n",
      "2행 * 4/3 + 3행\n",
      "[1.0, 0.3333333333333333, 0.6666666666666666] 1.6666666666666665\n",
      "[0.0, 1.0, -0.43749999999999994] -0.43749999999999994\n",
      "[0.0, 0.0, -4.25] -4.249999999999999\n"
     ]
    }
   ],
   "source": [
    "# 2행 * -(3행 2열) + 3행\n",
    "x1_tmp = [element * -x2[1] for element in x1]\n",
    "y1_tmp = y1 * -x2[1]\n",
    "print(x1_tmp, y1_tmp)\n",
    "\n",
    "for i in range(0, len(x1)):\n",
    "    x2[i] = x1_tmp[i] + x2[i]\n",
    "y2 = y1_tmp + y2\n",
    "print('2행 * 4/3 + 3행')\n",
    "print(x0, y0)\n",
    "print(x1, y1)\n",
    "print(x2, y2)"
   ]
  },
  {
   "cell_type": "code",
   "execution_count": 17,
   "metadata": {},
   "outputs": [
    {
     "name": "stdout",
     "output_type": "stream",
     "text": [
      "3행 * (-12/51)\n",
      "[1.0, 0.3333333333333333, 0.6666666666666666] 1.6666666666666665\n",
      "[0.0, 1.0, -0.43749999999999994] -0.43749999999999994\n",
      "[-0.0, -0.0, 1.0] 0.9999999999999998\n"
     ]
    }
   ],
   "source": [
    "# 3행 * (3행 2열의 역수)\n",
    "tmp = 1/x2[2]\n",
    "x2 = [element * tmp for element in x2]\n",
    "y2 = y2 * tmp\n",
    "print('3행 * (-12/51)')\n",
    "print(x0, y0)\n",
    "print(x1, y1)\n",
    "print(x2, y2)"
   ]
  },
  {
   "cell_type": "code",
   "execution_count": 18,
   "metadata": {},
   "outputs": [
    {
     "name": "stdout",
     "output_type": "stream",
     "text": [
      "[-0.0, -0.3333333333333333, 0.14583333333333331] 0.14583333333333331\n",
      "2행 * (-1/3) + 1행\n",
      "[1.0, 0.0, 0.8125] 1.8124999999999998\n",
      "[0.0, 1.0, -0.43749999999999994] -0.43749999999999994\n",
      "[-0.0, -0.0, 1.0] 0.9999999999999998\n"
     ]
    }
   ],
   "source": [
    "# 2행 * -(1행 2열) + 1행\n",
    "x1_tmp = [element * -x0[1] for element in x1]\n",
    "y1_tmp = y1 * -x0[1]\n",
    "print(x1_tmp, y1_tmp)\n",
    "\n",
    "for i in range(0, len(x1)):\n",
    "    x0[i] = x1_tmp[i] + x0[i]\n",
    "y0 = y1_tmp + y0\n",
    "print('2행 * (-1/3) + 1행')\n",
    "print(x0, y0)\n",
    "print(x1, y1)\n",
    "print(x2, y2)"
   ]
  },
  {
   "cell_type": "code",
   "execution_count": 19,
   "metadata": {},
   "outputs": [
    {
     "name": "stdout",
     "output_type": "stream",
     "text": [
      "[-0.0, -0.0, 0.43749999999999994] 0.43749999999999983\n",
      "3행 * (7/16) + 2행\n",
      "[1.0, 0.0, 0.8125] 1.8124999999999998\n",
      "[0.0, 1.0, 0.0] -1.1102230246251565e-16\n",
      "[-0.0, -0.0, 1.0] 0.9999999999999998\n"
     ]
    }
   ],
   "source": [
    "# 3행 * (2행 3열) + 2행\n",
    "x2_tmp = [element * -x1[2] for element in x2]\n",
    "y2_tmp = y2 * -x1[2]\n",
    "print(x2_tmp, y2_tmp)\n",
    "\n",
    "for i in range(0, len(x2)):\n",
    "    x1[i] = x2_tmp[i] + x1[i]\n",
    "y1 = y2_tmp + y1\n",
    "\n",
    "print('3행 * (7/16) + 2행')\n",
    "print(x0, y0)\n",
    "print(x1, y1)\n",
    "print(x2, y2)"
   ]
  },
  {
   "cell_type": "code",
   "execution_count": 20,
   "metadata": {},
   "outputs": [
    {
     "name": "stdout",
     "output_type": "stream",
     "text": [
      "[0.0, 0.0, -0.8125] -0.8124999999999998\n",
      "3행 * (-0.8125) + 1행\n",
      "[1.0, 0.0, 0.0] 1.0\n",
      "[0.0, 1.0, 0.0] -1.1102230246251565e-16\n",
      "[-0.0, -0.0, 1.0] 0.9999999999999998\n"
     ]
    }
   ],
   "source": [
    "# 3행 * -(1행 3열) + 1행\n",
    "x2_tmp = [element * -x0[2] for element in x2]\n",
    "y2_tmp = y2 * -x0[2]\n",
    "print(x2_tmp, y2_tmp)\n",
    "\n",
    "for i in range(0, len(x2)):\n",
    "    x0[i] = x2_tmp[i] + x0[i]\n",
    "y0 = y2_tmp + y0\n",
    "\n",
    "print('3행 * (-0.8125) + 1행')\n",
    "print(x0, y0)\n",
    "print(x1, y1)\n",
    "print(x2, y2)"
   ]
  },
  {
   "cell_type": "code",
   "execution_count": 21,
   "metadata": {},
   "outputs": [
    {
     "name": "stdout",
     "output_type": "stream",
     "text": [
      "[1.0, -1.1102230246251565e-16, 0.9999999999999998]\n"
     ]
    }
   ],
   "source": [
    "sol = [y0, y1, y2]\n",
    "print(sol)"
   ]
  },
  {
   "cell_type": "markdown",
   "metadata": {},
   "source": [
    "### 5.4.2 함수 생성 테스트\n",
    "\n",
    "위의 순차적 과정을 함수로 만들어 보기"
   ]
  },
  {
   "cell_type": "code",
   "execution_count": 1,
   "metadata": {},
   "outputs": [],
   "source": [
    "def zero_mat(n, p):\n",
    "    \"\"\"\n",
    "    영행렬 생성\n",
    "    입력값: 생성하고자 할 영행렬의 크기 n행, p열\n",
    "    출력값: (n x p) 영행렬 Z\n",
    "    \"\"\"\n",
    "    Z = []\n",
    "    for i in range(0, n):\n",
    "        row = []\n",
    "        for j in range(0, p):\n",
    "            row.append(0)\n",
    "        Z.append(row)\n",
    "    return Z"
   ]
  },
  {
   "cell_type": "code",
   "execution_count": 2,
   "metadata": {},
   "outputs": [],
   "source": [
    "def deepcopy(A):\n",
    "    \"\"\"\n",
    "    깊은 복사 (deepcopy) 구현\n",
    "    입력값: 깊은 복사를 하고자 하는 행렬 리스트 A\n",
    "    출력값: 깊은 복사된 결과 행렬 리스트 res\n",
    "    \"\"\"\n",
    "    if type(A[0]) == list:\n",
    "        n = len(A)\n",
    "        p = len(A[0])\n",
    "        res = zero_mat(n, p)  # 입력값 A와 동일한 크기인 영행렬을 생성\n",
    "        for i in range(0, n):\n",
    "            for j in range(0, p):\n",
    "                res[i][j] = A[i][j]\n",
    "        return res\n",
    "    else:\n",
    "        n = len(A)\n",
    "        res = []\n",
    "        for i in range(0, n):\n",
    "            res.append(A[i])\n",
    "        return res"
   ]
  },
  {
   "cell_type": "code",
   "execution_count": 3,
   "metadata": {},
   "outputs": [],
   "source": [
    "def solve(A, b):\n",
    "    \n",
    "    X = deepcopy(A)\n",
    "    sol = deepcopy(b)\n",
    "    n = len(X)\n",
    "    \n",
    "    for i in range(0, n):\n",
    "        print('----- i번째 실행 시작! -----')\n",
    "        x_row = X[i]\n",
    "        y_val = sol[i]\n",
    "        \n",
    "        if x_row[i] != 0:\n",
    "            tmp = 1/x_row[i]\n",
    "        else:\n",
    "            tmp = 0\n",
    "            \n",
    "        x_row = [element * tmp for element in x_row]\n",
    "        y_val = y_val * tmp\n",
    "        \n",
    "        X[i] = x_row\n",
    "        sol[i] = y_val\n",
    "        \n",
    "        print(x_row)\n",
    "        print(y_val)\n",
    "        print('----- 행 나누기 완료 -----')\n",
    "        \n",
    "        for j in range(0, n):\n",
    "            if i==j:\n",
    "                continue\n",
    "            print('----- j번째 실행 시작 -----')\n",
    "            x_next = X[j]\n",
    "            y_next = sol[j]\n",
    "            \n",
    "            x_tmp = [element * -x_next[i] for element in x_row]\n",
    "            y_tmp = y_val * (-x_next[i])\n",
    "            \n",
    "            for k in range(0, len(x_row)):\n",
    "                x_next[k] = x_tmp[k] + x_next[k]\n",
    "            y_next = y_tmp + y_next\n",
    "            \n",
    "            X[j] = x_next\n",
    "            sol[j] = y_next\n",
    "            \n",
    "            print(X)\n",
    "            print(sol)\n",
    "            print('----- j번째 실행 종료 -----')\n",
    "        print('i번째 실행 완료!')\n",
    "        \n",
    "    return sol"
   ]
  },
  {
   "cell_type": "code",
   "execution_count": 4,
   "metadata": {},
   "outputs": [
    {
     "name": "stdout",
     "output_type": "stream",
     "text": [
      "----- i번째 실행 시작! -----\n",
      "[1.0, 0.3333333333333333, 0.6666666666666666]\n",
      "1.6666666666666665\n",
      "----- 행 나누기 완료 -----\n",
      "----- j번째 실행 시작 -----\n",
      "[[1.0, 0.3333333333333333, 0.6666666666666666], [0.0, 5.333333333333333, -2.333333333333333], [4, 0, -1]]\n",
      "[1.6666666666666665, -2.333333333333333, 3]\n",
      "----- j번째 실행 종료 -----\n",
      "----- j번째 실행 시작 -----\n",
      "[[1.0, 0.3333333333333333, 0.6666666666666666], [0.0, 5.333333333333333, -2.333333333333333], [0.0, -1.3333333333333333, -3.6666666666666665]]\n",
      "[1.6666666666666665, -2.333333333333333, -3.666666666666666]\n",
      "----- j번째 실행 종료 -----\n",
      "i번째 실행 완료!\n",
      "----- i번째 실행 시작! -----\n",
      "[0.0, 1.0, -0.43749999999999994]\n",
      "-0.43749999999999994\n",
      "----- 행 나누기 완료 -----\n",
      "----- j번째 실행 시작 -----\n",
      "[[1.0, 0.0, 0.8125], [0.0, 1.0, -0.43749999999999994], [0.0, -1.3333333333333333, -3.6666666666666665]]\n",
      "[1.8124999999999998, -0.43749999999999994, -3.666666666666666]\n",
      "----- j번째 실행 종료 -----\n",
      "----- j번째 실행 시작 -----\n",
      "[[1.0, 0.0, 0.8125], [0.0, 1.0, -0.43749999999999994], [0.0, 0.0, -4.25]]\n",
      "[1.8124999999999998, -0.43749999999999994, -4.249999999999999]\n",
      "----- j번째 실행 종료 -----\n",
      "i번째 실행 완료!\n",
      "----- i번째 실행 시작! -----\n",
      "[-0.0, -0.0, 1.0]\n",
      "0.9999999999999998\n",
      "----- 행 나누기 완료 -----\n",
      "----- j번째 실행 시작 -----\n",
      "[[1.0, 0.0, 0.0], [0.0, 1.0, -0.43749999999999994], [-0.0, -0.0, 1.0]]\n",
      "[1.0, -0.43749999999999994, 0.9999999999999998]\n",
      "----- j번째 실행 종료 -----\n",
      "----- j번째 실행 시작 -----\n",
      "[[1.0, 0.0, 0.0], [0.0, 1.0, 0.0], [-0.0, -0.0, 1.0]]\n",
      "[1.0, -1.1102230246251565e-16, 0.9999999999999998]\n",
      "----- j번째 실행 종료 -----\n",
      "i번째 실행 완료!\n"
     ]
    },
    {
     "data": {
      "text/plain": [
       "[1.0, -1.1102230246251565e-16, 0.9999999999999998]"
      ]
     },
     "execution_count": 4,
     "metadata": {},
     "output_type": "execute_result"
    }
   ],
   "source": [
    "X = [[3, 1, 2], [2, 6, -1], [4, 0, -1]]\n",
    "y = [5, 1, 3]\n",
    "solve(X, y)"
   ]
  },
  {
   "cell_type": "markdown",
   "metadata": {},
   "source": [
    "## 5.5 넘파이 실습\n",
    "\n",
    "`np.linalg.solve(X, y)` 이게 끝이다..."
   ]
  }
 ],
 "metadata": {
  "interpreter": {
   "hash": "8416a3f2a026e985bee17eceb7546469969f3a4d162bd0f7da6d9cc666a7e5f9"
  },
  "kernelspec": {
   "display_name": "Python 3.9.7 ('base')",
   "language": "python",
   "name": "python3"
  },
  "language_info": {
   "codemirror_mode": {
    "name": "ipython",
    "version": 3
   },
   "file_extension": ".py",
   "mimetype": "text/x-python",
   "name": "python",
   "nbconvert_exporter": "python",
   "pygments_lexer": "ipython3",
   "version": "3.9.7"
  },
  "orig_nbformat": 4
 },
 "nbformat": 4,
 "nbformat_minor": 2
}
