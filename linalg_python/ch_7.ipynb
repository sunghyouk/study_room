{
 "cells": [
  {
   "cell_type": "markdown",
   "metadata": {},
   "source": [
    "# Chapter 7. 역행렬\n",
    "\n",
    "## 7.1 역행렬의 개념\n",
    "\n",
    "역행렬이 존재하지 않는다 - **특이 행렬 (singular matrix)**, 행렬식이 0  \n",
    "\n",
    "## 7.2 역행렬 계산\n",
    "\n",
    "### 7.2.1 2*2 행렬의 역행렬 구하기\n",
    "\n",
    "행렬 $\\mathbf{A}$, $\\mathbf{B}$가 크기가 같고, 두 행렬 모두 가역행렬이면 두 행렬의 행렬 곱 $\\mathbf{AB}$ 또한 가역이며,  \n",
    "$$(\\mathbf{AB})^{-1} = \\mathbf{B}^{-1}\\mathbf{A}^{-1}$$\n",
    "\n",
    "### 7.2.2 n*n 행렬의 역행렬 구하기\n",
    "\n",
    "여인수 행렬을 구하고,  \n",
    "이 행렬의 전치 행렬을 **수반행렬**이라고 함: *adj($\\mathbf{A}$)*로 표기  \n",
    "$$\\mathbf{A}^{-1}=\\frac{1}{\\det(\\mathbf{A})}adj(\\mathbf{A})$$\n",
    "\n",
    "## 7.3 정사각 행렬의 거듭 제곱\n",
    "\n",
    "## 7.4 역행렬의 성질\n",
    "\n",
    "### 7.4.1 역행렬의 거듭 제곱\n",
    "\n",
    "### 7.4.2 역행렬과 전치 행렬\n",
    "\n",
    "행렬 $\\mathbf{A}$가 가역 행렬이면 행렬 $\\mathbf{A}$의 전치 행렬인 $\\mathbf{A}^T$도 가역행렬이며,\n",
    "$$(\\mathbf{A}^{-1})^T=(\\mathbf{A}^T)^{-1}$$\n",
    "\n",
    "### 7.4.3 거듭 제곱 행렬의 역행렬\n",
    "\n",
    "행렬 $\\mathbf{A}$의 역행렬이 존재하면 $\\mathbf{AA}^T$와 $\\mathbf{A}^T\\mathbf{A}$의 역행렬도 존재\n",
    "\n",
    "### 7.4.4 역행렬과 행렬식\n",
    "\n",
    "$$\\det(\\mathbf{A}^{-1})=\\frac{1}{\\det(\\mathbf{A})}$$\n",
    "\n",
    "## 7.5 파이썬 실습"
   ]
  },
  {
   "cell_type": "markdown",
   "metadata": {},
   "source": [
    "### 7.5.1 단계적으로 계산하기"
   ]
  },
  {
   "cell_type": "code",
   "execution_count": 2,
   "metadata": {},
   "outputs": [
    {
     "name": "stdout",
     "output_type": "stream",
     "text": [
      "5\n"
     ]
    }
   ],
   "source": [
    "# 행렬식 구하기\n",
    "A = [[3, 2, 0], [-1, -3, 6], [2, 3, -5]]\n",
    "n = len(A)\n",
    "p = len(A[0])\n",
    "\n",
    "detA = 0\n",
    "for j in range(0, p):\n",
    "    M = [A[1][:j] + A[1][j+1:], A[2][:j]+A[2][j+1:]]\n",
    "    Mij = M[0][0] * M[1][1] - M[0][1] * M[1][0]\n",
    "    Cij = ((-1)**(0+j)) * Mij\n",
    "    detA += A[0][j] * Cij\n",
    "    \n",
    "print(detA)"
   ]
  },
  {
   "cell_type": "code",
   "execution_count": null,
   "metadata": {},
   "outputs": [],
   "source": [
    "# 여인수 구하기\n",
    "# j에 실제 수를 넣어서 검사 해보기\n",
    "# 여인수 행렬\n"
   ]
  }
 ],
 "metadata": {
  "interpreter": {
   "hash": "8416a3f2a026e985bee17eceb7546469969f3a4d162bd0f7da6d9cc666a7e5f9"
  },
  "kernelspec": {
   "display_name": "Python 3.9.7 ('base')",
   "language": "python",
   "name": "python3"
  },
  "language_info": {
   "codemirror_mode": {
    "name": "ipython",
    "version": 3
   },
   "file_extension": ".py",
   "mimetype": "text/x-python",
   "name": "python",
   "nbconvert_exporter": "python",
   "pygments_lexer": "ipython3",
   "version": "3.9.7"
  },
  "orig_nbformat": 4
 },
 "nbformat": 4,
 "nbformat_minor": 2
}
