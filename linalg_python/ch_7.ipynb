{
 "cells": [
  {
   "cell_type": "markdown",
   "metadata": {},
   "source": [
    "# Chapter 7. 역행렬\n",
    "\n",
    "## 7.1 역행렬의 개념\n",
    "\n",
    "역행렬이 존재하지 않는다 - **특이 행렬 (singular matrix)**, 행렬식이 0  \n",
    "\n",
    "## 7.2 역행렬 계산\n",
    "\n",
    "### 7.2.1 2*2 행렬의 역행렬 구하기\n",
    "\n",
    "행렬 $\\mathbf{A}$, $\\mathbf{B}$가 크기가 같고, 두 행렬 모두 가역행렬이면 두 행렬의 행렬 곱 $\\mathbf{AB}$ 또한 가역이며,  \n",
    "$$(\\mathbf{AB})^{-1} = \\mathbf{B}^{-1}\\mathbf{A}^{-1}$$\n",
    "\n",
    "### 7.2.2 n*n 행렬의 역행렬 구하기\n",
    "\n",
    "여인수 행렬을 구하고,  \n",
    "이 행렬의 전치 행렬을 **수반행렬**이라고 함: adj($\\mathbf{A}$)로 표기  \n",
    "$$\\mathbf{A}^{-1}=\\frac{1}{\\det(\\mathbf{A})}adj(\\mathbf{A})$$\n",
    "\n",
    "## 7.3 정사각 행렬의 거듭 제곱\n",
    "\n",
    "## 7.4 역행렬의 성질\n",
    "\n",
    "### 7.4.1 역행렬의 거듭 제곱\n",
    "\n",
    "### 7.4.2 역행렬과 전치 행렬\n",
    "\n",
    "행렬 $\\mathbf{A}$가 가역 행렬이면 행렬 $\\mathbf{A}$의 전치 행렬인 $\\mathbf{A}^T$도 가역행렬이며,\n",
    "$$(\\mathbf{A}^{-1})^T=(\\mathbf{A}^T)^{-1}$$\n",
    "\n",
    "### 7.4.3 거듭 제곱 행렬의 역행렬\n",
    "\n",
    "행렬 $\\mathbf{A}$의 역행렬이 존재하면 $\\mathbf{AA}^T$와 $\\mathbf{A}^T\\mathbf{A}$의 역행렬도 존재\n",
    "\n",
    "### 7.4.4 역행렬과 행렬식\n",
    "\n",
    "$$\\det(\\mathbf{A}^{-1})=\\frac{1}{\\det(\\mathbf{A})}$$\n",
    "\n",
    "## 7.5 파이썬 실습"
   ]
  },
  {
   "cell_type": "markdown",
   "metadata": {},
   "source": [
    "### 7.5.1 단계적으로 계산하기"
   ]
  },
  {
   "cell_type": "code",
   "execution_count": 1,
   "metadata": {},
   "outputs": [
    {
     "name": "stdout",
     "output_type": "stream",
     "text": [
      "5\n"
     ]
    }
   ],
   "source": [
    "# 행렬식 구하기\n",
    "A = [[3, 2, 0], [-1, -3, 6], [2, 3, -5]]\n",
    "n = len(A)\n",
    "p = len(A[0])\n",
    "\n",
    "detA = 0\n",
    "for j in range(0, p):\n",
    "    M = [A[1][:j] + A[1][j+1:], A[2][:j]+A[2][j+1:]]\n",
    "    Mij = M[0][0] * M[1][1] - M[0][1] * M[1][0]\n",
    "    Cij = ((-1)**(0+j)) * Mij\n",
    "    detA += A[0][j] * Cij\n",
    "    \n",
    "print(detA)"
   ]
  },
  {
   "cell_type": "code",
   "execution_count": 4,
   "metadata": {},
   "outputs": [],
   "source": [
    "from util import deepcopy\n",
    "\n",
    "def det_rec(A):\n",
    "    \n",
    "    \"\"\"\n",
    "    행렬 A의 행렬식 구하기 (재귀 방식을 이용)\n",
    "    입력값: 행렬식을 구하고자 하는 행렬 A\n",
    "    출력값: 행렬 A의 행렬식 res\n",
    "    \"\"\"\n",
    "    \n",
    "    n = len(A)\n",
    "    res = 0\n",
    "    \n",
    "    # 2*2 행렬의 행렬식 구하기\n",
    "    if n == 2:\n",
    "        res = A[0][0] * A[1][1] - A[1][0] * A[0][1]\n",
    "        return res\n",
    "\n",
    "    # n*n 행렬의 행렬식 구하기\n",
    "    for i in range(0, n):\n",
    "        X = deepcopy(A)\n",
    "        X = X[1:]\n",
    "        nx = len(X)\n",
    "    \n",
    "        for j in range(0, nx):\n",
    "            X[j] = X[j][0:i] + X[j][i+1:]\n",
    "        \n",
    "        sign = (-1) ** (i % 2)\n",
    "        sub_det = det_rec(X)\n",
    "        res += sign * A[0][i] * sub_det\n",
    "    \n",
    "    return res"
   ]
  },
  {
   "cell_type": "code",
   "execution_count": 5,
   "metadata": {},
   "outputs": [
    {
     "name": "stdout",
     "output_type": "stream",
     "text": [
      "[[-3, 7, 3], [10, -15, -5], [12, -18, -7]]\n"
     ]
    }
   ],
   "source": [
    "# 여인수 구하기\n",
    "# j에 실제 수를 넣어서 검사 해보기\n",
    "\n",
    "# 여인수 행렬\n",
    "C = []\n",
    "for i in range(0, n):\n",
    "    row_C = []\n",
    "    idx_r = list(range(0, n)) # 행렬의 행 인덱스 리스트\n",
    "    idx_r.remove(i) # i번째 행을 제외하기 위해\n",
    "    for j in range(0, n):\n",
    "        idx_c = list(range(0, n))\n",
    "        idx_c.remove(j) # j번째 열을 제거하기 위해\n",
    "        M = [] # 부분 행렬\n",
    "        for k in idx_r:\n",
    "            row_M = []\n",
    "            for l in idx_c:\n",
    "                val = A[k][l]\n",
    "                row_M.append(val)\n",
    "            M.append(row_M)\n",
    "        Mij = det_rec(M)\n",
    "        Cij = ((-1)**(i+j))*Mij\n",
    "        row_C.append(Cij)\n",
    "    C.append(row_C)\n",
    "\n",
    "print(C)"
   ]
  },
  {
   "cell_type": "code",
   "execution_count": 6,
   "metadata": {},
   "outputs": [],
   "source": [
    "def transpose(A):\n",
    "    \"\"\"\n",
    "    행렬의 전치 행렬\n",
    "    입력값: 전치 행렬을 구하고자 하는 행렬 A\n",
    "    출력값: 행렬 A의 전치 행렬 At\n",
    "    \"\"\"\n",
    "    \n",
    "    n = len(A)\n",
    "    p = len(A[0])\n",
    "    \n",
    "    At = []\n",
    "    for i in range(0, p):\n",
    "        row = []\n",
    "        for j in range(0, n):\n",
    "            val = A[j][i]\n",
    "            row.append(val)\n",
    "        At.append(row)\n",
    "    return At"
   ]
  },
  {
   "cell_type": "code",
   "execution_count": 7,
   "metadata": {},
   "outputs": [
    {
     "name": "stdout",
     "output_type": "stream",
     "text": [
      "[[-3, 10, 12], [7, -15, -18], [3, -5, -7]]\n"
     ]
    }
   ],
   "source": [
    "# 수반 행렬\n",
    "adj = transpose(C)\n",
    "print(adj)"
   ]
  },
  {
   "cell_type": "code",
   "execution_count": 8,
   "metadata": {},
   "outputs": [],
   "source": [
    "# 행렬의 스칼라 곱\n",
    "def scalar_mul(b, A):\n",
    "    \"\"\"\n",
    "    행렬의 스칼라 곱\n",
    "    입력값: 스칼라 곱을 수행할 스칼라 b, 행렬 A\n",
    "    출력값: 스칼라 b와 행렬 A의 스칼라 곱 결과인 행렬 C\n",
    "    \"\"\"\n",
    "    \n",
    "    n = len(A)\n",
    "    p = len(A[0])\n",
    "    \n",
    "    res = []\n",
    "    for i in range(0, n):\n",
    "        row = []\n",
    "        for j in range(0, p):\n",
    "            val = b * A[i][j]\n",
    "            row.append(val)\n",
    "        res.append(row)\n",
    "    return res"
   ]
  },
  {
   "cell_type": "code",
   "execution_count": 9,
   "metadata": {},
   "outputs": [
    {
     "name": "stdout",
     "output_type": "stream",
     "text": [
      "[[-0.6000000000000001, 2.0, 2.4000000000000004], [1.4000000000000001, -3.0, -3.6], [0.6000000000000001, -1.0, -1.4000000000000001]]\n"
     ]
    }
   ],
   "source": [
    "# 역행렬\n",
    "invA = scalar_mul(1/detA, adj)\n",
    "print(invA)"
   ]
  },
  {
   "cell_type": "markdown",
   "metadata": {},
   "source": [
    "### 7.5.2 함수로 구현하기\n"
   ]
  },
  {
   "cell_type": "code",
   "execution_count": 10,
   "metadata": {},
   "outputs": [],
   "source": [
    "def inv(A):\n",
    "    \"\"\"\n",
    "    행렬 A의 역행렬 구하기\n",
    "    입력값: 행렬 A\n",
    "    출력값: 행렬 A의 역행렬 res\n",
    "    \"\"\"\n",
    "    \n",
    "    n = len(A)\n",
    "    X = deepcopy(A)\n",
    "    \n",
    "    C = []\n",
    "    for i in range(0, n):\n",
    "        row_C = []\n",
    "        idx_r = list(range(0, n))\n",
    "        idx_r.remove(i)\n",
    "        for j in range(0, n):\n",
    "            idx_c = list(range(0, n))\n",
    "            idx_c.remove(j)\n",
    "            M = []\n",
    "            for k in idx_r:\n",
    "                row_M = []\n",
    "                for l in idx_c:\n",
    "                    val = X[k][l]\n",
    "                    row_M.append(val)\n",
    "                M.append(row_M)\n",
    "            Mij = det_rec(M)\n",
    "            Cij = ((-1)**(i+j))*Mij\n",
    "            row_C.append(Cij)\n",
    "        C.append(row_C)\n",
    "        \n",
    "    adj = transpose(C)\n",
    "    res = scalar_mul(1/det_rec(X), adj)\n",
    "    \n",
    "    return res"
   ]
  },
  {
   "cell_type": "code",
   "execution_count": 11,
   "metadata": {},
   "outputs": [
    {
     "data": {
      "text/plain": [
       "[[-0.6000000000000001, 2.0, 2.4000000000000004],\n",
       " [1.4000000000000001, -3.0, -3.6],\n",
       " [0.6000000000000001, -1.0, -1.4000000000000001]]"
      ]
     },
     "execution_count": 11,
     "metadata": {},
     "output_type": "execute_result"
    }
   ],
   "source": [
    "# 예시\n",
    "A = [[3, 2, 0], [-1, -3, 6], [2, 3, -5]]\n",
    "inv(A)"
   ]
  },
  {
   "cell_type": "markdown",
   "metadata": {},
   "source": [
    "## 7.6 넘파이 실습\n",
    "\n",
    "`np.linalg.inv(A)` 이게 끝이다..."
   ]
  }
 ],
 "metadata": {
  "interpreter": {
   "hash": "8416a3f2a026e985bee17eceb7546469969f3a4d162bd0f7da6d9cc666a7e5f9"
  },
  "kernelspec": {
   "display_name": "Python 3.9.7 ('base')",
   "language": "python",
   "name": "python3"
  },
  "language_info": {
   "codemirror_mode": {
    "name": "ipython",
    "version": 3
   },
   "file_extension": ".py",
   "mimetype": "text/x-python",
   "name": "python",
   "nbconvert_exporter": "python",
   "pygments_lexer": "ipython3",
   "version": "3.9.7"
  },
  "orig_nbformat": 4
 },
 "nbformat": 4,
 "nbformat_minor": 2
}
