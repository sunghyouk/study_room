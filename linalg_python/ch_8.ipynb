{
 "cells": [
  {
   "cell_type": "markdown",
   "metadata": {},
   "source": [
    "# Chapter 8. 기저와 차원\n",
    "\n",
    "## 8.1 벡터 공간\n",
    "\n",
    "### 8.1.1 벡터 공간의 개념\n",
    "\n",
    "벡터 공간 - 벡터의 덧셈과 스칼라 곱이 정의된 공간  \n",
    "내적 공간 - 길이, 각도와 같은 것이 정의되어 있는 곳 - GOTO: chapter 9.  \n",
    "\n",
    "흔히 어떤 공간의 좌표 축의 기본 벡터를 **유닛 벡터** (unit vector)라고 함  \n",
    "\n",
    "### 8.1.2 부분 공간\n",
    "\n",
    "벡터 공간의 일부분 - **부분 공간** (subspace)  \n",
    "전체 벡터 공간 $V$가 3차원이고 2개의 기저 벡터 집합을 $S$  \n",
    "이때, 집합 $S$에 속하는 기저 벡터들로 구성되는 2차원 부분 공간을 $W$라고 했을 때 $W=span(S)$라고 표현  \n",
    "\n",
    "## 8.2 선형 변환\n",
    "\n"
   ]
  }
 ],
 "metadata": {
  "interpreter": {
   "hash": "8416a3f2a026e985bee17eceb7546469969f3a4d162bd0f7da6d9cc666a7e5f9"
  },
  "kernelspec": {
   "display_name": "Python 3.9.7 ('base')",
   "language": "python",
   "name": "python3"
  },
  "language_info": {
   "name": "python",
   "version": "3.9.7"
  },
  "orig_nbformat": 4
 },
 "nbformat": 4,
 "nbformat_minor": 2
}
