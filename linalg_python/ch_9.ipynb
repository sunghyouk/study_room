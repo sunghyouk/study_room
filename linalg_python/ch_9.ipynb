{
 "cells": [
  {
   "cell_type": "markdown",
   "metadata": {},
   "source": [
    "# Chapter 9. 내적\n",
    "\n",
    "## 9.1 내적의 개념\n",
    "\n",
    "### 9.1.1 내적 공간\n",
    "\n",
    "### 9.1.2 내적의 정의\n",
    "\n",
    "내적을 구하려는 각 벡터의 동일한 위치에 있는 원소를 서로 곱한 후 더함  \n",
    "두 열 벡터 중 하나의 벡터를 전치시켜 행 벡터로 변환 후 나머지 벡터와 벡터 곱을 하면 내적 값  \n",
    "\n",
    "### 9.1.3 내적의 성질\n",
    "\n",
    "* 내적 = 0이면, 두 벡터 사이의 각도 = 90\n",
    "* 벡터의 길이 = **norm**\n",
    "\n",
    "### 9.1.4 정사영\n",
    "\n",
    "한 벡터 공간에 속한 벡터를 부분 공간으로 수직으로 투영하는 것  \n",
    "벡터 u와 벡터 v의 내적이란 벡터 u를 벡터 v에 정사영시킨 벡터의 길이와 같다.  \n",
    "$$<\\mathbf{u}, \\mathbf{v}> = ||\\mathbf{u}||\\,||\\mathbf{v}||\\cos\\theta$$\n",
    "\n",
    "## 9.2 직교 공간과 정규 직교 공간\n",
    "\n",
    "### 9.2.1 직교 공간\n",
    "\n",
    "### 9.2.2 정규 직교 공간\n",
    "\n",
    "직교 공간에 존재하는 직교 벡터의 길이가 모두 1인 경우, 해당 벡터를 **정규 직교 벡터**  \n",
    "정규 직교 벡터가 만드는 공간을 **정규 직교 공간**  \n",
    "정규 직교 벡터로 바꾸는 방법은 해당 벡터의 길이로 나누는 것: **정규화**  \n",
    "\n",
    "### 9.2.3 정규 직교 벡터를 활용한 좌표 표현\n",
    "\n",
    "### 9.2.4 직교 벡터를 활용한 좌표 표현\n",
    "\n",
    "## 9.3 그램 슈미트 과정\n",
    "\n",
    "### 9.3.3 그램 슈미트 과정\n",
    "\n",
    "기저 벡터를 직교 기저 벡터로 변환하는 과정: 모든 벡터가 서로 직교하게끔 만들어야 한다.  \n",
    "\n",
    "1) 새로운 직교 기저 벡터를 정의하는 단계 - 기존 첫번째 기저 벡터로 정의\n",
    "2) 기존 두 번째 기저 벡터를 기저 벡터가 생성하는 공간에 정사영\n",
    "3) 앞서 생성한 벡터들과 직교해야 함\n",
    "\n",
    "## 9.4 QR 분해\n",
    "\n",
    "### 9.4.1 기본적인 QR 분해 방법\n",
    "\n",
    "$\\mathbf{A}$ 행렬이 $n\\times p$ 행렬이고 *full rank*라고 가정 = 모두 **선형 독립**  \n",
    "해당 행렬이 공간의 기저가 될 수 있음  \n",
    "이 때 $\\mathbf{A}$ 행렬은 $\\mathbf{QR}$로 분해 가능  \n",
    "$\\mathbf{Q}$는 $n\\times p$행렬이고 **정규 직교** 벡터로 구성  \n",
    "$\\mathbf{R}$은 **가역 상 삼각행렬**로 역행렬이 존재하는 상삼각행렬임  \n",
    "이를 이용해 큰 행렬의 고유값을 구하는 데 사용  \n",
    "\n",
    "### 9.4.2 그램 슈미트 과정을 이용한 QR분해\n",
    "\n",
    "### 9.4.3 하우스홀더 방법을 이용한 QR분해\n",
    "\n",
    "## 9.5 파이썬 실습"
   ]
  },
  {
   "cell_type": "code",
   "execution_count": 1,
   "metadata": {},
   "outputs": [
    {
     "name": "stdout",
     "output_type": "stream",
     "text": [
      "32\n"
     ]
    }
   ],
   "source": [
    "# 9.5.1 기본 내적 실습\n",
    "a = [1, 2, 3]\n",
    "b = [4, 5, 6]\n",
    "n = len(a)\n",
    "res = 0\n",
    "for i in range(0, n):\n",
    "    res += a[i] * b[i]\n",
    "print(res)"
   ]
  },
  {
   "cell_type": "code",
   "execution_count": 2,
   "metadata": {},
   "outputs": [],
   "source": [
    "# 위의 결과로 함수만들기\n",
    "def inner_product(a, b):\n",
    "    \"\"\"\n",
    "    벡터의 내적\n",
    "    입력값: 내적할 벡터 리스트 a, b\n",
    "    출력값: 벡터 a, b의 내적 결과 res\n",
    "    \"\"\"\n",
    "    n = len(a)\n",
    "    res = 0\n",
    "    for i in range(0, n):\n",
    "        res += a[i] * b[i]\n",
    "    return res"
   ]
  },
  {
   "cell_type": "code",
   "execution_count": 3,
   "metadata": {},
   "outputs": [
    {
     "name": "stdout",
     "output_type": "stream",
     "text": [
      "[1, 0, 1]\n"
     ]
    }
   ],
   "source": [
    "# 9.5.2 그램 슈미트 과정을 이용한 QR 분해\n",
    "# 열 벡터로 분리하기\n",
    "A = [[1, 0, 1], [0, 1, 1], [1, 2, 0]]\n",
    "\n",
    "n = len(A)\n",
    "p = len(A[0])\n",
    "a1 = []\n",
    "a2 = []\n",
    "a3 = []\n",
    "\n",
    "for i in range(0, n):\n",
    "    a1.append(A[i][0])\n",
    "    a2.append(A[i][1])\n",
    "    a3.append(A[i][2])\n",
    "    \n",
    "print(a1)"
   ]
  },
  {
   "cell_type": "code",
   "execution_count": 4,
   "metadata": {},
   "outputs": [
    {
     "name": "stdout",
     "output_type": "stream",
     "text": [
      "2\n",
      "1.4142135623730951\n",
      "[-0.9999999999999998, 1.0, 1.0000000000000002]\n"
     ]
    }
   ],
   "source": [
    "# 그램 슈미트 첫 번째 과정\n",
    "u1 = a1\n",
    "\n",
    "# 벡터 u2 구하기\n",
    "# 일단, <a2, u1>의 내적값 구하기\n",
    "dp21 = 0\n",
    "for i in range(0, len(u1)):\n",
    "    tmp = a2[i] * u1[i]\n",
    "    dp21 += tmp\n",
    "print(dp21)\n",
    "\n",
    "# 그 다음, u1의 norm 구하기\n",
    "norm_u1 = 0\n",
    "for i in range(0, len(u1)):\n",
    "    norm_u1 += u1[i]**2\n",
    "norm_u1 = norm_u1**0.5\n",
    "print(norm_u1)\n",
    "\n",
    "# u2를 구하면,\n",
    "u2 = []\n",
    "for i in range(0, n):\n",
    "    tmp = a2[i] - (dp21/norm_u1**2) * u1[i]\n",
    "    u2.append(tmp)\n",
    "print(u2)"
   ]
  },
  {
   "cell_type": "code",
   "execution_count": 5,
   "metadata": {},
   "outputs": [
    {
     "name": "stdout",
     "output_type": "stream",
     "text": [
      "1\n",
      "2.220446049250313e-16\n",
      "1.7320508075688772\n",
      "[0.5000000000000002, 0.9999999999999999, -0.49999999999999994]\n",
      "1.224744871391589\n"
     ]
    }
   ],
   "source": [
    "# u3 구하기\n",
    "# 일단, <a3, u1>의 내적값 구하기\n",
    "dp31 = 0\n",
    "for i in range(0, n):\n",
    "    tmp = a3[i] * u1[i]\n",
    "    dp31 += tmp\n",
    "print(dp31)\n",
    "\n",
    "# <a3, u2>의 내적값 구하기\n",
    "dp32 = 0\n",
    "for i in range(0, n):\n",
    "    tmp = a3[i] * u2[i]\n",
    "    dp32 += tmp\n",
    "print(dp32)\n",
    "\n",
    "# 벡터 u2의 norm 구하기\n",
    "norm_u2 = 0\n",
    "for i in range(0, n):\n",
    "    norm_u2 += u2[i]**2\n",
    "norm_u2 = norm_u2**0.5\n",
    "print(norm_u2)\n",
    "\n",
    "# u3 구하기\n",
    "u3 = []\n",
    "for i in range(0, n):\n",
    "    tmp = a3[i] - (dp31/norm_u1**2) * u1[i] - (dp32/norm_u2**2) * u2[i]\n",
    "    u3.append(tmp)\n",
    "print(u3)\n",
    "\n",
    "# 벡터 u3의 norm 구하기\n",
    "norm_u3 = 0\n",
    "for i in range(0, n):\n",
    "    norm_u3 += u3[i]**2\n",
    "norm_u3 = norm_u3**0.5\n",
    "print(norm_u3)"
   ]
  },
  {
   "cell_type": "code",
   "execution_count": 6,
   "metadata": {},
   "outputs": [
    {
     "name": "stdout",
     "output_type": "stream",
     "text": [
      "[0.7071067811865475, 0.0, 0.7071067811865475]\n",
      "[-0.5773502691896256, 0.5773502691896258, 0.577350269189626]\n",
      "[0.40824829046386324, 0.816496580927726, -0.408248290463863]\n"
     ]
    }
   ],
   "source": [
    "# 정규 직교 벡터 구하기 (v1, v2, v3)\n",
    "v1 = []\n",
    "v2 = []\n",
    "v3 = []\n",
    "\n",
    "for i in range(0, n):\n",
    "    tmp1 = u1[i]/norm_u1\n",
    "    tmp2 = u2[i]/norm_u2\n",
    "    tmp3 = u3[i]/norm_u3\n",
    "    v1.append(tmp1)\n",
    "    v2.append(tmp2)\n",
    "    v3.append(tmp3)\n",
    "\n",
    "print(v1)\n",
    "print(v2)\n",
    "print(v3)"
   ]
  },
  {
   "cell_type": "code",
   "execution_count": 7,
   "metadata": {},
   "outputs": [
    {
     "data": {
      "text/plain": [
       "[[0.7071067811865475, -0.5773502691896256, 0.40824829046386324],\n",
       " [0.0, 0.5773502691896258, 0.816496580927726],\n",
       " [0.7071067811865475, 0.577350269189626, -0.408248290463863]]"
      ]
     },
     "execution_count": 7,
     "metadata": {},
     "output_type": "execute_result"
    }
   ],
   "source": [
    "# 행렬 Q 구하기\n",
    "Q = [[0, 0, 0], [0, 0, 0], [0, 0, 0]]\n",
    "\n",
    "for i in range(0, n):\n",
    "    Q[i][0] = v1[i]\n",
    "    Q[i][1] = v2[i]\n",
    "    Q[i][2] = v3[i]\n",
    "Q"
   ]
  },
  {
   "cell_type": "code",
   "execution_count": 8,
   "metadata": {},
   "outputs": [
    {
     "data": {
      "text/plain": [
       "[[1.414213562373095, 1.414213562373095, 0.7071067811865475],\n",
       " [0, 1.7320508075688776, 2.220446049250313e-16],\n",
       " [0, 0, 1.2247448713915894]]"
      ]
     },
     "execution_count": 8,
     "metadata": {},
     "output_type": "execute_result"
    }
   ],
   "source": [
    "# 행렬 R 구하기\n",
    "R = [[0, 0, 0], [0, 0, 0], [0, 0, 0]]\n",
    "\n",
    "for i in range(0, n):\n",
    "    R[0][0] += a1[i] * v1[i]\n",
    "    R[0][1] += a2[i] * v1[i]\n",
    "    R[0][2] += a3[i] * v1[i]\n",
    "    R[1][1] += a2[i] * v2[i]\n",
    "    R[1][2] += a3[i] * v2[i]\n",
    "    R[2][2] += a3[i] * v3[i]\n",
    "R"
   ]
  },
  {
   "cell_type": "code",
   "execution_count": 9,
   "metadata": {},
   "outputs": [],
   "source": [
    "# 앞의 과정을 함수로 만들기\n",
    "from util import *\n",
    "\n",
    "def qr_gram(A):\n",
    "    \"\"\"\n",
    "    그램 슈미트 과정을 이용한 QR분해\n",
    "    입력값: 행렬 A\n",
    "    출력값: 행렬 A를 그램 슈미트 과정을 이용해 QR분해한 결과행렬 Q, R\n",
    "    \"\"\"\n",
    "    \n",
    "    n = len(A)\n",
    "    At = transpose(A)\n",
    "    \n",
    "    U = []\n",
    "    norm_list = []\n",
    "    \n",
    "    V = []\n",
    "    Q = []\n",
    "    R = []\n",
    "    \n",
    "    for i in range(0, n):\n",
    "        if i == 0:\n",
    "            u = At[i]\n",
    "            norm_u = norm(u)\n",
    "            U.append(u)\n",
    "            norm_list.append(norm_u)\n",
    "        else:\n",
    "            a = At[i]\n",
    "            dp_list = []\n",
    "            for j in range(0, i):\n",
    "                dp = inner_product(a, U[j])\n",
    "                dp_list.append(dp)\n",
    "                \n",
    "            u = []\n",
    "            for j in range(0, n):\n",
    "                val = a[j]\n",
    "                for k in range(0, i):\n",
    "                    val -= (dp_list[k]/norm_list[k]**2) * U[k][j]\n",
    "                u.append(val)\n",
    "            norm_u = norm(u)\n",
    "            U.append(u)\n",
    "            norm_list.append(norm_u)\n",
    "            \n",
    "        v = normalize(u)\n",
    "        V.append(v)\n",
    "        \n",
    "    Q = transpose(V)\n",
    "    \n",
    "    for i in range(0, n):\n",
    "        r = []\n",
    "        for j in range(0, n):\n",
    "            if i>j:\n",
    "                r.append(0)\n",
    "            else:\n",
    "                r_ele = inner_product(At[j], V[i])\n",
    "                r.append(r_ele)\n",
    "        R.append(r)\n",
    "        \n",
    "    return Q, R"
   ]
  },
  {
   "cell_type": "code",
   "execution_count": 10,
   "metadata": {},
   "outputs": [
    {
     "name": "stdout",
     "output_type": "stream",
     "text": [
      "[1, 1, 1, 1]\n"
     ]
    }
   ],
   "source": [
    "# 9.5.3 하우스홀더 방법을 이용한 QR 분해\n",
    "A = [[1, -1, 4], [1, 4, -2], [1, 4, 2], [1, -1, 0]]\n",
    "\n",
    "A1 = deepcopy(A)\n",
    "\n",
    "# 첫번째 열 추출\n",
    "a1 = transpose(A)[0]\n",
    "print(a1)"
   ]
  },
  {
   "cell_type": "code",
   "execution_count": 11,
   "metadata": {},
   "outputs": [
    {
     "name": "stdout",
     "output_type": "stream",
     "text": [
      "2.0\n"
     ]
    }
   ],
   "source": [
    "# a1의 norm 구하기\n",
    "nm1 = norm(a1)\n",
    "print(nm1)"
   ]
  },
  {
   "cell_type": "code",
   "execution_count": 12,
   "metadata": {},
   "outputs": [
    {
     "name": "stdout",
     "output_type": "stream",
     "text": [
      "[3.0, 1.0, 1.0, 1.0]\n"
     ]
    }
   ],
   "source": [
    "# e1 생성\n",
    "from util import v_add, sign, householder\n",
    "e1 = [1]\n",
    "for i in range(0, len(a1)-1):\n",
    "    e1.append(0)\n",
    "    \n",
    "# v1 벡터 구하기\n",
    "tmp_e1 = []\n",
    "for i in range(0, len(e1)):\n",
    "    val = sign(a1[0]) * nm1 * e1[i]\n",
    "    tmp_e1.append(val)\n",
    "    \n",
    "v1 = v_add(a1, tmp_e1)\n",
    "print(v1)"
   ]
  },
  {
   "cell_type": "code",
   "execution_count": 13,
   "metadata": {},
   "outputs": [
    {
     "name": "stdout",
     "output_type": "stream",
     "text": [
      "[[-0.5, -0.5, -0.5, -0.5], [-0.5, 0.8333333333333334, -0.16666666666666666, -0.16666666666666666], [-0.5, -0.16666666666666666, 0.8333333333333334, -0.16666666666666666], [-0.5, -0.16666666666666666, -0.16666666666666666, 0.8333333333333334]]\n"
     ]
    }
   ],
   "source": [
    "# H1 생성\n",
    "H1 = householder(v1)\n",
    "print(H1)"
   ]
  },
  {
   "cell_type": "code",
   "execution_count": 14,
   "metadata": {},
   "outputs": [
    {
     "name": "stdout",
     "output_type": "stream",
     "text": [
      "[[-2.0, -3.0, -2.0], [5.551115123125783e-17, 3.3333333333333335, -4.0], [8.326672684688674e-17, 3.3333333333333335, 0.0], [1.1102230246251565e-16, -1.6666666666666665, -2.0]]\n"
     ]
    }
   ],
   "source": [
    "# H1*A1\n",
    "from util import matmul\n",
    "tmp_res1 = matmul(H1, A1)\n",
    "print(tmp_res1)"
   ]
  },
  {
   "cell_type": "code",
   "execution_count": 15,
   "metadata": {},
   "outputs": [
    {
     "name": "stdout",
     "output_type": "stream",
     "text": [
      "[[3.3333333333333335, -4.0], [3.3333333333333335, 0.0], [-1.6666666666666665, -2.0]]\n"
     ]
    }
   ],
   "source": [
    "# 행렬 A2 생성\n",
    "A2 = []\n",
    "for i in range(1, len(A1)):\n",
    "    tmp_row = []\n",
    "    for j in range(1, len(A1[0])):\n",
    "        tmp_row.append(tmp_res1[i][j])\n",
    "    A2.append(tmp_row)\n",
    "print(A2)"
   ]
  },
  {
   "cell_type": "code",
   "execution_count": 16,
   "metadata": {},
   "outputs": [
    {
     "name": "stdout",
     "output_type": "stream",
     "text": [
      "[3.3333333333333335, 3.3333333333333335, -1.6666666666666665]\n"
     ]
    }
   ],
   "source": [
    "# 벡터 a2 생성\n",
    "a2 = transpose(A2)[0]\n",
    "print(a2)"
   ]
  },
  {
   "cell_type": "code",
   "execution_count": 17,
   "metadata": {},
   "outputs": [
    {
     "name": "stdout",
     "output_type": "stream",
     "text": [
      "5.0\n"
     ]
    }
   ],
   "source": [
    "# a2의 norm 구하기\n",
    "nm2 = norm(a2)\n",
    "print(nm2)"
   ]
  },
  {
   "cell_type": "code",
   "execution_count": 18,
   "metadata": {},
   "outputs": [
    {
     "name": "stdout",
     "output_type": "stream",
     "text": [
      "[1, 0, 0]\n",
      "[5.0, 0.0, 0.0]\n",
      "[8.333333333333334, 3.3333333333333335, -1.6666666666666665]\n"
     ]
    }
   ],
   "source": [
    "# e2 생성\n",
    "e2 = [1]\n",
    "for i in range(0, len(a2)-1):\n",
    "    e2.append(0)\n",
    "print(e2)\n",
    "\n",
    "# v2 생성\n",
    "tmp_e2 = []\n",
    "for i in range(0, len(e2)):\n",
    "    val = sign(a2[0]) * nm2 * e2[i]\n",
    "    tmp_e2.append(val)\n",
    "print(tmp_e2)\n",
    "\n",
    "v2 = v_add(a2, tmp_e2)\n",
    "print(v2)"
   ]
  },
  {
   "cell_type": "code",
   "execution_count": 19,
   "metadata": {},
   "outputs": [
    {
     "name": "stdout",
     "output_type": "stream",
     "text": [
      "[[-0.6666666666666667, -0.6666666666666667, 0.3333333333333333], [-0.6666666666666667, 0.7333333333333334, 0.1333333333333333], [0.3333333333333333, 0.1333333333333333, 0.9333333333333333]]\n"
     ]
    }
   ],
   "source": [
    "# H2 생성\n",
    "H2 = householder(v2)\n",
    "print(H2)"
   ]
  },
  {
   "cell_type": "code",
   "execution_count": 20,
   "metadata": {},
   "outputs": [
    {
     "name": "stdout",
     "output_type": "stream",
     "text": [
      "[[-5.000000000000001, 2.0000000000000004], [-2.7755575615628914e-16, 2.4000000000000004], [2.220446049250313e-16, -3.2]]\n"
     ]
    }
   ],
   "source": [
    "# H2 * A2\n",
    "tmp_res2 = matmul(H2, A2)\n",
    "print(tmp_res2)"
   ]
  },
  {
   "cell_type": "code",
   "execution_count": 21,
   "metadata": {},
   "outputs": [
    {
     "name": "stdout",
     "output_type": "stream",
     "text": [
      "[2.4000000000000004, -3.2]\n"
     ]
    }
   ],
   "source": [
    "# A3 생성\n",
    "A3 = []\n",
    "for i in range(1, 3):\n",
    "    A3.append(tmp_res2[i][1])\n",
    "print(A3)    "
   ]
  },
  {
   "cell_type": "code",
   "execution_count": 22,
   "metadata": {},
   "outputs": [
    {
     "name": "stdout",
     "output_type": "stream",
     "text": [
      "4.0\n"
     ]
    }
   ],
   "source": [
    "# a3 생성과 norm 구하기\n",
    "a3 = A3\n",
    "nm3 = norm(a3)\n",
    "print(nm3)"
   ]
  },
  {
   "cell_type": "code",
   "execution_count": 23,
   "metadata": {},
   "outputs": [
    {
     "name": "stdout",
     "output_type": "stream",
     "text": [
      "[4.0, 0.0]\n",
      "[6.4, -3.2]\n"
     ]
    }
   ],
   "source": [
    "# e3 생성\n",
    "e3 = [1]\n",
    "for i in range(0, len(a3)-1):\n",
    "    e3.append(0)\n",
    "\n",
    "# v3 생성\n",
    "tmp_e3 = []\n",
    "for i in range(0, len(e3)):\n",
    "    val = sign(a3[0]) * nm3 * e3[i]\n",
    "    tmp_e3.append(val)\n",
    "print(tmp_e3)\n",
    "\n",
    "v3 = v_add(a3, tmp_e3)\n",
    "print(v3)"
   ]
  },
  {
   "cell_type": "code",
   "execution_count": 24,
   "metadata": {},
   "outputs": [
    {
     "name": "stdout",
     "output_type": "stream",
     "text": [
      "[[-0.6000000000000001, 0.8], [0.8, 0.6]]\n"
     ]
    }
   ],
   "source": [
    "# H3 생성\n",
    "H3 = householder(v3)\n",
    "print(H3)"
   ]
  },
  {
   "cell_type": "code",
   "execution_count": 25,
   "metadata": {},
   "outputs": [
    {
     "name": "stdout",
     "output_type": "stream",
     "text": [
      "[-4.000000000000001, 4.440892098500626e-16]\n"
     ]
    }
   ],
   "source": [
    "# H3 * A3\n",
    "tmp_res3 = []\n",
    "for i in range(0, len(H3)):\n",
    "    val = 0\n",
    "    for j in range(0, len(H3[0])):\n",
    "        val += H3[i][j] * A3[j]\n",
    "    tmp_res3.append(val)\n",
    "print(tmp_res3)"
   ]
  },
  {
   "cell_type": "code",
   "execution_count": 26,
   "metadata": {},
   "outputs": [
    {
     "name": "stdout",
     "output_type": "stream",
     "text": [
      "[[1, 0, 0, 0], [0, -0.6666666666666667, -0.6666666666666667, 0.3333333333333333], [0, -0.6666666666666667, 0.7333333333333334, 0.1333333333333333], [0, 0.3333333333333333, 0.1333333333333333, 0.9333333333333333]]\n"
     ]
    }
   ],
   "source": [
    "tmp_H2 = identity(len(A))\n",
    "for i in range(1, len(A)):\n",
    "    for j in range(1, len(A)):\n",
    "        tmp_H2[i][j] = H2[i-1][j-1]\n",
    "H2 = tmp_H2\n",
    "print(H2)"
   ]
  },
  {
   "cell_type": "code",
   "execution_count": 27,
   "metadata": {},
   "outputs": [
    {
     "name": "stdout",
     "output_type": "stream",
     "text": [
      "[[1, 0, 0, 0], [0, 1, 0, 0], [0, 0, -0.6000000000000001, 0.8], [0, 0, 0.8, 0.6]]\n"
     ]
    }
   ],
   "source": [
    "tmp_H3 = identity(len(A))\n",
    "for i in range(2, len(A)):\n",
    "    for j in range(2, len(A)):\n",
    "        tmp_H3[i][j] = H3[i-2][j-2]\n",
    "H3 = tmp_H3\n",
    "print(H3)"
   ]
  },
  {
   "cell_type": "code",
   "execution_count": 28,
   "metadata": {},
   "outputs": [
    {
     "name": "stdout",
     "output_type": "stream",
     "text": [
      "[[-0.5, 0.5000000000000001, -0.49999999999999994, -0.5], [-0.5, -0.5000000000000001, 0.5000000000000002, -0.5000000000000001], [-0.5, -0.5000000000000001, -0.5000000000000001, 0.5], [-0.5, 0.5, 0.5, 0.5]]\n"
     ]
    }
   ],
   "source": [
    "# Q = H1 * H2 * H3\n",
    "Q = matmul(matmul(H1, H2), H3)\n",
    "print(Q)"
   ]
  },
  {
   "cell_type": "code",
   "execution_count": 29,
   "metadata": {},
   "outputs": [
    {
     "name": "stdout",
     "output_type": "stream",
     "text": [
      "[[-2.0, -3.0, -2.0], [-1.1102230246251565e-16, -5.000000000000001, 2.000000000000001], [1.1102230246251565e-16, -1.1102230246251565e-16, -4.0], [2.220446049250313e-16, 4.440892098500626e-16, 8.881784197001252e-16]]\n"
     ]
    }
   ],
   "source": [
    "# R = H3 * H2 * H1 * A\n",
    "R = matmul(matmul(matmul(H3, H2), H1), A)\n",
    "print(R)"
   ]
  },
  {
   "cell_type": "code",
   "execution_count": 30,
   "metadata": {},
   "outputs": [
    {
     "data": {
      "text/plain": [
       "[[0.9999999999999998, -1.000000000000001, 4.0],\n",
       " [0.9999999999999999, 4.000000000000001, -2.000000000000002],\n",
       " [1.0, 4.000000000000001, 2.0],\n",
       " [1.0, -1.0000000000000002, 8.881784197001252e-16]]"
      ]
     },
     "execution_count": 30,
     "metadata": {},
     "output_type": "execute_result"
    }
   ],
   "source": [
    "# A = QR인지 확인\n",
    "matmul(Q, R)"
   ]
  },
  {
   "cell_type": "code",
   "execution_count": 5,
   "metadata": {},
   "outputs": [],
   "source": [
    "from util import *\n",
    "\n",
    "\n",
    "def qr_householder(A):\n",
    "\n",
    "    import copy\n",
    "\n",
    "    # n = len(A)\n",
    "    p = len(A[0])\n",
    "\n",
    "    H_list = []\n",
    "\n",
    "    for i in range(0, p):\n",
    "        if i == 0:\n",
    "            A1 = copy.deepcopy(A)\n",
    "            exA = A1\n",
    "        elif i < p-1:\n",
    "            Ai = []\n",
    "            for j in range(1, len(exA)):\n",
    "                tmp_row = []\n",
    "                for k in range(1, len(exA[0])):\n",
    "                    tmp_row.append(tmp_res[j][k])\n",
    "                Ai.append(tmp_row)\n",
    "            exA = Ai\n",
    "        elif i == p-1:\n",
    "            Ap = []\n",
    "            for j in range(1, len(tmp_res)):\n",
    "                Ap.append(tmp_res[j][1])\n",
    "            exA = Ap\n",
    "\n",
    "        # 첫번째 열 추출\n",
    "        if i < p-1:\n",
    "            a = transpose(exA)[0]\n",
    "        else:\n",
    "            a = exA\n",
    "        nm = norm(a)\n",
    "\n",
    "        # e1 생성\n",
    "        e = [1]\n",
    "        for j in range(0, len(a)-1):\n",
    "            e.append(0)\n",
    "\n",
    "        # v 생성\n",
    "        tmp_e = []\n",
    "        for j in range(0, len(e)):\n",
    "            val = sign(a[0])*nm*e[j]\n",
    "            tmp_e.append(val)\n",
    "        v = v_add(a, tmp_e)\n",
    "\n",
    "        # H 생성\n",
    "        H = householder(v)\n",
    "\n",
    "        # H*A\n",
    "        if i == p-1:\n",
    "            tmp_res = []\n",
    "            for j in range(0, len(H)):\n",
    "                val = 0\n",
    "                for k in range(0, len(H[0])):\n",
    "                    val += H[j][k] * exA[k]\n",
    "                tmp_res.append(val)\n",
    "        else:\n",
    "            tmp_res = matmul(H, exA)\n",
    "\n",
    "        H_list.append(H)\n",
    "\n",
    "        if i > 0:\n",
    "            tmp_H = identity(len(A))\n",
    "            for j in range(i, len(A)):\n",
    "                for k in range(i, len(A)):\n",
    "                    tmp_H[j][k] = H_list[-1][j-i][k-i]\n",
    "            H_list[-1] = tmp_H\n",
    "\n",
    "    Q = copy.deepcopy(H_list[0])\n",
    "    for j in range(0, len(H_list)-1):\n",
    "        Q = matmul(Q, H_list[j+1])\n",
    "\n",
    "    R = copy.deepcopy(H_list[-1])\n",
    "    for j in range(1, len(H_list)):\n",
    "        R = matmul(R, H_list[-(j+1)])\n",
    "    R = matmul(R, A)\n",
    "\n",
    "    return Q, R"
   ]
  },
  {
   "cell_type": "code",
   "execution_count": 6,
   "metadata": {},
   "outputs": [
    {
     "data": {
      "text/plain": [
       "[[-0.5, 0.5000000000000001, -0.49999999999999994, -0.5],\n",
       " [-0.5, -0.5000000000000001, 0.5000000000000002, -0.5000000000000001],\n",
       " [-0.5, -0.5000000000000001, -0.5000000000000001, 0.5],\n",
       " [-0.5, 0.5, 0.5, 0.5]]"
      ]
     },
     "execution_count": 6,
     "metadata": {},
     "output_type": "execute_result"
    }
   ],
   "source": [
    "A = [[1, -1, 4], [1, 4, -2], [1, 4, 2], [1, -1, 0]]\n",
    "Q, R = qr_householder(A)\n",
    "Q"
   ]
  },
  {
   "cell_type": "code",
   "execution_count": 7,
   "metadata": {},
   "outputs": [
    {
     "data": {
      "text/plain": [
       "[[-0.5144957554275265, 0.7407610636824495, -0.4319342127906801],\n",
       " [-0.8574929257125441, -0.44445663820946985, 0.2591605276744081],\n",
       " [0.0, -0.5037175233040659, -0.86386842558136]]"
      ]
     },
     "execution_count": 7,
     "metadata": {},
     "output_type": "execute_result"
    }
   ],
   "source": [
    "B = [[3, 2, -3], [5, 0, 4], [0, -1, 3]]\n",
    "Q, R = qr_householder(B)\n",
    "Q"
   ]
  },
  {
   "cell_type": "code",
   "execution_count": 9,
   "metadata": {},
   "outputs": [
    {
     "data": {
      "text/plain": [
       "[[-0.6666666666666667, 0.6666666666666667, -0.33333333333333337],\n",
       " [-0.6666666666666666, -0.3333333333333334, 0.6666666666666667],\n",
       " [-0.3333333333333333, -0.6666666666666667, -0.6666666666666666]]"
      ]
     },
     "execution_count": 9,
     "metadata": {},
     "output_type": "execute_result"
    }
   ],
   "source": [
    "C = [[2, -2, 18], [2, 1, 0], [1, 2, 0]]\n",
    "Q, R = qr_householder(C)\n",
    "Q"
   ]
  },
  {
   "cell_type": "code",
   "execution_count": null,
   "metadata": {},
   "outputs": [],
   "source": []
  }
 ],
 "metadata": {
  "interpreter": {
   "hash": "8416a3f2a026e985bee17eceb7546469969f3a4d162bd0f7da6d9cc666a7e5f9"
  },
  "kernelspec": {
   "display_name": "Python 3.9.7 ('base')",
   "language": "python",
   "name": "python3"
  },
  "language_info": {
   "codemirror_mode": {
    "name": "ipython",
    "version": 3
   },
   "file_extension": ".py",
   "mimetype": "text/x-python",
   "name": "python",
   "nbconvert_exporter": "python",
   "pygments_lexer": "ipython3",
   "version": "3.9.7"
  },
  "orig_nbformat": 4
 },
 "nbformat": 4,
 "nbformat_minor": 2
}
