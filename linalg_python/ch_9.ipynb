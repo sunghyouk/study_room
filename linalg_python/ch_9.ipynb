{
 "cells": [
  {
   "cell_type": "markdown",
   "metadata": {},
   "source": [
    "# Chapter 9. 내적\n",
    "\n",
    "## 9.1 내적의 개념\n",
    "\n",
    "### 9.1.1 내적 공간\n",
    "\n",
    "### 9.1.2 내적의 정의\n",
    "\n",
    "내적을 구하려는 각 벡터의 동일한 위치에 있는 원소를 서로 곱한 후 더함  \n",
    "두 열 벡터 중 하나의 벡터를 전치시켜 행 벡터로 변환 후 나머지 벡터와 벡터 곱을 하면 내적 값  \n",
    "\n",
    "### 9.1.3 내적의 성질\n",
    "\n",
    "* 내적 = 0이면, 두 벡터 사이의 각도 = 90\n",
    "* 벡터의 길이 = **norm**\n",
    "\n",
    "### 9.1.4 정사영\n",
    "\n",
    "한 벡터 공간에 속한 벡터를 부분 공간으로 수직으로 투영하는 것  \n",
    "벡터 u와 벡터 v의 내적이란 벡터 u를 벡터 v에 정사영시킨 벡터의 길이와 같다.  \n",
    "$$<\\mathbf{u}, \\mathbf{v}> = ||\\mathbf{u}||\\,||\\mathbf{v}||\\cos\\theta$$\n",
    "\n",
    "## 9.2 직교 공간과 정규 직교 공간\n",
    "\n",
    "### 9.2.1 직교 공간\n",
    "\n",
    "### 9.2.2 정규 직교 공간\n",
    "\n",
    "직교 공간에 존재하는 직교 벡터의 길이가 모두 1인 경우, 해당 벡터를 **정규 직교 벡터**  \n",
    "정규 직교 벡터가 만드는 공간을 **정규 직교 공간**  \n",
    "정규 직교 벡터로 바꾸는 방법은 해당 벡터의 길이로 나누는 것: **정규화**  \n",
    "\n",
    "### 9.2.3 정규 직교 벡터를 활용한 좌표 표현\n",
    "\n",
    "### 9.2.4 직교 벡터를 활용한 좌표 표현\n",
    "\n",
    "## 9.3 그램 슈미트 과정\n",
    "\n",
    "### 9.3.3 그램 슈미트 과정\n",
    "\n",
    "기저 벡터를 직교 기저 벡터로 변환하는 과정: 모든 벡터가 서로 직교하게끔 만들어야 한다.  \n",
    "\n",
    "1) 새로운 직교 기저 벡터를 정의하는 단계 - 기존 첫번째 기저 벡터로 정의\n",
    "2) 기존 두 번째 기저 벡터를 기저 벡터가 생성하는 공간에 정사영\n",
    "3) 앞서 생성한 벡터들과 직교해야 함\n",
    "\n",
    "## 9.4 QR 분해\n",
    "\n",
    "### 9.4.1 기본적인 QR 분해 방법\n",
    "\n",
    "$\\mathbf{A}$ 행렬이 $n\\times p$ 행렬이고 *full rank*라고 가정 = 모두 **선형 독립**  \n",
    "해당 행렬이 공간의 기저가 될 수 있음  \n",
    "이 때 $\\mathbf{A}$ 행렬은 $\\mathbf{QR}$로 분해 가능  \n",
    "$\\mathbf{Q}$는 $n\\times p$행렬이고 **정규 직교** 벡터로 구성  \n",
    "$\\mathbf{R}$은 **가역 상 삼각행렬**로 역행렬이 존재하는 상삼각행렬임  \n",
    "이를 이용해 큰 행렬의 고유값을 구하는 데 사용  \n",
    "\n",
    "### 9.4.2 그램 슈미트 과정을 이용한 QR분해\n",
    "\n",
    "### 9.4.3 하우스홀더 방법을 이용한 QR분해\n",
    "\n",
    "## 9.5 파이썬 실습"
   ]
  },
  {
   "cell_type": "code",
   "execution_count": 2,
   "metadata": {},
   "outputs": [
    {
     "name": "stdout",
     "output_type": "stream",
     "text": [
      "32\n"
     ]
    }
   ],
   "source": [
    "# 9.5.1 기본 내적 실습\n",
    "a = [1, 2, 3]\n",
    "b = [4, 5, 6]\n",
    "n = len(a)\n",
    "res = 0\n",
    "for i in range(0, n):\n",
    "    res += a[i] * b[i]\n",
    "print(res)"
   ]
  },
  {
   "cell_type": "code",
   "execution_count": 3,
   "metadata": {},
   "outputs": [],
   "source": [
    "# 위의 결과로 함수만들기\n",
    "def inner_product(a, b):\n",
    "    \"\"\"\n",
    "    벡터의 내적\n",
    "    입력값: 내적할 벡터 리스트 a, b\n",
    "    출력값: 벡터 a, b의 내적 결과 res\n",
    "    \"\"\"\n",
    "    n = len(a)\n",
    "    res = 0\n",
    "    for i in range(0, n):\n",
    "        res += a[i] * b[i]\n",
    "    return res"
   ]
  },
  {
   "cell_type": "code",
   "execution_count": 4,
   "metadata": {},
   "outputs": [
    {
     "name": "stdout",
     "output_type": "stream",
     "text": [
      "[1, 0, 1]\n"
     ]
    }
   ],
   "source": [
    "# 9.5.2 그램 슈미트 과정을 이용한 QR 분해\n",
    "# 열 벡터로 분리하기\n",
    "A = [[1, 0, 1], [0, 1, 1], [1, 2, 0]]\n",
    "\n",
    "n = len(A)\n",
    "p = len(A[0])\n",
    "a1 = []\n",
    "a2 = []\n",
    "a3 = []\n",
    "\n",
    "for i in range(0, n):\n",
    "    a1.append(A[i][0])\n",
    "    a2.append(A[i][1])\n",
    "    a3.append(A[i][2])\n",
    "    \n",
    "print(a1)"
   ]
  },
  {
   "cell_type": "code",
   "execution_count": 6,
   "metadata": {},
   "outputs": [
    {
     "name": "stdout",
     "output_type": "stream",
     "text": [
      "2\n",
      "1.4142135623730951\n",
      "[-0.9999999999999998, 1.0, 1.0000000000000002]\n"
     ]
    }
   ],
   "source": [
    "# 그램 슈미트 첫 번째 과정\n",
    "u1 = a1\n",
    "\n",
    "# 벡터 u2 구하기\n",
    "# 일단, <a2, u1>의 내적값 구하기\n",
    "dp21 = 0\n",
    "for i in range(0, len(u1)):\n",
    "    tmp = a2[i] * u1[i]\n",
    "    dp21 += tmp\n",
    "print(dp21)\n",
    "\n",
    "# 그 다음, u1의 norm 구하기\n",
    "norm_u1 = 0\n",
    "for i in range(0, len(u1)):\n",
    "    norm_u1 += u1[i]**2\n",
    "norm_u1 = norm_u1**0.5\n",
    "print(norm_u1)\n",
    "\n",
    "# u2를 구하면,\n",
    "u2 = []\n",
    "for i in range(0, n):\n",
    "    tmp = a2[i] - (dp21/norm_u1**2) * u1[i]\n",
    "    u2.append(tmp)\n",
    "print(u2)"
   ]
  },
  {
   "cell_type": "code",
   "execution_count": 9,
   "metadata": {},
   "outputs": [
    {
     "name": "stdout",
     "output_type": "stream",
     "text": [
      "1\n",
      "2.220446049250313e-16\n",
      "1.7320508075688772\n",
      "[0.5000000000000002, 0.9999999999999999, -0.49999999999999994]\n",
      "1.224744871391589\n"
     ]
    }
   ],
   "source": [
    "# u3 구하기\n",
    "# 일단, <a3, u1>의 내적값 구하기\n",
    "dp31 = 0\n",
    "for i in range(0, n):\n",
    "    tmp = a3[i] * u1[i]\n",
    "    dp31 += tmp\n",
    "print(dp31)\n",
    "\n",
    "# <a3, u2>의 내적값 구하기\n",
    "dp32 = 0\n",
    "for i in range(0, n):\n",
    "    tmp = a3[i] * u2[i]\n",
    "    dp32 += tmp\n",
    "print(dp32)\n",
    "\n",
    "# 벡터 u2의 norm 구하기\n",
    "norm_u2 = 0\n",
    "for i in range(0, n):\n",
    "    norm_u2 += u2[i]**2\n",
    "norm_u2 = norm_u2**0.5\n",
    "print(norm_u2)\n",
    "\n",
    "# u3 구하기\n",
    "u3 = []\n",
    "for i in range(0, n):\n",
    "    tmp = a3[i] - (dp31/norm_u1**2) * u1[i] - (dp32/norm_u2**2) * u2[i]\n",
    "    u3.append(tmp)\n",
    "print(u3)\n",
    "\n",
    "# 벡터 u3의 norm 구하기\n",
    "norm_u3 = 0\n",
    "for i in range(0, n):\n",
    "    norm_u3 += u3[i]**2\n",
    "norm_u3 = norm_u3**0.5\n",
    "print(norm_u3)"
   ]
  },
  {
   "cell_type": "code",
   "execution_count": 10,
   "metadata": {},
   "outputs": [
    {
     "name": "stdout",
     "output_type": "stream",
     "text": [
      "[0.7071067811865475, 0.0, 0.7071067811865475]\n",
      "[-0.5773502691896256, 0.5773502691896258, 0.577350269189626]\n",
      "[0.40824829046386324, 0.816496580927726, -0.408248290463863]\n"
     ]
    }
   ],
   "source": [
    "# 정규 직교 벡터 구하기 (v1, v2, v3)\n",
    "v1 = []\n",
    "v2 = []\n",
    "v3 = []\n",
    "\n",
    "for i in range(0, n):\n",
    "    tmp1 = u1[i]/norm_u1\n",
    "    tmp2 = u2[i]/norm_u2\n",
    "    tmp3 = u3[i]/norm_u3\n",
    "    v1.append(tmp1)\n",
    "    v2.append(tmp2)\n",
    "    v3.append(tmp3)\n",
    "\n",
    "print(v1)\n",
    "print(v2)\n",
    "print(v3)"
   ]
  },
  {
   "cell_type": "code",
   "execution_count": 11,
   "metadata": {},
   "outputs": [
    {
     "data": {
      "text/plain": [
       "[[0.7071067811865475, -0.5773502691896256, 0.40824829046386324],\n",
       " [0.0, 0.5773502691896258, 0.816496580927726],\n",
       " [0.7071067811865475, 0.577350269189626, -0.408248290463863]]"
      ]
     },
     "execution_count": 11,
     "metadata": {},
     "output_type": "execute_result"
    }
   ],
   "source": [
    "# 행렬 Q 구하기\n",
    "Q = [[0, 0, 0], [0, 0, 0], [0, 0, 0]]\n",
    "\n",
    "for i in range(0, n):\n",
    "    Q[i][0] = v1[i]\n",
    "    Q[i][1] = v2[i]\n",
    "    Q[i][2] = v3[i]\n",
    "Q"
   ]
  },
  {
   "cell_type": "code",
   "execution_count": 12,
   "metadata": {},
   "outputs": [
    {
     "data": {
      "text/plain": [
       "[[1.414213562373095, 1.414213562373095, 0.7071067811865475],\n",
       " [0, 1.7320508075688776, 2.220446049250313e-16],\n",
       " [0, 0, 1.2247448713915894]]"
      ]
     },
     "execution_count": 12,
     "metadata": {},
     "output_type": "execute_result"
    }
   ],
   "source": [
    "# 행렬 R 구하기\n",
    "R = [[0, 0, 0], [0, 0, 0], [0, 0, 0]]\n",
    "\n",
    "for i in range(0, n):\n",
    "    R[0][0] += a1[i] * v1[i]\n",
    "    R[0][1] += a2[i] * v1[i]\n",
    "    R[0][2] += a3[i] * v1[i]\n",
    "    R[1][1] += a2[i] * v2[i]\n",
    "    R[1][2] += a3[i] * v2[i]\n",
    "    R[2][2] += a3[i] * v3[i]\n",
    "R"
   ]
  },
  {
   "cell_type": "code",
   "execution_count": null,
   "metadata": {},
   "outputs": [],
   "source": [
    "# 앞의 과정을 함수로 만들기\n",
    "from util import *\n",
    "\n",
    "def qr_gram(A):\n",
    "    \"\"\"\n",
    "    그램 슈미트 과정을 이용한 QR분해\n",
    "    입력값: 행렬 A\n",
    "    출력값: 행렬 A를 그램 슈미트 과정을 이용해 QR분해한 결과행렬 Q, R\n",
    "    \"\"\"\n",
    "    \n",
    "    n = len(A)\n",
    "    At = transpose(A)\n",
    "    \n",
    "    U = []\n",
    "    norm_list = []\n",
    "    \n",
    "    V = []\n",
    "    Q = []\n",
    "    R = []\n",
    "    \n",
    "    for i in range(0, n):\n",
    "        if i == 0:\n",
    "            u = At[i]\n",
    "            norm_u = norm(u)\n",
    "            U.append(u)\n",
    "            norm_list.append(norm_u)\n",
    "        else:\n",
    "            a = At[i]\n",
    "            dp_list = []\n",
    "            for j in range(0, i):\n",
    "                dp = inner_product(a, U[j])\n",
    "                dp_list.append(dp)\n",
    "                \n",
    "            u = []\n",
    "            for j in range(0, n):\n",
    "                val = a[j]\n",
    "                for k in range(0, i):\n",
    "                    val -= (dp_list[k]/norm_list[k]**2) * U[k][j]\n",
    "                u.append(val)\n",
    "            norm_u = norm(u)\n",
    "            U.append(u)\n",
    "            norm_list.append(norm_u)\n",
    "            \n",
    "        v = normalize(u)\n",
    "        V.append(v)\n",
    "        \n",
    "    Q = transpose(V)\n",
    "    \n",
    "    for i in range(0, n):\n",
    "        r = []\n",
    "        for j in range(0, n):\n",
    "            if i>j:\n",
    "                r.append(0)\n",
    "            else:\n",
    "                r_ele = inner_product(At[j], V[i])\n",
    "                r.append(r_ele)\n",
    "        R.append(r)\n",
    "        \n",
    "    return Q, R"
   ]
  }
 ],
 "metadata": {
  "interpreter": {
   "hash": "8416a3f2a026e985bee17eceb7546469969f3a4d162bd0f7da6d9cc666a7e5f9"
  },
  "kernelspec": {
   "display_name": "Python 3.9.7 ('base')",
   "language": "python",
   "name": "python3"
  },
  "language_info": {
   "codemirror_mode": {
    "name": "ipython",
    "version": 3
   },
   "file_extension": ".py",
   "mimetype": "text/x-python",
   "name": "python",
   "nbconvert_exporter": "python",
   "pygments_lexer": "ipython3",
   "version": "3.9.7"
  },
  "orig_nbformat": 4
 },
 "nbformat": 4,
 "nbformat_minor": 2
}
