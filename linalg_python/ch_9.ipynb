{
 "cells": [
  {
   "cell_type": "markdown",
   "metadata": {},
   "source": [
    "# Chapter 9. 내적\n",
    "\n",
    "## 9.1 내적의 개념\n",
    "\n",
    "### 9.1.1 내적 공간\n",
    "\n",
    "### 9.1.2 내적의 정의\n",
    "\n",
    "내적을 구하려는 각 벡터의 동일한 위치에 있는 원소를 서로 곱한 후 더함  \n",
    "두 열 벡터 중 하나의 벡터를 전치시켜 행 벡터로 변환 후 나머지 벡터와 벡터 곱을 하면 내적 값  \n",
    "\n",
    "### 9.1.3 내적의 성질\n",
    "\n",
    "* 내적 = 0이면, 두 벡터 사이의 각도 = 90\n",
    "* 벡터의 길이 = **norm**\n",
    "\n",
    "### 9.1.4 정사영\n",
    "\n",
    "한 벡터 공간에 속한 벡터를 부분 공간으로 수직으로 투영하는 것  \n",
    "벡터 u와 벡터 v의 내적이란 벡터 u를 벡터 v에 정사영시킨 벡터의 길이와 같다.  \n",
    "$$<\\mathbf{u}, \\mathbf{v}> = ||\\mathbf{u}||\\,||\\mathbf{v}||\\cos\\theta$$\n",
    "\n",
    "## 9.2 직교 공간과 정규 직교 공간\n",
    "\n",
    "### 9.2.1 직교 공간\n",
    "\n",
    "### 9.2.2 정규 직교 공간\n",
    "\n",
    "직교 공간에 존재하는 직교 벡터의 길이가 모두 1인 경우, 해당 벡터를 **정규 직교 벡터**  \n",
    "정규 직교 벡터가 만드는 공간을 **정규 직교 공간**  \n",
    "정규 직교 벡터로 바꾸는 방법은 해당 벡터의 길이로 나누는 것: **정규화**  \n",
    "\n",
    "### 9.2.3 정규 직교 벡터를 활용한 좌표 표현\n",
    "\n",
    "### 9.2.4 직교 벡터를 활용한 좌표 표현\n",
    "\n",
    "## 9.3 그램 슈미트 과정"
   ]
  },
  {
   "cell_type": "code",
   "execution_count": null,
   "metadata": {},
   "outputs": [],
   "source": []
  }
 ],
 "metadata": {
  "interpreter": {
   "hash": "8416a3f2a026e985bee17eceb7546469969f3a4d162bd0f7da6d9cc666a7e5f9"
  },
  "kernelspec": {
   "display_name": "Python 3.9.7 ('base')",
   "language": "python",
   "name": "python3"
  },
  "language_info": {
   "name": "python",
   "version": "3.9.7"
  },
  "orig_nbformat": 4
 },
 "nbformat": 4,
 "nbformat_minor": 2
}
