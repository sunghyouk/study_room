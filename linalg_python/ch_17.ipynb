{
 "cells": [
  {
   "cell_type": "code",
   "execution_count": 3,
   "metadata": {},
   "outputs": [],
   "source": [
    "import csv\n",
    "\n",
    "raw = []\n",
    "with open(\"/Users/sunghyouk/github/study_room/linalg_python/forestfires.csv\", \"r\", encoding=\"utf-8\") as f:\n",
    "    rdr = csv.reader(f)\n",
    "    for line in rdr:\n",
    "        raw.append(line)"
   ]
  },
  {
   "cell_type": "code",
   "execution_count": 4,
   "metadata": {},
   "outputs": [],
   "source": [
    "n_row = len(raw)\n",
    "n_col = len(raw[0])"
   ]
  },
  {
   "cell_type": "code",
   "execution_count": 5,
   "metadata": {},
   "outputs": [],
   "source": [
    "data = []\n",
    "for i in range(1, n_row):\n",
    "    row =[]\n",
    "    for j in range(0, n_col):\n",
    "        val = float(raw[i][j])\n",
    "        row.append(val)\n",
    "    data.append(row)"
   ]
  },
  {
   "cell_type": "code",
   "execution_count": 6,
   "metadata": {},
   "outputs": [],
   "source": [
    "X = []\n",
    "for i in range(0, n_row-1):\n",
    "    row = []\n",
    "    for j in range(0, n_col-1):\n",
    "        val = data[i][j]\n",
    "        row.append(val)\n",
    "    X.append(row)"
   ]
  },
  {
   "cell_type": "code",
   "execution_count": 7,
   "metadata": {},
   "outputs": [],
   "source": [
    "y = []\n",
    "for i in range(0, n_row-1):\n",
    "    val = data[i][10]\n",
    "    y.append(val)"
   ]
  },
  {
   "cell_type": "code",
   "execution_count": 8,
   "metadata": {},
   "outputs": [],
   "source": [
    "n = len(X)\n",
    "p = len(X[0])"
   ]
  },
  {
   "cell_type": "code",
   "execution_count": 9,
   "metadata": {},
   "outputs": [],
   "source": [
    "mean_col = []\n",
    "for j in range(0, p):\n",
    "    sum_val = 0\n",
    "    for i in range(0, n):\n",
    "        sum_val += X[i][j]\n",
    "    mean_val = (1/n)*sum_val\n",
    "    mean_col.append(mean_val)"
   ]
  },
  {
   "cell_type": "code",
   "execution_count": 10,
   "metadata": {},
   "outputs": [
    {
     "data": {
      "text/plain": [
       "[4.669245647969052,\n",
       " 4.299806576402321,\n",
       " 90.6446808510636,\n",
       " 110.87234042553195,\n",
       " 547.9400386847191,\n",
       " 9.021663442940042,\n",
       " 18.88916827852998,\n",
       " 44.28820116054159,\n",
       " 4.017601547388782,\n",
       " 0.02166344294003869]"
      ]
     },
     "execution_count": 10,
     "metadata": {},
     "output_type": "execute_result"
    }
   ],
   "source": [
    "mean_col"
   ]
  },
  {
   "cell_type": "code",
   "execution_count": null,
   "metadata": {},
   "outputs": [],
   "source": []
  }
 ],
 "metadata": {
  "interpreter": {
   "hash": "8416a3f2a026e985bee17eceb7546469969f3a4d162bd0f7da6d9cc666a7e5f9"
  },
  "kernelspec": {
   "display_name": "Python 3.9.7 ('base')",
   "language": "python",
   "name": "python3"
  },
  "language_info": {
   "codemirror_mode": {
    "name": "ipython",
    "version": 3
   },
   "file_extension": ".py",
   "mimetype": "text/x-python",
   "name": "python",
   "nbconvert_exporter": "python",
   "pygments_lexer": "ipython3",
   "version": "3.9.7"
  },
  "orig_nbformat": 4
 },
 "nbformat": 4,
 "nbformat_minor": 2
}
