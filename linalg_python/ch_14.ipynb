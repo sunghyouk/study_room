{
 "cells": [
  {
   "cell_type": "code",
   "execution_count": 15,
   "metadata": {},
   "outputs": [],
   "source": [
    "from util import *"
   ]
  },
  {
   "cell_type": "code",
   "execution_count": 1,
   "metadata": {},
   "outputs": [],
   "source": [
    "# LU 분해를 위한 예시 행렬\n",
    "A = [[2, -2, -2], [0, -2, 2], [-1, 5, 2]]"
   ]
  },
  {
   "cell_type": "code",
   "execution_count": 2,
   "metadata": {},
   "outputs": [],
   "source": [
    "n = len(A)\n",
    "p = len(A[0])"
   ]
  },
  {
   "cell_type": "code",
   "execution_count": 3,
   "metadata": {},
   "outputs": [],
   "source": [
    "a0 = A[0]\n",
    "a1 = A[1]\n",
    "a2 = A[2]"
   ]
  },
  {
   "cell_type": "code",
   "execution_count": 4,
   "metadata": {},
   "outputs": [],
   "source": [
    "# L 행렬 0행렬로 초기화\n",
    "L = [[0] * p for i in range(0, n)]"
   ]
  },
  {
   "cell_type": "code",
   "execution_count": 5,
   "metadata": {},
   "outputs": [],
   "source": [
    "# first row, first column to 0\n",
    "val = 1/a0[0]\n",
    "L[0][0] = 1/val\n",
    "a0 = [element * val for element in a0]"
   ]
  },
  {
   "cell_type": "code",
   "execution_count": 6,
   "metadata": {},
   "outputs": [],
   "source": [
    "# second row, first column to 0\n",
    "a0_tmp = [element * -a1[0] for element in a0]\n",
    "L[1][0] = a1[0]\n",
    "\n",
    "for i in range(0, len(a0)):\n",
    "    a1[i] = a0_tmp[i] + a1[i]"
   ]
  },
  {
   "cell_type": "code",
   "execution_count": 7,
   "metadata": {},
   "outputs": [],
   "source": [
    "# third row, first column to 0\n",
    "a0_tmp = [element * -a2[0] for element in a0]\n",
    "L[2][0] = a2[0]\n",
    "\n",
    "for i in range(0, len(a0)):\n",
    "    a2[i] = a0_tmp[i] + a2[i]"
   ]
  },
  {
   "cell_type": "code",
   "execution_count": 8,
   "metadata": {},
   "outputs": [],
   "source": [
    "# second row, second column to 1\n",
    "val = 1/a1[1]\n",
    "L[1][1] = 1/val\n",
    "a1 = [element * val for element in a1]"
   ]
  },
  {
   "cell_type": "code",
   "execution_count": 9,
   "metadata": {},
   "outputs": [],
   "source": [
    "# third row, second column to 0\n",
    "a1_tmp = [element *-a2[1] for element in a1]\n",
    "L[2][1] = a2[1]\n",
    "\n",
    "for i in range(0, len(a1)):\n",
    "    a2[i] = a1_tmp[i] + a2[i]"
   ]
  },
  {
   "cell_type": "code",
   "execution_count": 10,
   "metadata": {},
   "outputs": [],
   "source": [
    "# third row, third column to 1\n",
    "val = 1/a2[2]\n",
    "L[2][2] = 1/val\n",
    "a2 = [element * val for element in a2]"
   ]
  },
  {
   "cell_type": "code",
   "execution_count": 12,
   "metadata": {},
   "outputs": [
    {
     "name": "stdout",
     "output_type": "stream",
     "text": [
      "[[2.0, 0, 0], [0, -2.0, 0], [-1, 4.0, 5.0]]\n",
      "[[1.0, -1.0, -1.0], [-0.0, 1.0, -1.0], [0.0, 0.0, 1.0]]\n"
     ]
    }
   ],
   "source": [
    "U = [a0, a1, a2]\n",
    "print(L)\n",
    "print(U)"
   ]
  },
  {
   "cell_type": "code",
   "execution_count": 16,
   "metadata": {},
   "outputs": [
    {
     "data": {
      "text/plain": [
       "[[2.0, -2.0, -2.0], [0.0, -2.0, 2.0], [-1.0, 5.0, 2.0]]"
      ]
     },
     "execution_count": 16,
     "metadata": {},
     "output_type": "execute_result"
    }
   ],
   "source": [
    "matmul(L, U)"
   ]
  }
 ],
 "metadata": {
  "interpreter": {
   "hash": "40d3a090f54c6569ab1632332b64b2c03c39dcf918b08424e98f38b5ae0af88f"
  },
  "kernelspec": {
   "display_name": "Python 3.9.7 ('base')",
   "language": "python",
   "name": "python3"
  },
  "language_info": {
   "codemirror_mode": {
    "name": "ipython",
    "version": 3
   },
   "file_extension": ".py",
   "mimetype": "text/x-python",
   "name": "python",
   "nbconvert_exporter": "python",
   "pygments_lexer": "ipython3",
   "version": "3.9.7"
  },
  "orig_nbformat": 4
 },
 "nbformat": 4,
 "nbformat_minor": 2
}
