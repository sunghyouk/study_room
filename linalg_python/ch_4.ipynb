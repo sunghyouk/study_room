{
 "cells": [
  {
   "cell_type": "markdown",
   "metadata": {},
   "source": [
    "## 4.1 전치 행렬\n",
    "\n",
    "### 4.1.1 전치 행렬의 개념\n",
    "\n",
    "전치 행렬의 크기는 기존 행렬의 행의 크기 및 열의 크기와 반대  \n",
    "\n",
    "### 4.1.2 전치 행렬의 성질\n",
    "\n",
    "### 4.1.3 파이썬 실습"
   ]
  },
  {
   "cell_type": "code",
   "execution_count": null,
   "metadata": {},
   "outputs": [],
   "source": [
    "def transpose(A):\n",
    "    \"\"\"\n",
    "    행렬의 전치 행렬\n",
    "    입력값: 전치 행렬을 구하고자 하는 행렬 A\n",
    "    출력값: 행렬 A의 전치 행렬 At\n",
    "    \"\"\"\n",
    "    \n",
    "    n = len(A)\n",
    "    p = len(A[0])\n",
    "    \n",
    "    At = []\n",
    "    for i in range(0, p):\n",
    "        row = []\n",
    "        for j in range(0, n):\n",
    "            val = A[j][i]\n",
    "            row.append(val)\n",
    "        At.append(row)\n",
    "    return At\n"
   ]
  },
  {
   "cell_type": "markdown",
   "metadata": {},
   "source": [
    "### 4.1.4 넘파이 실습\n",
    "\n",
    "`np.transpose()` 혹은  \n",
    "`.T` 메서드  \n"
   ]
  },
  {
   "cell_type": "markdown",
   "metadata": {},
   "source": [
    "## 4.2 대칭 행렬\n",
    "\n",
    "### 4.2.1 대칭 행렬의 개념\n",
    "\n",
    "**대칭 행렬**: 기존 행렬과 전치 행렬이 동일한 정사각 행렬, $A=A^T$\n",
    "\n",
    "### 4.2.2 대칭 행렬의 성질\n",
    "\n",
    "대칭 행렬 간 덧셈이나 뺄셈의 결과는 대칭 행렬  \n",
    "대칭 행렬끼리 행렬 곱을 한 결과는 반드시 대칭 행렬은 아님  \n",
    "행렬 A가 대칭 행렬일 때 대칭 행렬 A의 거듭 제곱 형태도 대칭 행렬  \n",
    "어떤 행렬 A가 존재할 때 자기 자신의 전치 행렬을 곱한 결과는 대칭 행렬이 됨 (곱하는 순서를 바꾸어도 값은 다르지만 대칭 행렬)  \n",
    "\n",
    "### 4.2.3 파이썬 실습\n",
    "\n",
    "NOTE: 앞에서 구현한 transpose(), matmul() 함수로 확인 가능\n",
    "\n",
    "### 4.2.4 넘파이 실습\n",
    "\n",
    "`np.transpose()`, `np.matmul()` 함수로 확인 가능"
   ]
  },
  {
   "cell_type": "markdown",
   "metadata": {},
   "source": [
    "## 4.3 대각 행렬\n",
    "\n",
    "### 4.3.1 대각 행렬의 개념\n",
    "\n",
    "대각 행렬은 행렬의 주 대각 원소가 아닌 원소가 0인 정사각 행렬  \n",
    "행 번호와 열 번호가 동일한 원소를 주 대각 원소라고 부름  \n",
    "\n",
    "NOTE: GOTO Chapter 7. 역행렬  \n",
    "\n",
    "대각 행렬의 역행렬: 주 대각 원소의 역수  \n",
    "대각 행렬의 거듭 제곱: 대각 원소의 거듭 제곱  \n",
    "\n",
    "### 4.3.2 대각 행렬의 성질\n",
    "\n",
    "어떤 행렬에 대각 행렬을 곱할 때, 대각 행렬을 오른쪽에 곱하는 경우, 기존 행렬의 **열** 값이 대각 원소의 배수가 되며,  \n",
    "대각 행렬을 왼쪽에 곱하는 경우 기존 행렬의 **행** 값이 대각 원소의 배수가 되는 것을 확인할 수 있음\n",
    "\n",
    "### 4.3.3 파이썬 실습\n",
    "\n",
    "#### 대각 행렬 구하기\n",
    "\n",
    "대각 행렬을 구한다는 것은 대각 원소를 제외한 나머지 원소를 0으로 바꾸는 것을 의미  \n"
   ]
  },
  {
   "cell_type": "code",
   "execution_count": null,
   "metadata": {},
   "outputs": [],
   "source": [
    "def diag(A):\n",
    "    \"\"\"\n",
    "    행렬의 대각 행렬\n",
    "    입력값: 대각 행렬을 구하고자 하는 행렬 A\n",
    "    출력값: 행렬 A의 대각 행렬 D\n",
    "    \"\"\"\n",
    "    \n",
    "    n = len(A)\n",
    "    D= []\n",
    "    for i in range(0, n):\n",
    "        row = []\n",
    "        for j in range(0, n):\n",
    "            if i==j:\n",
    "                row.append(A[i][j])\n",
    "            else:\n",
    "                row.append(0)\n",
    "        D.append(row)\n",
    "    return D\n"
   ]
  },
  {
   "cell_type": "markdown",
   "metadata": {},
   "source": [
    "#### 대각 원소 구하기\n",
    "\n",
    "주어진 행렬의 대각 원소를 추출해 보기  "
   ]
  },
  {
   "cell_type": "code",
   "execution_count": null,
   "metadata": {},
   "outputs": [],
   "source": [
    "def diag_ele(A):\n",
    "    \"\"\"\n",
    "    대각 원소 구하기\n",
    "    입력값: 대각 원소를 구하고자 하는 행렬 A\n",
    "    출력값: 행렬 A의 대각 원소 리스트 d\n",
    "    \"\"\"\n",
    "    \n",
    "    n = len(A)\n",
    "    d = []\n",
    "    for i in range(0, n):\n",
    "        d.append(A[i][i])\n",
    "    return d\n"
   ]
  },
  {
   "cell_type": "markdown",
   "metadata": {},
   "source": [
    "#### 대각 원소가 주어졌을 때, 대각 행렬로 변환\n",
    "\n",
    "대각 원소가 주어졌을 때 대각 행렬을 만들 수 있는 함수 구현\n",
    "\n",
    "#### 일반 행렬에 대각 행렬을 곱했을 때\n",
    "\n",
    "### 4.3.4 넘파이 실습\n",
    "\n",
    "`np.diag()`\n"
   ]
  },
  {
   "cell_type": "code",
   "execution_count": null,
   "metadata": {},
   "outputs": [],
   "source": [
    "def ele2diag(a):\n",
    "    \"\"\"\n",
    "    대각 원소 -> 대각 행렬 변환\n",
    "    입력값: 대각 원소 리스트 a\n",
    "    출력값: 대각 원소 a를 이용해 생성한 n*n 대각 행렬 D\n",
    "    \"\"\"\n",
    "    \n",
    "    n = len(a)\n",
    "    D = []\n",
    "    for i in range(0, n):\n",
    "        row = []\n",
    "        for j in range(0, n):\n",
    "            if i==j:\n",
    "                row.append(a[i])\n",
    "            else:\n",
    "                row.append(0)\n",
    "        D.append(row)\n",
    "    return D"
   ]
  },
  {
   "cell_type": "markdown",
   "metadata": {},
   "source": [
    "## 4.4 단위 행렬\n",
    "\n",
    "### 4.4.1 단위 행렬의 개념\n",
    "\n",
    "단위 행렬: 주 대각 원소가 1이고 그 밖의 나머지 원소는 모두 0인 대각 행렬\n",
    "\n",
    "### 4.4.2 단위 행렬의 성질\n",
    "\n",
    "행렬 곱 위치와 상관없이 기존 행렬에 단위 행렬을 곱한 결과는 기존 행렬과 동일하다.\n",
    "$$\\mathbf{AI}=\\mathbf{IA}=\\mathbf{A}$$\n",
    "\n",
    "### 4.4.3 파이썬 실습\n",
    "\n",
    "단위 행렬을 생성하는 함수  \n",
    "\n",
    "### 4.4.4 넘파이 실습\n",
    "\n",
    "`np.identity()`\n"
   ]
  },
  {
   "cell_type": "code",
   "execution_count": null,
   "metadata": {},
   "outputs": [],
   "source": [
    "def identify(n):\n",
    "    \"\"\"\n",
    "    단위 행렬 생성\n",
    "    입력값: 단위 행렬의 크기 n\n",
    "    출력값: n*n 단위 행렬 I\n",
    "    \"\"\"\n",
    "    \n",
    "    I = []\n",
    "    for i in range(0, n):\n",
    "        row = []\n",
    "        for j in range(0, n):\n",
    "            if i==j:\n",
    "                row.append(1)\n",
    "            else:\n",
    "                row.append(0)\n",
    "        I.append(row)\n",
    "    return I"
   ]
  },
  {
   "cell_type": "markdown",
   "metadata": {},
   "source": [
    "## 4.5 영 행렬\n",
    "\n",
    "### 4.5.1 영 행렬의 개념\n",
    "\n",
    "행렬 구성 원솩 모두 0일 때 주로 $\\mathbf{0}$으로 표시  \n",
    "\n",
    "### 4.5.2 영 행렬의 성질\n",
    "\n",
    "임의의 행렬에 영 행렬을 더하거나 뺀 결과는 기존 행렬과 동일  \n",
    "기존 행렬에 영행렬을 곱하면 결과는 영 행렬이 됨  \n",
    "\n",
    "### 4.5.3 파이썬 실습\n",
    "\n",
    "n*p인 영 행렬을 만드는 함수 구현  "
   ]
  },
  {
   "cell_type": "code",
   "execution_count": null,
   "metadata": {},
   "outputs": [],
   "source": [
    "def zero_mat(n, p):\n",
    "    \"\"\"\n",
    "    영 행렬 생성\n",
    "    입력값: 생성하고자 할 영 행렬의 크기 n행, p열\n",
    "    출력값: n*p 영 행렬 Z\n",
    "    \"\"\"\n",
    "    \n",
    "    Z = []\n",
    "    for i in range(0, n):\n",
    "        row = []\n",
    "        for j in range(0, p):\n",
    "            row.append(0)\n",
    "        Z.append(row)\n",
    "    return Z"
   ]
  },
  {
   "cell_type": "markdown",
   "metadata": {},
   "source": [
    "## 4.6 삼각 행렬\n",
    "\n",
    "### 4.6.1 삼각 행렬의 개념\n",
    "\n",
    "**상 삼각 행렬**: 주 대각 원소 아래쪽에 있는 모든 원소가 0인 정사각 행렬  \n",
    "**하 삼각 행렬**: 주 대각 원소 위쪽에 있는 모든 원소가 0인 정사각 행렬\n",
    "\n",
    "### 4.6.2 삼각 행렬의 성질\n",
    "\n",
    "삼각 행렬 간 덧셈, 뺄셈, 행렬 곱의 결과는 삼각 행렬  \n",
    "상 삼각 행렬의 전치 행렬은 하 삼각 행렬, 역도 성립  \n",
    "삼각 행렬의 역행렬도 삼각 행렬\n",
    "\n",
    "### 4.6.3 파이썬 실습\n",
    "\n",
    "`np.triu()`: 상 삼각 행렬  \n",
    "`np.tril()`: 하 삼각 행렬"
   ]
  },
  {
   "cell_type": "code",
   "execution_count": null,
   "metadata": {},
   "outputs": [],
   "source": [
    "def u_tri(A):\n",
    "    \"\"\"\n",
    "    상 삼각 행렬 변환\n",
    "    입력값: 상 삼각 행렬로 변환하고자 하는 행렬 A\n",
    "    출력값: 행렬 A를 상 삼각 행렬로 변환시킨 행렬 utri\n",
    "    \"\"\"\n",
    "    \n",
    "    n = len(A)\n",
    "    p = len(A[0])\n",
    "    utri = []\n",
    "    \n",
    "    for i in range(0, n):\n",
    "        row = []\n",
    "        for j in range(0, p):\n",
    "            if i>j:\n",
    "                row.append(0)\n",
    "            else:\n",
    "                row.append(A[i][j])\n",
    "        utri.append(row)\n",
    "    return utri\n",
    "\n",
    "def l_tri(A):\n",
    "    \"\"\"\n",
    "    하 삼각 행렬 변환\n",
    "    입력값: 하 삼각 행렬로 변환하고자 하는 행렬 A\n",
    "    출력값: 행렬 A를 하 삼각 행렬로 변환시킨 행렬 ltri\n",
    "    \"\"\"\n",
    "    \n",
    "    n = len(A)\n",
    "    p = len(A[0])\n",
    "    ltri = []\n",
    "    \n",
    "    for i in range(0, n):\n",
    "        row = []\n",
    "        for j in range(0, p):\n",
    "            if i<j:\n",
    "                row.append(0)\n",
    "            else:\n",
    "                row.append(A[i][j])\n",
    "        ltri.append(row)\n",
    "    return ltri\n"
   ]
  }
 ],
 "metadata": {
  "interpreter": {
   "hash": "8416a3f2a026e985bee17eceb7546469969f3a4d162bd0f7da6d9cc666a7e5f9"
  },
  "kernelspec": {
   "display_name": "Python 3.9.7 ('base')",
   "language": "python",
   "name": "python3"
  },
  "language_info": {
   "codemirror_mode": {
    "name": "ipython",
    "version": 3
   },
   "file_extension": ".py",
   "mimetype": "text/x-python",
   "name": "python",
   "nbconvert_exporter": "python",
   "pygments_lexer": "ipython3",
   "version": "3.9.7"
  },
  "orig_nbformat": 4
 },
 "nbformat": 4,
 "nbformat_minor": 2
}
