{
 "cells": [
  {
   "cell_type": "markdown",
   "metadata": {},
   "source": [
    "# 6. 행렬식\n",
    "\n",
    "## 6.1 행렬식의 개념\n",
    "\n",
    "정사각 행렬을 스칼라로 변환하는 함수  \n",
    "용도는:  \n",
    "1) 역행렬\n",
    "2) 절대값으로 해당 행렬이 단위 공간을 얼마나 늘렸는지 혹은 줄였는지를 알 수 있다. 이는 부피로 표현할 수 있다.\n",
    "\n",
    "## 6.2 행렬식 계산\n",
    "\n",
    "### 6.2.1 2*2 행렬의 행렬식\n",
    "\n",
    "부피가 아닌 `넓이`의 개념으로 생각할 수 있다.  \n",
    "행렬의 각 행을 하나의 벡터라고 생각하고 두 개의 벡터로 만들 수 있는 평행사변형의 넓이에 해당하는 값이 행렬식의 절대값이다.  \n",
    "\n",
    "### 6.2.2 3*3 행렬의 행렬식\n",
    "\n",
    "`소행렬식` minor of entry $a_{ij}$: $M_{ij}$이란 행렬의 $i$행과 $j$열을 제외하고 구성된 부분 행렬의 행렬식  \n",
    "`여인수` cofactor of entry $a_{ij}$: $C_{ij} = (-1)^{(i+j)}M_{ij}$를 원소 $a_{ij}$에 대한 여인수라 함  \n",
    "\n",
    "행렬식 $det(A) = a_{11}C_{11} + a_{12}C_{12} + a_{1n}C_{1n}$으로 여인수 전개를 이용하여 구할 수 있다.\n",
    "\n",
    "## 6.3 행렬식의 성질\n",
    "\n",
    "### 6.3.1 삼각 행렬의 행렬식\n",
    "\n",
    "삼각 행렬 혹은 대각 행렬이면 행렬 $\\mathbf{A}$의 행렬식은 주 대각 원소의 곱과 같음  \n",
    "\n",
    "### 6.3.2 대각 행렬의 행렬식\n",
    "\n",
    "단위 행렬의 행렬식은? 1이다.\n",
    "\n",
    "### 6.3.3 전치 행렬의 행렬식\n",
    "\n",
    "행렬 $\\mathbf{A}$가 정사각행렬이면 전치 행렬과 원래 행렬의 행렬식은 동일\n",
    "\n",
    "### 6.3.4 특정 행과 열의 원소가 모두 0일 때 행렬식\n",
    "\n",
    "모든 원소가 0인 행 또는 열을 기준으로 여인수를 구하면 모두 0이기 때문에 행렬식은 0\n",
    "\n",
    "### 6.3.5 행렬이 기본 행 연산과 행렬식\n",
    "\n",
    "a) 한 행에 영이 아닌 상수를 모두 곱한다: 전체 행렬식의 크기가 $k$배  \n",
    "b) 두 행을 교환한다: 위치를 바꾸면 기존 행렬의 행렬식에서 부호를 바꾼 값과 동일  \n",
    "c) 한 행의 배수를 다른 행에 더한다: 행렬식의 크기는 동일  \n",
    "\n",
    "### 6.3.6 비례하는 행과 열에 대한 행렬식\n",
    "\n",
    "한 행이 다른 행의 배수라면 행렬식은 0이다.\n",
    "\n",
    "### 6.3.7 행렬 곱과 행렬식\n",
    "\n",
    "$$det(\\mathbf{AB}) = det(\\mathbf{A})det(\\mathbf{B})$$\n",
    "\n",
    "## 6.4 파이썬 실습\n",
    "\n",
    "### 6.4.1 단계적으로 계산하기"
   ]
  },
  {
   "cell_type": "code",
   "execution_count": 1,
   "metadata": {},
   "outputs": [
    {
     "name": "stdout",
     "output_type": "stream",
     "text": [
      "[[-3, 6], [3, -5]]\n",
      "-3\n",
      "-9\n",
      "[[-1, 6], [2, -5]]\n",
      "-7\n",
      "5\n",
      "[[-1, -3], [2, 3]]\n",
      "3\n",
      "5\n"
     ]
    }
   ],
   "source": [
    "A = [[3, 2, 0], [-1, -3, 6], [2, 3, -5]]\n",
    "\n",
    "n = len(A)\n",
    "p = len(A[0])\n",
    "\n",
    "detA = 0\n",
    "for j in range(0, p):\n",
    "    M = [A[1][:j] + A[1][j+1:], A[2][:j] + A[2][j+1:]]\n",
    "    print(M)\n",
    "    Mij = M[0][0] * M[1][1] - M[0][1] * M[1][0]\n",
    "    print(Mij)\n",
    "    Cij = ((-1)**(0+j))*Mij\n",
    "    detA += A[0][j]*Cij \n",
    "    print(detA)"
   ]
  },
  {
   "cell_type": "markdown",
   "metadata": {},
   "source": [
    "### 6.4.2 재귀 함수로 구현하기"
   ]
  },
  {
   "cell_type": "code",
   "execution_count": 3,
   "metadata": {},
   "outputs": [],
   "source": [
    "from util import deepcopy\n",
    "\n",
    "def det_rec(A):\n",
    "    \n",
    "    \"\"\"\n",
    "    행렬 A의 행렬식 구하기 (재귀 방식을 이용)\n",
    "    입력값: 행렬식을 구하고자 하는 행렬 A\n",
    "    출력값: 행렬 A의 행렬식 res\n",
    "    \"\"\"\n",
    "    \n",
    "    n = len(A)\n",
    "    res = 0\n",
    "    \n",
    "    # 2*2 행렬의 행렬식 구하기\n",
    "    if n == 2:\n",
    "        res = A[0][0] * A[1][1] - A[1][0] * A[0][1]\n",
    "    return res\n",
    "\n",
    "    # n*n 행렬의 행렬식 구하기\n",
    "    for i in range(0, n):\n",
    "        X = deepcopy(A)\n",
    "        X = X[1:]\n",
    "        nx = len(X)\n",
    "    \n",
    "        for j in range(0, nx):\n",
    "            X[j] = X[j][0:i] + X[j][i+1:]\n",
    "        \n",
    "        sign = (-1) ** (i % 2)\n",
    "        sub_det = det_rec(X)\n",
    "        res += sign * A[0][i] * sub_det\n",
    "    \n",
    "    return res"
   ]
  },
  {
   "cell_type": "markdown",
   "metadata": {},
   "source": [
    "### 6.4.3 삼각행렬 변환으로 구현하기\n"
   ]
  },
  {
   "cell_type": "code",
   "execution_count": null,
   "metadata": {},
   "outputs": [],
   "source": [
    "def det_tri(A):\n",
    "    \"\"\"\n",
    "    상 삼각 행렬 반환을 이용해 행렬식 구하기\n",
    "    입력값: 행렬 A\n",
    "    출력값: 행렬식 res\n",
    "    \"\"\"\n",
    "    \n",
    "    n = len(A)\n",
    "    X = deepcopy(A)\n",
    "    n_row_change = 0\n",
    "    \n",
    "    for i in range(0, n):\n",
    "        if X[i][i] == 0:\n",
    "            tmp = X[i+1]\n",
    "            X[i+1] = X[i]\n",
    "            X[i] = tmp\n",
    "            n_row_change += 1\n",
    "        \n",
    "        for j in range(i+1, n):\n",
    "            ratio = X[j][i] / X[i][i]\n",
    "            for k in range(0, n):\n",
    "                X[j][k] = X[j][k] - ratio * X[i][k]\n",
    "                \n",
    "    n_row_change = (-1)**(n_row_change)\n",
    "    res = 1\n",
    "    for i in range(n):\n",
    "        res *= X[i][i]\n",
    "        \n",
    "    res *= n_row_change\n",
    "    return res"
   ]
  },
  {
   "cell_type": "markdown",
   "metadata": {},
   "source": [
    "## 6.5 넘파이 실습\n",
    "\n",
    "`np.linalg.det(A)` 이것이 끝이다..."
   ]
  }
 ],
 "metadata": {
  "interpreter": {
   "hash": "ade1a49d480bc39ff26fda60d07390878a6aa522c7769f3d599b1bad993e232c"
  },
  "kernelspec": {
   "display_name": "Python 3.9.7 ('anaconda3')",
   "language": "python",
   "name": "python3"
  },
  "language_info": {
   "codemirror_mode": {
    "name": "ipython",
    "version": 3
   },
   "file_extension": ".py",
   "mimetype": "text/x-python",
   "name": "python",
   "nbconvert_exporter": "python",
   "pygments_lexer": "ipython3",
   "version": "3.9.7"
  },
  "orig_nbformat": 4
 },
 "nbformat": 4,
 "nbformat_minor": 2
}
