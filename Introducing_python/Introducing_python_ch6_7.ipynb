{
 "cells": [
  {
   "cell_type": "code",
   "execution_count": 1,
   "source": [
    "#example\n",
    "while True:\n",
    "    value = input(\"Integer, please [q to quit]: \")\n",
    "    if value == 'q':\n",
    "        break\n",
    "    number = int(value)\n",
    "    if number % 2 == 0:\n",
    "        continue\n",
    "    print(number, \"squared is\", number*number)\n",
    "    "
   ],
   "outputs": [
    {
     "output_type": "stream",
     "name": "stdout",
     "text": [
      "Integer, please [q to quit]: 1\n",
      "1 squared is 1\n",
      "Integer, please [q to quit]: 2\n",
      "Integer, please [q to quit]: 3\n",
      "3 squared is 9\n",
      "Integer, please [q to quit]: q\n"
     ]
    }
   ],
   "metadata": {}
  },
  {
   "cell_type": "code",
   "execution_count": 2,
   "source": [
    "#excercise 6.1 -- solved#\n",
    "for x in range(3, -1, -1):\n",
    "    print(x)"
   ],
   "outputs": [
    {
     "output_type": "stream",
     "name": "stdout",
     "text": [
      "3\n",
      "2\n",
      "1\n",
      "0\n"
     ]
    }
   ],
   "metadata": {}
  },
  {
   "cell_type": "code",
   "execution_count": 4,
   "source": [
    "#excercise 6.2 -- not solved#\n",
    "guess_me = 7\n",
    "number = 1\n",
    "while True:\n",
    "    if number < guess_me:\n",
    "        print(\"too low\")\n",
    "    elif number == guess_me:\n",
    "        print(\"found it!\")\n",
    "        break\n",
    "    elif number > guess_me:\n",
    "        print(\"oops\")\n",
    "        break\n",
    "    number += 1"
   ],
   "outputs": [
    {
     "output_type": "stream",
     "name": "stdout",
     "text": [
      "too low\n",
      "too low\n",
      "too low\n",
      "too low\n",
      "too low\n",
      "too low\n",
      "found it!\n"
     ]
    }
   ],
   "metadata": {}
  },
  {
   "cell_type": "code",
   "execution_count": 5,
   "source": [
    "#excercise 6.3 -- solved#\n",
    "guess_me = 5\n",
    "for number in range(10):\n",
    "    if number < guess_me:\n",
    "        print('too low')\n",
    "    elif number == guess_me:\n",
    "        print('found it!')\n",
    "        break\n",
    "    elif number > guess_me:\n",
    "        print('oops')\n",
    "        break"
   ],
   "outputs": [
    {
     "output_type": "stream",
     "name": "stdout",
     "text": [
      "too low\n",
      "too low\n",
      "too low\n",
      "too low\n",
      "too low\n",
      "found it!\n"
     ]
    }
   ],
   "metadata": {}
  },
  {
   "cell_type": "code",
   "execution_count": 5,
   "source": [
    "#excercise 7.1\n",
    "year_lists=[number+1979 for number in range(1, 7)]\n",
    "year_lists"
   ],
   "outputs": [
    {
     "output_type": "execute_result",
     "data": {
      "text/plain": [
       "[1980, 1981, 1982, 1983, 1984, 1985]"
      ]
     },
     "metadata": {},
     "execution_count": 5
    }
   ],
   "metadata": {}
  },
  {
   "cell_type": "code",
   "execution_count": 6,
   "source": [
    "#excercise 7.2\n",
    "year_lists[2]"
   ],
   "outputs": [
    {
     "output_type": "execute_result",
     "data": {
      "text/plain": [
       "1982"
      ]
     },
     "metadata": {},
     "execution_count": 6
    }
   ],
   "metadata": {}
  },
  {
   "cell_type": "code",
   "execution_count": 7,
   "source": [
    "#excercise 7.3\n",
    "year_lists[-1]"
   ],
   "outputs": [
    {
     "output_type": "execute_result",
     "data": {
      "text/plain": [
       "1985"
      ]
     },
     "metadata": {},
     "execution_count": 7
    }
   ],
   "metadata": {}
  },
  {
   "cell_type": "code",
   "execution_count": 10,
   "source": [
    "#excercise 7.4\n",
    "things=[\"mozzarella\", \"cinderella\", \"salmonella\"]"
   ],
   "outputs": [],
   "metadata": {}
  },
  {
   "cell_type": "code",
   "execution_count": 14,
   "source": [
    "#excercise 7.5\n",
    "things[1].capitalize()"
   ],
   "outputs": [
    {
     "output_type": "execute_result",
     "data": {
      "text/plain": [
       "'Cinderella'"
      ]
     },
     "metadata": {},
     "execution_count": 14
    }
   ],
   "metadata": {}
  },
  {
   "cell_type": "code",
   "execution_count": 15,
   "source": [
    "things #대문자로 바꿔도 list 자체는 변하지 않음!"
   ],
   "outputs": [
    {
     "output_type": "execute_result",
     "data": {
      "text/plain": [
       "['mozzarella', 'cinderella', 'salmonella']"
      ]
     },
     "metadata": {},
     "execution_count": 15
    }
   ],
   "metadata": {}
  },
  {
   "cell_type": "code",
   "execution_count": 16,
   "source": [
    "#excercise 7.6\n",
    "things[0].upper()"
   ],
   "outputs": [
    {
     "output_type": "execute_result",
     "data": {
      "text/plain": [
       "'MOZZARELLA'"
      ]
     },
     "metadata": {},
     "execution_count": 16
    }
   ],
   "metadata": {
    "scrolled": false
   }
  },
  {
   "cell_type": "code",
   "execution_count": 17,
   "source": [
    "#excercise 7.7\n",
    "things.remove('salmonella')"
   ],
   "outputs": [],
   "metadata": {}
  },
  {
   "cell_type": "code",
   "execution_count": 18,
   "source": [
    "#excercise 7.8\n",
    "surprise=[\"Groucho\", \"Chico\", \"Harpo\"]"
   ],
   "outputs": [],
   "metadata": {}
  },
  {
   "cell_type": "code",
   "execution_count": 24,
   "source": [
    "#excercise 7.9\n",
    "surprise[-1]=surprise[-1].lower()"
   ],
   "outputs": [],
   "metadata": {}
  },
  {
   "cell_type": "code",
   "execution_count": 25,
   "source": [
    "surprise[-1]=surprise[-1][::-1]"
   ],
   "outputs": [],
   "metadata": {}
  },
  {
   "cell_type": "code",
   "execution_count": 26,
   "source": [
    "surprise[-1].capitalize()"
   ],
   "outputs": [
    {
     "output_type": "execute_result",
     "data": {
      "text/plain": [
       "'Oprah'"
      ]
     },
     "metadata": {},
     "execution_count": 26
    }
   ],
   "metadata": {}
  },
  {
   "cell_type": "code",
   "execution_count": 29,
   "source": [
    "#excercise 7.10\n",
    "even_lists=[number for number in range(10) if number%2==0]\n",
    "even_lists"
   ],
   "outputs": [
    {
     "output_type": "execute_result",
     "data": {
      "text/plain": [
       "[0, 2, 4, 6, 8]"
      ]
     },
     "metadata": {},
     "execution_count": 29
    }
   ],
   "metadata": {}
  },
  {
   "cell_type": "code",
   "execution_count": 31,
   "source": [
    "#excercise 7.11\n",
    "start1=[\"fee\", \"fie\", \"foe\"]\n",
    "rhymes=[\n",
    "    (\"flop\", \"get a mop\"),\n",
    "    (\"fope\", \"turn the rope\"),\n",
    "    (\"fa\", \"get your ma\"),\n",
    "    (\"fudge\", \"call the judge\"),\n",
    "    (\"fat\", \"pet the cat\"),\n",
    "    (\"fog\", \"walk the dog\"),\n",
    "    (\"fun\", \"say we're done\")\n",
    "]\n",
    "start2=\"Someone better\"\n",
    "\n",
    "start1_cap=''.join([word.capitalize()+\"!\" for word in start1])"
   ],
   "outputs": [],
   "metadata": {}
  },
  {
   "cell_type": "code",
   "execution_count": 32,
   "source": [
    "for first, second in rhymes:\n",
    "    print(f\"{start1_cap} {first.capitalize()}!\")\n",
    "    print(f\"{start2} {second}.\")"
   ],
   "outputs": [
    {
     "output_type": "stream",
     "name": "stdout",
     "text": [
      "Fee!Fie!Foe!Flop!\n",
      "Someone betterget a mop.\n",
      "Fee!Fie!Foe!Fope!\n",
      "Someone betterturn the rope.\n",
      "Fee!Fie!Foe!Fa!\n",
      "Someone betterget your ma.\n",
      "Fee!Fie!Foe!Fudge!\n",
      "Someone bettercall the judge.\n",
      "Fee!Fie!Foe!Fat!\n",
      "Someone betterpet the cat.\n",
      "Fee!Fie!Foe!Fog!\n",
      "Someone betterwalk the dog.\n",
      "Fee!Fie!Foe!Fun!\n",
      "Someone bettersay we're done.\n"
     ]
    }
   ],
   "metadata": {}
  }
 ],
 "metadata": {
  "kernelspec": {
   "display_name": "Python 3",
   "language": "python",
   "name": "python3"
  },
  "language_info": {
   "codemirror_mode": {
    "name": "ipython",
    "version": 3
   },
   "file_extension": ".py",
   "mimetype": "text/x-python",
   "name": "python",
   "nbconvert_exporter": "python",
   "pygments_lexer": "ipython3",
   "version": "3.8.5"
  }
 },
 "nbformat": 4,
 "nbformat_minor": 4
}