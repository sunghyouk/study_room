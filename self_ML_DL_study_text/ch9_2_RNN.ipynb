{
  "nbformat": 4,
  "nbformat_minor": 0,
  "metadata": {
    "colab": {
      "name": "ch9_2_RNN.ipynb",
      "provenance": [],
      "collapsed_sections": [],
      "toc_visible": true,
      "authorship_tag": "ABX9TyNaY+aiXP7lKhczBTNcCRAm",
      "include_colab_link": true
    },
    "kernelspec": {
      "name": "python3",
      "display_name": "Python 3"
    },
    "language_info": {
      "name": "python"
    }
  },
  "cells": [
    {
      "cell_type": "markdown",
      "metadata": {
        "id": "view-in-github",
        "colab_type": "text"
      },
      "source": [
        "<a href=\"https://colab.research.google.com/github/sunghyouk/study_room/blob/master/self_ML_DL_study_text/ch9_2_RNN.ipynb\" target=\"_parent\"><img src=\"https://colab.research.google.com/assets/colab-badge.svg\" alt=\"Open In Colab\"/></a>"
      ]
    },
    {
      "cell_type": "markdown",
      "metadata": {
        "id": "xCYIKCePBy_s"
      },
      "source": [
        "## 순환 신경망으로 IMDB 리뷰 분류하기\n",
        "IMDB: 인터넷 영화 데이터베이스에서 수집한 리뷰를 감상평에 따라 긍/부정으로 분류해 놓은 데이터셋  \n",
        "총 50,000개의 데이터 중 각 25,000개씩 훈련/테스트 데이터가 있음  \n",
        "텐서플로우 패키지 상 이미 토큰으로 만들어 놓은 데이터가 있음  \n",
        "가장 많이 사용된 500 단어를 데이터로 사용"
      ]
    },
    {
      "cell_type": "code",
      "metadata": {
        "colab": {
          "base_uri": "https://localhost:8080/"
        },
        "id": "xDNSgxeRClOf",
        "outputId": "7a892a4f-713a-442d-b52a-27176d4cb61c"
      },
      "source": [
        "from tensorflow.keras.datasets import imdb\n",
        "(train_input, train_target), (test_input, test_target) = imdb.load_data(\n",
        "    num_words=500)"
      ],
      "execution_count": null,
      "outputs": [
        {
          "output_type": "stream",
          "name": "stdout",
          "text": [
            "Downloading data from https://storage.googleapis.com/tensorflow/tf-keras-datasets/imdb.npz\n",
            "17465344/17464789 [==============================] - 0s 0us/step\n",
            "17473536/17464789 [==============================] - 0s 0us/step\n"
          ]
        }
      ]
    },
    {
      "cell_type": "code",
      "metadata": {
        "colab": {
          "base_uri": "https://localhost:8080/"
        },
        "id": "X2ibzrx-DYjh",
        "outputId": "18ea9139-0e66-4a82-fa5e-b3ef232c09be"
      },
      "source": [
        "print(train_input.shape, test_input.shape)"
      ],
      "execution_count": null,
      "outputs": [
        {
          "output_type": "stream",
          "name": "stdout",
          "text": [
            "(25000,) (25000,)\n"
          ]
        }
      ]
    },
    {
      "cell_type": "code",
      "metadata": {
        "colab": {
          "base_uri": "https://localhost:8080/"
        },
        "id": "Cx1wfGU3DdGq",
        "outputId": "24f9c5bd-3457-4a2e-e270-270240077684"
      },
      "source": [
        "# 첫번째 데이터 혹은 토큰의 길이는?\n",
        "print(len(train_input[0]))"
      ],
      "execution_count": null,
      "outputs": [
        {
          "output_type": "stream",
          "name": "stdout",
          "text": [
            "218\n"
          ]
        }
      ]
    },
    {
      "cell_type": "code",
      "metadata": {
        "colab": {
          "base_uri": "https://localhost:8080/"
        },
        "id": "p7B0MTeUDoQc",
        "outputId": "2a1aff46-99ec-4a63-e41e-e52b96be7ddc"
      },
      "source": [
        "# 첫번째 데이터의 내용은?\n",
        "print(train_input[0])"
      ],
      "execution_count": null,
      "outputs": [
        {
          "output_type": "stream",
          "name": "stdout",
          "text": [
            "[1, 14, 22, 16, 43, 2, 2, 2, 2, 65, 458, 2, 66, 2, 4, 173, 36, 256, 5, 25, 100, 43, 2, 112, 50, 2, 2, 9, 35, 480, 284, 5, 150, 4, 172, 112, 167, 2, 336, 385, 39, 4, 172, 2, 2, 17, 2, 38, 13, 447, 4, 192, 50, 16, 6, 147, 2, 19, 14, 22, 4, 2, 2, 469, 4, 22, 71, 87, 12, 16, 43, 2, 38, 76, 15, 13, 2, 4, 22, 17, 2, 17, 12, 16, 2, 18, 2, 5, 62, 386, 12, 8, 316, 8, 106, 5, 4, 2, 2, 16, 480, 66, 2, 33, 4, 130, 12, 16, 38, 2, 5, 25, 124, 51, 36, 135, 48, 25, 2, 33, 6, 22, 12, 215, 28, 77, 52, 5, 14, 407, 16, 82, 2, 8, 4, 107, 117, 2, 15, 256, 4, 2, 7, 2, 5, 2, 36, 71, 43, 2, 476, 26, 400, 317, 46, 7, 4, 2, 2, 13, 104, 88, 4, 381, 15, 297, 98, 32, 2, 56, 26, 141, 6, 194, 2, 18, 4, 226, 22, 21, 134, 476, 26, 480, 5, 144, 30, 2, 18, 51, 36, 28, 224, 92, 25, 104, 4, 226, 65, 16, 38, 2, 88, 12, 16, 283, 5, 16, 2, 113, 103, 32, 15, 16, 2, 19, 178, 32]\n"
          ]
        }
      ]
    },
    {
      "cell_type": "code",
      "metadata": {
        "id": "WKLJzM1MD4kj"
      },
      "source": [
        "# validation set 만들기\n",
        "from sklearn.model_selection import train_test_split\n",
        "train_input, val_input, train_target, val_target = train_test_split(\n",
        "    train_input, train_target, test_size=0.2, random_state=42\n",
        ")"
      ],
      "execution_count": null,
      "outputs": []
    },
    {
      "cell_type": "code",
      "metadata": {
        "id": "7BMAvs1CEfFM"
      },
      "source": [
        "import numpy as np\n",
        "lengths = np.array([len(x) for x in train_input])"
      ],
      "execution_count": null,
      "outputs": []
    },
    {
      "cell_type": "code",
      "metadata": {
        "colab": {
          "base_uri": "https://localhost:8080/"
        },
        "id": "Gh6ZC06tEyTK",
        "outputId": "f403120d-f1b3-4db8-97f9-d8557362536d"
      },
      "source": [
        "print(np.mean(lengths), np.median(lengths))"
      ],
      "execution_count": null,
      "outputs": [
        {
          "output_type": "stream",
          "name": "stdout",
          "text": [
            "239.00925 178.0\n"
          ]
        }
      ]
    },
    {
      "cell_type": "code",
      "metadata": {
        "colab": {
          "base_uri": "https://localhost:8080/",
          "height": 279
        },
        "id": "vkAMtSv2E4vx",
        "outputId": "2ed8c4f1-e41e-4dd4-fc9b-8862c1599945"
      },
      "source": [
        "import matplotlib.pyplot as plt\n",
        "plt.hist(lengths)\n",
        "plt.xlabel('length')\n",
        "plt.ylabel('frequency')\n",
        "plt.show()"
      ],
      "execution_count": null,
      "outputs": [
        {
          "output_type": "display_data",
          "data": {
            "image/png": "[encoded data removed]",
            "text/plain": [
              "<Figure size 432x288 with 1 Axes>"
            ]
          },
          "metadata": {
            "needs_background": "light"
          }
        }
      ]
    },
    {
      "cell_type": "markdown",
      "metadata": {
        "id": "fg93Yan4FdFP"
      },
      "source": [
        "* 대부분의 리뷰 길이가 짧아서 앞에서 100 단어 정도만 사용해도 되겠다."
      ]
    },
    {
      "cell_type": "code",
      "metadata": {
        "id": "_2ToLZrxFJT6"
      },
      "source": [
        "from tensorflow.keras.preprocessing.sequence import pad_sequences\n",
        "train_seq = pad_sequences(train_input, maxlen=100)"
      ],
      "execution_count": null,
      "outputs": []
    },
    {
      "cell_type": "code",
      "metadata": {
        "colab": {
          "base_uri": "https://localhost:8080/"
        },
        "id": "CzVTNfbpFvU5",
        "outputId": "ed793547-8a8c-4f92-d5b7-8a8de8b41d54"
      },
      "source": [
        "print(train_seq.shape)"
      ],
      "execution_count": null,
      "outputs": [
        {
          "output_type": "stream",
          "name": "stdout",
          "text": [
            "(20000, 100)\n"
          ]
        }
      ]
    },
    {
      "cell_type": "code",
      "metadata": {
        "colab": {
          "base_uri": "https://localhost:8080/"
        },
        "id": "f-SOoZhWGH3o",
        "outputId": "f80cdc95-7b3f-444c-b3c8-40bd00de26c0"
      },
      "source": [
        "print(train_seq[0])"
      ],
      "execution_count": null,
      "outputs": [
        {
          "output_type": "stream",
          "name": "stdout",
          "text": [
            "[ 10   4  20   9   2 364 352   5  45   6   2   2  33 269   8   2 142   2\n",
            "   5   2  17  73  17 204   5   2  19  55   2   2  92  66 104  14  20  93\n",
            "  76   2 151  33   4  58  12 188   2 151  12 215  69 224 142  73 237   6\n",
            "   2   7   2   2 188   2 103  14  31  10  10 451   7   2   5   2  80  91\n",
            "   2  30   2  34  14  20 151  50  26 131  49   2  84  46  50  37  80  79\n",
            "   6   2  46   7  14  20  10  10 470 158]\n"
          ]
        }
      ]
    },
    {
      "cell_type": "code",
      "metadata": {
        "id": "wqdJiaxSGLPn"
      },
      "source": [
        "val_seq = pad_sequences(val_input, maxlen=100)"
      ],
      "execution_count": null,
      "outputs": []
    },
    {
      "cell_type": "markdown",
      "metadata": {
        "id": "bfQS-RO6LP2D"
      },
      "source": [
        "### 순환 신경망 만들기"
      ]
    },
    {
      "cell_type": "code",
      "metadata": {
        "id": "vEfRBpbXLc9d"
      },
      "source": [
        "from tensorflow import keras\n",
        "model = keras.Sequential()\n",
        "model.add(keras.layers.SimpleRNN(8, input_shape=(100, 500)))\n",
        "model.add(keras.layers.Dense(1, activation='sigmoid'))"
      ],
      "execution_count": null,
      "outputs": []
    },
    {
      "cell_type": "code",
      "metadata": {
        "id": "75g8DaEVLwTb"
      },
      "source": [
        "# 원핫인코딩으로 바꾸기: 각 정수의 상대적인 크기 정보 없애기\n",
        "train_oh = keras.utils.to_categorical(train_seq)"
      ],
      "execution_count": null,
      "outputs": []
    },
    {
      "cell_type": "code",
      "metadata": {
        "colab": {
          "base_uri": "https://localhost:8080/"
        },
        "id": "RD-2YERlMwJw",
        "outputId": "705cf057-5d0b-4c31-ccc1-3b3058fce581"
      },
      "source": [
        "print(train_oh.shape)"
      ],
      "execution_count": null,
      "outputs": [
        {
          "output_type": "stream",
          "name": "stdout",
          "text": [
            "(20000, 100, 500)\n"
          ]
        }
      ]
    },
    {
      "cell_type": "code",
      "metadata": {
        "id": "s0r4-CvkMzlQ"
      },
      "source": [
        "val_oh = keras.utils.to_categorical(val_seq)"
      ],
      "execution_count": null,
      "outputs": []
    },
    {
      "cell_type": "code",
      "metadata": {
        "colab": {
          "base_uri": "https://localhost:8080/"
        },
        "id": "EYeEAjfQNGvv",
        "outputId": "1e401fdc-f13b-45fc-d38c-2d1e691408e5"
      },
      "source": [
        "model.summary()"
      ],
      "execution_count": null,
      "outputs": [
        {
          "output_type": "stream",
          "name": "stdout",
          "text": [
            "Model: \"sequential\"\n",
            "_________________________________________________________________\n",
            " Layer (type)                Output Shape              Param #   \n",
            "=================================================================\n",
            " simple_rnn (SimpleRNN)      (None, 8)                 4072      \n",
            "                                                                 \n",
            " dense (Dense)               (None, 1)                 9         \n",
            "                                                                 \n",
            "=================================================================\n",
            "Total params: 4,081\n",
            "Trainable params: 4,081\n",
            "Non-trainable params: 0\n",
            "_________________________________________________________________\n"
          ]
        }
      ]
    },
    {
      "cell_type": "markdown",
      "source": [
        "### 순환 신경망 훈련하기"
      ],
      "metadata": {
        "id": "PPFGtrVP2nON"
      }
    },
    {
      "cell_type": "code",
      "metadata": {
        "id": "_iyTrE7KNOe3"
      },
      "source": [
        "rmsprop = keras.optimizers.RMSprop(learning_rate=1e-4)\n",
        "model.compile(optimizer=rmsprop, loss='binary_crossentropy',\n",
        "              metrics=['accuracy'])\n",
        "checkpoint_cb = keras.callbacks.ModelCheckpoint('best-simplernn-model.h5')\n",
        "early_stopping_cb = keras.callbacks.EarlyStopping(patience=3,\n",
        "                                                  restore_best_weights=True)"
      ],
      "execution_count": null,
      "outputs": []
    },
    {
      "cell_type": "code",
      "source": [
        "history = model.fit(train_oh, train_target, epochs=100, batch_size=64,\n",
        "                    validation_data=(val_oh, val_target),\n",
        "                    callbacks=[checkpoint_cb, early_stopping_cb])"
      ],
      "metadata": {
        "colab": {
          "base_uri": "https://localhost:8080/"
        },
        "id": "eBWBSZ7S3N-j",
        "outputId": "baed2e8c-d7e6-4a56-d99c-01db0327e46e"
      },
      "execution_count": null,
      "outputs": [
        {
          "output_type": "stream",
          "name": "stdout",
          "text": [
            "Epoch 1/100\n",
            "313/313 [==============================] - 18s 51ms/step - loss: 0.6964 - accuracy: 0.5056 - val_loss: 0.6943 - val_accuracy: 0.5232\n",
            "Epoch 2/100\n",
            "313/313 [==============================] - 15s 47ms/step - loss: 0.6906 - accuracy: 0.5282 - val_loss: 0.6888 - val_accuracy: 0.5434\n",
            "Epoch 3/100\n",
            "313/313 [==============================] - 15s 47ms/step - loss: 0.6832 - accuracy: 0.5586 - val_loss: 0.6799 - val_accuracy: 0.5772\n",
            "Epoch 4/100\n",
            "313/313 [==============================] - 14s 44ms/step - loss: 0.6622 - accuracy: 0.6205 - val_loss: 0.6492 - val_accuracy: 0.6538\n",
            "Epoch 5/100\n",
            "313/313 [==============================] - 14s 45ms/step - loss: 0.6375 - accuracy: 0.6675 - val_loss: 0.6320 - val_accuracy: 0.6752\n",
            "Epoch 6/100\n",
            "313/313 [==============================] - 15s 47ms/step - loss: 0.6207 - accuracy: 0.6870 - val_loss: 0.6191 - val_accuracy: 0.6886\n",
            "Epoch 7/100\n",
            "313/313 [==============================] - 13s 43ms/step - loss: 0.6073 - accuracy: 0.6996 - val_loss: 0.6087 - val_accuracy: 0.7006\n",
            "Epoch 8/100\n",
            "313/313 [==============================] - 13s 42ms/step - loss: 0.5965 - accuracy: 0.7117 - val_loss: 0.5983 - val_accuracy: 0.7090\n",
            "Epoch 9/100\n",
            "313/313 [==============================] - 14s 43ms/step - loss: 0.5852 - accuracy: 0.7204 - val_loss: 0.5895 - val_accuracy: 0.7126\n",
            "Epoch 10/100\n",
            "313/313 [==============================] - 14s 44ms/step - loss: 0.5755 - accuracy: 0.7268 - val_loss: 0.5839 - val_accuracy: 0.7148\n",
            "Epoch 11/100\n",
            "313/313 [==============================] - 13s 43ms/step - loss: 0.5682 - accuracy: 0.7325 - val_loss: 0.5747 - val_accuracy: 0.7218\n",
            "Epoch 12/100\n",
            "313/313 [==============================] - 14s 43ms/step - loss: 0.5601 - accuracy: 0.7378 - val_loss: 0.5701 - val_accuracy: 0.7224\n",
            "Epoch 13/100\n",
            "313/313 [==============================] - 14s 46ms/step - loss: 0.5520 - accuracy: 0.7421 - val_loss: 0.5663 - val_accuracy: 0.7242\n",
            "Epoch 14/100\n",
            "313/313 [==============================] - 14s 44ms/step - loss: 0.5453 - accuracy: 0.7484 - val_loss: 0.5582 - val_accuracy: 0.7320\n",
            "Epoch 15/100\n",
            "313/313 [==============================] - 13s 43ms/step - loss: 0.5387 - accuracy: 0.7524 - val_loss: 0.5514 - val_accuracy: 0.7364\n",
            "Epoch 16/100\n",
            "313/313 [==============================] - 13s 43ms/step - loss: 0.5334 - accuracy: 0.7554 - val_loss: 0.5462 - val_accuracy: 0.7408\n",
            "Epoch 17/100\n",
            "313/313 [==============================] - 13s 43ms/step - loss: 0.5265 - accuracy: 0.7592 - val_loss: 0.5415 - val_accuracy: 0.7424\n",
            "Epoch 18/100\n",
            "313/313 [==============================] - 13s 43ms/step - loss: 0.5222 - accuracy: 0.7610 - val_loss: 0.5398 - val_accuracy: 0.7446\n",
            "Epoch 19/100\n",
            "313/313 [==============================] - 13s 43ms/step - loss: 0.5164 - accuracy: 0.7660 - val_loss: 0.5305 - val_accuracy: 0.7510\n",
            "Epoch 20/100\n",
            "313/313 [==============================] - 13s 43ms/step - loss: 0.5112 - accuracy: 0.7685 - val_loss: 0.5294 - val_accuracy: 0.7510\n",
            "Epoch 21/100\n",
            "313/313 [==============================] - 13s 42ms/step - loss: 0.5053 - accuracy: 0.7750 - val_loss: 0.5241 - val_accuracy: 0.7562\n",
            "Epoch 22/100\n",
            "313/313 [==============================] - 13s 43ms/step - loss: 0.5015 - accuracy: 0.7754 - val_loss: 0.5223 - val_accuracy: 0.7558\n",
            "Epoch 23/100\n",
            "313/313 [==============================] - 13s 42ms/step - loss: 0.4985 - accuracy: 0.7761 - val_loss: 0.5199 - val_accuracy: 0.7552\n",
            "Epoch 24/100\n",
            "313/313 [==============================] - 13s 43ms/step - loss: 0.4931 - accuracy: 0.7812 - val_loss: 0.5140 - val_accuracy: 0.7614\n",
            "Epoch 25/100\n",
            "313/313 [==============================] - 14s 43ms/step - loss: 0.4902 - accuracy: 0.7814 - val_loss: 0.5154 - val_accuracy: 0.7582\n",
            "Epoch 26/100\n",
            "313/313 [==============================] - 13s 42ms/step - loss: 0.4859 - accuracy: 0.7836 - val_loss: 0.5079 - val_accuracy: 0.7648\n",
            "Epoch 27/100\n",
            "313/313 [==============================] - 14s 44ms/step - loss: 0.4820 - accuracy: 0.7873 - val_loss: 0.5075 - val_accuracy: 0.7634\n",
            "Epoch 28/100\n",
            "313/313 [==============================] - 15s 48ms/step - loss: 0.4791 - accuracy: 0.7876 - val_loss: 0.5046 - val_accuracy: 0.7678\n",
            "Epoch 29/100\n",
            "313/313 [==============================] - 14s 45ms/step - loss: 0.4755 - accuracy: 0.7898 - val_loss: 0.5048 - val_accuracy: 0.7668\n",
            "Epoch 30/100\n",
            "313/313 [==============================] - 13s 43ms/step - loss: 0.4715 - accuracy: 0.7935 - val_loss: 0.5004 - val_accuracy: 0.7678\n",
            "Epoch 31/100\n",
            "313/313 [==============================] - 14s 44ms/step - loss: 0.4683 - accuracy: 0.7951 - val_loss: 0.4960 - val_accuracy: 0.7710\n",
            "Epoch 32/100\n",
            "313/313 [==============================] - 14s 46ms/step - loss: 0.4657 - accuracy: 0.7958 - val_loss: 0.4975 - val_accuracy: 0.7726\n",
            "Epoch 33/100\n",
            "313/313 [==============================] - 13s 43ms/step - loss: 0.4615 - accuracy: 0.8001 - val_loss: 0.4957 - val_accuracy: 0.7714\n",
            "Epoch 34/100\n",
            "313/313 [==============================] - 13s 42ms/step - loss: 0.4597 - accuracy: 0.8001 - val_loss: 0.4986 - val_accuracy: 0.7670\n",
            "Epoch 35/100\n",
            "313/313 [==============================] - 13s 42ms/step - loss: 0.4571 - accuracy: 0.8009 - val_loss: 0.4919 - val_accuracy: 0.7710\n",
            "Epoch 36/100\n",
            "313/313 [==============================] - 13s 43ms/step - loss: 0.4556 - accuracy: 0.8015 - val_loss: 0.4925 - val_accuracy: 0.7724\n",
            "Epoch 37/100\n",
            "313/313 [==============================] - 14s 43ms/step - loss: 0.4528 - accuracy: 0.8033 - val_loss: 0.4860 - val_accuracy: 0.7774\n",
            "Epoch 38/100\n",
            "313/313 [==============================] - 14s 43ms/step - loss: 0.4499 - accuracy: 0.8051 - val_loss: 0.4835 - val_accuracy: 0.7772\n",
            "Epoch 39/100\n",
            "313/313 [==============================] - 14s 43ms/step - loss: 0.4475 - accuracy: 0.8044 - val_loss: 0.4833 - val_accuracy: 0.7760\n",
            "Epoch 40/100\n",
            "313/313 [==============================] - 14s 43ms/step - loss: 0.4457 - accuracy: 0.8065 - val_loss: 0.4809 - val_accuracy: 0.7762\n",
            "Epoch 41/100\n",
            "313/313 [==============================] - 13s 43ms/step - loss: 0.4422 - accuracy: 0.8084 - val_loss: 0.4797 - val_accuracy: 0.7748\n",
            "Epoch 42/100\n",
            "313/313 [==============================] - 14s 43ms/step - loss: 0.4407 - accuracy: 0.8095 - val_loss: 0.4770 - val_accuracy: 0.7804\n",
            "Epoch 43/100\n",
            "313/313 [==============================] - 14s 43ms/step - loss: 0.4384 - accuracy: 0.8085 - val_loss: 0.4766 - val_accuracy: 0.7792\n",
            "Epoch 44/100\n",
            "313/313 [==============================] - 13s 43ms/step - loss: 0.4364 - accuracy: 0.8099 - val_loss: 0.4751 - val_accuracy: 0.7784\n",
            "Epoch 45/100\n",
            "313/313 [==============================] - 13s 43ms/step - loss: 0.4347 - accuracy: 0.8104 - val_loss: 0.4746 - val_accuracy: 0.7796\n",
            "Epoch 46/100\n",
            "313/313 [==============================] - 13s 43ms/step - loss: 0.4328 - accuracy: 0.8127 - val_loss: 0.4758 - val_accuracy: 0.7784\n",
            "Epoch 47/100\n",
            "313/313 [==============================] - 14s 45ms/step - loss: 0.4312 - accuracy: 0.8131 - val_loss: 0.4729 - val_accuracy: 0.7798\n",
            "Epoch 48/100\n",
            "313/313 [==============================] - 14s 44ms/step - loss: 0.4297 - accuracy: 0.8146 - val_loss: 0.4710 - val_accuracy: 0.7816\n",
            "Epoch 49/100\n",
            "313/313 [==============================] - 14s 43ms/step - loss: 0.4284 - accuracy: 0.8145 - val_loss: 0.4709 - val_accuracy: 0.7846\n",
            "Epoch 50/100\n",
            "313/313 [==============================] - 14s 43ms/step - loss: 0.4267 - accuracy: 0.8142 - val_loss: 0.4695 - val_accuracy: 0.7818\n",
            "Epoch 51/100\n",
            "313/313 [==============================] - 14s 44ms/step - loss: 0.4247 - accuracy: 0.8170 - val_loss: 0.4725 - val_accuracy: 0.7802\n",
            "Epoch 52/100\n",
            "313/313 [==============================] - 14s 45ms/step - loss: 0.4236 - accuracy: 0.8164 - val_loss: 0.4730 - val_accuracy: 0.7798\n",
            "Epoch 53/100\n",
            "313/313 [==============================] - 14s 46ms/step - loss: 0.4223 - accuracy: 0.8170 - val_loss: 0.4663 - val_accuracy: 0.7842\n",
            "Epoch 54/100\n",
            "313/313 [==============================] - 14s 44ms/step - loss: 0.4211 - accuracy: 0.8185 - val_loss: 0.4668 - val_accuracy: 0.7850\n",
            "Epoch 55/100\n",
            "313/313 [==============================] - 14s 44ms/step - loss: 0.4198 - accuracy: 0.8171 - val_loss: 0.4667 - val_accuracy: 0.7822\n",
            "Epoch 56/100\n",
            "313/313 [==============================] - 14s 44ms/step - loss: 0.4173 - accuracy: 0.8204 - val_loss: 0.4669 - val_accuracy: 0.7834\n"
          ]
        }
      ]
    },
    {
      "cell_type": "code",
      "source": [
        "plt.plot(history.history['loss'])\n",
        "plt.plot(history.history['val_loss'])\n",
        "plt.xlabel('epoch')\n",
        "plt.ylabel('loss')\n",
        "plt.legend(['train', 'val'])\n",
        "plt.show()"
      ],
      "metadata": {
        "colab": {
          "base_uri": "https://localhost:8080/",
          "height": 279
        },
        "id": "g-a60XQs31x_",
        "outputId": "35b21174-64a6-45e9-d1ba-3c89402f012d"
      },
      "execution_count": null,
      "outputs": [
        {
          "output_type": "display_data",
          "data": {
            "image/png": "[encoded data removed]",
            "text/plain": [
              "<Figure size 432x288 with 1 Axes>"
            ]
          },
          "metadata": {
            "needs_background": "light"
          }
        }
      ]
    },
    {
      "cell_type": "markdown",
      "source": [
        "### 단어 임베딩을 사용하기\n",
        "각 단어를 고정된 크기의 실수 벡터로 변경  \n",
        "장점: 입력으로 정수데이터를 받는다 (원핫인코딩으로 변경하지 않아도 가능)  \n",
        "크기도 더 작다."
      ],
      "metadata": {
        "id": "IABHGTbl6b7V"
      }
    },
    {
      "cell_type": "code",
      "source": [
        "model2 = keras.Sequential()\n",
        "model2.add(keras.layers.Embedding(500, 16, input_length=100))\n",
        "model2.add(keras.layers.SimpleRNN(8))\n",
        "model2.add(keras.layers.Dense(1, activation='sigmoid'))"
      ],
      "metadata": {
        "id": "MM2hY7vY6rWO"
      },
      "execution_count": null,
      "outputs": []
    },
    {
      "cell_type": "code",
      "source": [
        "model2.summary()"
      ],
      "metadata": {
        "colab": {
          "base_uri": "https://localhost:8080/"
        },
        "id": "9mCiCKTV7Lda",
        "outputId": "17edd4af-230f-4858-9540-2056bcf29212"
      },
      "execution_count": null,
      "outputs": [
        {
          "output_type": "stream",
          "name": "stdout",
          "text": [
            "Model: \"sequential_1\"\n",
            "_________________________________________________________________\n",
            " Layer (type)                Output Shape              Param #   \n",
            "=================================================================\n",
            " embedding (Embedding)       (None, 100, 16)           8000      \n",
            "                                                                 \n",
            " simple_rnn_1 (SimpleRNN)    (None, 8)                 200       \n",
            "                                                                 \n",
            " dense_1 (Dense)             (None, 1)                 9         \n",
            "                                                                 \n",
            "=================================================================\n",
            "Total params: 8,209\n",
            "Trainable params: 8,209\n",
            "Non-trainable params: 0\n",
            "_________________________________________________________________\n"
          ]
        }
      ]
    },
    {
      "cell_type": "code",
      "source": [
        "# model training\n",
        "rmsprop = keras.optimizers.RMSprop(learning_rate=1e-4)\n",
        "model2.compile(optimizer=rmsprop, loss='binary_crossentropy',\n",
        "               metrics=['accuracy'])\n",
        "checkpoint_cb = keras.callbacks.ModelCheckpoint('best-embedding-model.h5')\n",
        "early_stopping_cb = keras.callbacks.EarlyStopping(patience=3,\n",
        "                                                  restore_best_weights=True)\n",
        "history = model2.fit(train_seq, train_target, epochs=100, batch_size=64,\n",
        "                     validation_data=(val_seq, val_target),\n",
        "                     callbacks=[checkpoint_cb, early_stopping_cb])"
      ],
      "metadata": {
        "colab": {
          "base_uri": "https://localhost:8080/"
        },
        "id": "jL-0__1-7cXo",
        "outputId": "c2cc9f6e-917b-4cab-cee3-328d2c305e57"
      },
      "execution_count": null,
      "outputs": [
        {
          "output_type": "stream",
          "name": "stdout",
          "text": [
            "Epoch 1/100\n",
            "313/313 [==============================] - 9s 25ms/step - loss: 0.6836 - accuracy: 0.5620 - val_loss: 0.6658 - val_accuracy: 0.6240\n",
            "Epoch 2/100\n",
            "313/313 [==============================] - 8s 24ms/step - loss: 0.6499 - accuracy: 0.6595 - val_loss: 0.6369 - val_accuracy: 0.6832\n",
            "Epoch 3/100\n",
            "313/313 [==============================] - 8s 24ms/step - loss: 0.6218 - accuracy: 0.7088 - val_loss: 0.6201 - val_accuracy: 0.7004\n",
            "Epoch 4/100\n",
            "313/313 [==============================] - 8s 24ms/step - loss: 0.6004 - accuracy: 0.7323 - val_loss: 0.5977 - val_accuracy: 0.7350\n",
            "Epoch 5/100\n",
            "313/313 [==============================] - 8s 24ms/step - loss: 0.5813 - accuracy: 0.7482 - val_loss: 0.5846 - val_accuracy: 0.7308\n",
            "Epoch 6/100\n",
            "313/313 [==============================] - 8s 24ms/step - loss: 0.5640 - accuracy: 0.7583 - val_loss: 0.5617 - val_accuracy: 0.7536\n",
            "Epoch 7/100\n",
            "313/313 [==============================] - 8s 24ms/step - loss: 0.5462 - accuracy: 0.7668 - val_loss: 0.5473 - val_accuracy: 0.7582\n",
            "Epoch 8/100\n",
            "313/313 [==============================] - 8s 24ms/step - loss: 0.5272 - accuracy: 0.7739 - val_loss: 0.5291 - val_accuracy: 0.7620\n",
            "Epoch 9/100\n",
            "313/313 [==============================] - 8s 24ms/step - loss: 0.5088 - accuracy: 0.7808 - val_loss: 0.5204 - val_accuracy: 0.7630\n",
            "Epoch 10/100\n",
            "313/313 [==============================] - 8s 24ms/step - loss: 0.4931 - accuracy: 0.7866 - val_loss: 0.5100 - val_accuracy: 0.7648\n",
            "Epoch 11/100\n",
            "313/313 [==============================] - 8s 25ms/step - loss: 0.4817 - accuracy: 0.7927 - val_loss: 0.4945 - val_accuracy: 0.7750\n",
            "Epoch 12/100\n",
            "313/313 [==============================] - 8s 24ms/step - loss: 0.4719 - accuracy: 0.7963 - val_loss: 0.4946 - val_accuracy: 0.7734\n",
            "Epoch 13/100\n",
            "313/313 [==============================] - 7s 24ms/step - loss: 0.4651 - accuracy: 0.7988 - val_loss: 0.4833 - val_accuracy: 0.7802\n",
            "Epoch 14/100\n",
            "313/313 [==============================] - 7s 24ms/step - loss: 0.4585 - accuracy: 0.8008 - val_loss: 0.4784 - val_accuracy: 0.7794\n",
            "Epoch 15/100\n",
            "313/313 [==============================] - 8s 24ms/step - loss: 0.4526 - accuracy: 0.8026 - val_loss: 0.4780 - val_accuracy: 0.7800\n",
            "Epoch 16/100\n",
            "313/313 [==============================] - 8s 24ms/step - loss: 0.4474 - accuracy: 0.8060 - val_loss: 0.4740 - val_accuracy: 0.7812\n",
            "Epoch 17/100\n",
            "313/313 [==============================] - 8s 24ms/step - loss: 0.4427 - accuracy: 0.8078 - val_loss: 0.4754 - val_accuracy: 0.7758\n",
            "Epoch 18/100\n",
            "313/313 [==============================] - 8s 25ms/step - loss: 0.4398 - accuracy: 0.8086 - val_loss: 0.4705 - val_accuracy: 0.7816\n",
            "Epoch 19/100\n",
            "313/313 [==============================] - 8s 25ms/step - loss: 0.4347 - accuracy: 0.8119 - val_loss: 0.4683 - val_accuracy: 0.7802\n",
            "Epoch 20/100\n",
            "313/313 [==============================] - 8s 25ms/step - loss: 0.4333 - accuracy: 0.8114 - val_loss: 0.4672 - val_accuracy: 0.7816\n",
            "Epoch 21/100\n",
            "313/313 [==============================] - 8s 25ms/step - loss: 0.4290 - accuracy: 0.8146 - val_loss: 0.4668 - val_accuracy: 0.7806\n",
            "Epoch 22/100\n",
            "313/313 [==============================] - 8s 24ms/step - loss: 0.4253 - accuracy: 0.8171 - val_loss: 0.4701 - val_accuracy: 0.7786\n",
            "Epoch 23/100\n",
            "313/313 [==============================] - 8s 25ms/step - loss: 0.4230 - accuracy: 0.8202 - val_loss: 0.4855 - val_accuracy: 0.7686\n",
            "Epoch 24/100\n",
            "313/313 [==============================] - 8s 24ms/step - loss: 0.4203 - accuracy: 0.8197 - val_loss: 0.4665 - val_accuracy: 0.7816\n",
            "Epoch 25/100\n",
            "313/313 [==============================] - 8s 24ms/step - loss: 0.4179 - accuracy: 0.8217 - val_loss: 0.4651 - val_accuracy: 0.7806\n",
            "Epoch 26/100\n",
            "313/313 [==============================] - 8s 25ms/step - loss: 0.4152 - accuracy: 0.8238 - val_loss: 0.4673 - val_accuracy: 0.7800\n",
            "Epoch 27/100\n",
            "313/313 [==============================] - 8s 25ms/step - loss: 0.4130 - accuracy: 0.8243 - val_loss: 0.4693 - val_accuracy: 0.7808\n",
            "Epoch 28/100\n",
            "313/313 [==============================] - 8s 25ms/step - loss: 0.4107 - accuracy: 0.8246 - val_loss: 0.4645 - val_accuracy: 0.7766\n",
            "Epoch 29/100\n",
            "313/313 [==============================] - 8s 25ms/step - loss: 0.4079 - accuracy: 0.8275 - val_loss: 0.4698 - val_accuracy: 0.7792\n",
            "Epoch 30/100\n",
            "313/313 [==============================] - 8s 25ms/step - loss: 0.4060 - accuracy: 0.8278 - val_loss: 0.4686 - val_accuracy: 0.7816\n",
            "Epoch 31/100\n",
            "313/313 [==============================] - 8s 25ms/step - loss: 0.4043 - accuracy: 0.8281 - val_loss: 0.4807 - val_accuracy: 0.7694\n"
          ]
        }
      ]
    },
    {
      "cell_type": "code",
      "source": [
        "plt.plot(history.history['loss'])\n",
        "plt.plot(history.history['val_loss'])\n",
        "plt.xlabel('epoch')\n",
        "plt.ylabel('loss')\n",
        "plt.legend(['train', 'val'])\n",
        "plt.show()"
      ],
      "metadata": {
        "colab": {
          "base_uri": "https://localhost:8080/",
          "height": 279
        },
        "id": "6FMG-RhB-4q8",
        "outputId": "7af59173-1543-4f82-fd0f-838cbc44ccbe"
      },
      "execution_count": null,
      "outputs": [
        {
          "output_type": "display_data",
          "data": {
            "image/png": "[encoded data removed]",
            "text/plain": [
              "<Figure size 432x288 with 1 Axes>"
            ]
          },
          "metadata": {
            "needs_background": "light"
          }
        }
      ]
    }
  ]
}