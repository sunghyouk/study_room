{
  "nbformat": 4,
  "nbformat_minor": 0,
  "metadata": {
    "colab": {
      "name": "ch9_3_LSTM.ipynb",
      "provenance": [],
      "collapsed_sections": [],
      "authorship_tag": "ABX9TyPAHRJxNsK0OB8Rcwy6G8Ig",
      "include_colab_link": true
    },
    "kernelspec": {
      "name": "python3",
      "display_name": "Python 3"
    },
    "language_info": {
      "name": "python"
    }
  },
  "cells": [
    {
      "cell_type": "markdown",
      "metadata": {
        "id": "view-in-github",
        "colab_type": "text"
      },
      "source": [
        "<a href=\"https://colab.research.google.com/github/sunghyouk/study_room/blob/master/self_ML_DL_study_text/ch9_3_LSTM.ipynb\" target=\"_parent\"><img src=\"https://colab.research.google.com/assets/colab-badge.svg\" alt=\"Open In Colab\"/></a>"
      ]
    },
    {
      "cell_type": "markdown",
      "source": [
        "### LSTM 신경망 훈련하기"
      ],
      "metadata": {
        "id": "TxtBxXWrgtou"
      }
    },
    {
      "cell_type": "code",
      "execution_count": 1,
      "metadata": {
        "colab": {
          "base_uri": "https://localhost:8080/"
        },
        "id": "0QTddNbPgp37",
        "outputId": "c81568b4-fb05-47d5-8c77-1481fd02a7c0"
      },
      "outputs": [
        {
          "output_type": "stream",
          "name": "stdout",
          "text": [
            "Downloading data from https://storage.googleapis.com/tensorflow/tf-keras-datasets/imdb.npz\n",
            "17465344/17464789 [==============================] - 0s 0us/step\n",
            "17473536/17464789 [==============================] - 0s 0us/step\n"
          ]
        }
      ],
      "source": [
        "from tensorflow.keras.datasets import imdb\n",
        "from sklearn.model_selection import train_test_split\n",
        "(train_input, train_target), (test_input, test_target) = imdb.load_data(\n",
        "    num_words=500)\n",
        "train_input, val_input, train_target, val_target = train_test_split(\n",
        "    train_input, train_target, test_size=0.2, random_state=42)"
      ]
    },
    {
      "cell_type": "markdown",
      "source": [
        "길면 자르고 모자라면 채우기"
      ],
      "metadata": {
        "id": "mGL3TaMkmEcN"
      }
    },
    {
      "cell_type": "code",
      "source": [
        "from tensorflow.keras.preprocessing.sequence import pad_sequences\n",
        "train_seq = pad_sequences(train_input, maxlen=100)\n",
        "val_seq = pad_sequences(val_input, maxlen=100)"
      ],
      "metadata": {
        "id": "sHX2BEdDjeLN"
      },
      "execution_count": 2,
      "outputs": []
    },
    {
      "cell_type": "code",
      "source": [
        "from tensorflow import keras\n",
        "model = keras.Sequential()\n",
        "model.add(keras.layers.Embedding(500, 16, input_length=100))\n",
        "model.add(keras.layers.LSTM(8))\n",
        "model.add(keras.layers.Dense(1, activation='sigmoid'))"
      ],
      "metadata": {
        "id": "1b0z_Mctklyz"
      },
      "execution_count": 3,
      "outputs": []
    },
    {
      "cell_type": "code",
      "source": [
        "model.summary()"
      ],
      "metadata": {
        "colab": {
          "base_uri": "https://localhost:8080/"
        },
        "id": "UkNMVn0smhaS",
        "outputId": "0ff6a789-cd56-462b-b1c7-4a5d032b5a1b"
      },
      "execution_count": 4,
      "outputs": [
        {
          "output_type": "stream",
          "name": "stdout",
          "text": [
            "Model: \"sequential\"\n",
            "_________________________________________________________________\n",
            " Layer (type)                Output Shape              Param #   \n",
            "=================================================================\n",
            " embedding (Embedding)       (None, 100, 16)           8000      \n",
            "                                                                 \n",
            " lstm (LSTM)                 (None, 8)                 800       \n",
            "                                                                 \n",
            " dense (Dense)               (None, 1)                 9         \n",
            "                                                                 \n",
            "=================================================================\n",
            "Total params: 8,809\n",
            "Trainable params: 8,809\n",
            "Non-trainable params: 0\n",
            "_________________________________________________________________\n"
          ]
        }
      ]
    },
    {
      "cell_type": "code",
      "source": [
        "rmsprop = keras.optimizers.RMSprop(learning_rate=1e-4)\n",
        "model.compile(optimizer=rmsprop, loss='binary_crossentropy',\n",
        "              metrics=['accuracy'])\n",
        "checkpoint_cb = keras.callbacks.ModelCheckpoint('best-lstm-model.h5')\n",
        "early_stopping_cb = keras.callbacks.EarlyStopping(patience=3,\n",
        "                                                  restore_best_weights=True)\n",
        "history = model.fit(train_seq, train_target, epochs=100, batch_size=64,\n",
        "                    validation_data=(val_seq, val_target),\n",
        "                    callbacks=[checkpoint_cb, early_stopping_cb])"
      ],
      "metadata": {
        "colab": {
          "base_uri": "https://localhost:8080/"
        },
        "id": "FD8iqrrOn8q0",
        "outputId": "f9268632-cf9c-442e-c9fa-01b5e1df541a"
      },
      "execution_count": 5,
      "outputs": [
        {
          "output_type": "stream",
          "name": "stdout",
          "text": [
            "Epoch 1/100\n",
            "313/313 [==============================] - 16s 44ms/step - loss: 0.6921 - accuracy: 0.5559 - val_loss: 0.6911 - val_accuracy: 0.6014\n",
            "Epoch 2/100\n",
            "313/313 [==============================] - 13s 42ms/step - loss: 0.6892 - accuracy: 0.6211 - val_loss: 0.6873 - val_accuracy: 0.6310\n",
            "Epoch 3/100\n",
            "313/313 [==============================] - 13s 41ms/step - loss: 0.6836 - accuracy: 0.6433 - val_loss: 0.6800 - val_accuracy: 0.6484\n",
            "Epoch 4/100\n",
            "313/313 [==============================] - 13s 42ms/step - loss: 0.6718 - accuracy: 0.6647 - val_loss: 0.6641 - val_accuracy: 0.6554\n",
            "Epoch 5/100\n",
            "313/313 [==============================] - 13s 41ms/step - loss: 0.6405 - accuracy: 0.6770 - val_loss: 0.6160 - val_accuracy: 0.6888\n",
            "Epoch 6/100\n",
            "313/313 [==============================] - 13s 42ms/step - loss: 0.5781 - accuracy: 0.7241 - val_loss: 0.5572 - val_accuracy: 0.7446\n",
            "Epoch 7/100\n",
            "313/313 [==============================] - 14s 44ms/step - loss: 0.5355 - accuracy: 0.7518 - val_loss: 0.5321 - val_accuracy: 0.7510\n",
            "Epoch 8/100\n",
            "313/313 [==============================] - 13s 42ms/step - loss: 0.5154 - accuracy: 0.7642 - val_loss: 0.5153 - val_accuracy: 0.7598\n",
            "Epoch 9/100\n",
            "313/313 [==============================] - 13s 42ms/step - loss: 0.5007 - accuracy: 0.7723 - val_loss: 0.5052 - val_accuracy: 0.7694\n",
            "Epoch 10/100\n",
            "313/313 [==============================] - 13s 41ms/step - loss: 0.4889 - accuracy: 0.7793 - val_loss: 0.4934 - val_accuracy: 0.7716\n",
            "Epoch 11/100\n",
            "313/313 [==============================] - 13s 43ms/step - loss: 0.4789 - accuracy: 0.7847 - val_loss: 0.4878 - val_accuracy: 0.7722\n",
            "Epoch 12/100\n",
            "313/313 [==============================] - 13s 41ms/step - loss: 0.4705 - accuracy: 0.7897 - val_loss: 0.4796 - val_accuracy: 0.7832\n",
            "Epoch 13/100\n",
            "313/313 [==============================] - 13s 42ms/step - loss: 0.4631 - accuracy: 0.7944 - val_loss: 0.4734 - val_accuracy: 0.7836\n",
            "Epoch 14/100\n",
            "313/313 [==============================] - 13s 43ms/step - loss: 0.4567 - accuracy: 0.7976 - val_loss: 0.4742 - val_accuracy: 0.7876\n",
            "Epoch 15/100\n",
            "313/313 [==============================] - 13s 42ms/step - loss: 0.4515 - accuracy: 0.8003 - val_loss: 0.4656 - val_accuracy: 0.7846\n",
            "Epoch 16/100\n",
            "313/313 [==============================] - 13s 42ms/step - loss: 0.4468 - accuracy: 0.8032 - val_loss: 0.4627 - val_accuracy: 0.7870\n",
            "Epoch 17/100\n",
            "313/313 [==============================] - 13s 41ms/step - loss: 0.4427 - accuracy: 0.8051 - val_loss: 0.4619 - val_accuracy: 0.7910\n",
            "Epoch 18/100\n",
            "313/313 [==============================] - 13s 42ms/step - loss: 0.4390 - accuracy: 0.8071 - val_loss: 0.4577 - val_accuracy: 0.7910\n",
            "Epoch 19/100\n",
            "313/313 [==============================] - 13s 41ms/step - loss: 0.4361 - accuracy: 0.8072 - val_loss: 0.4555 - val_accuracy: 0.7934\n",
            "Epoch 20/100\n",
            "313/313 [==============================] - 13s 43ms/step - loss: 0.4335 - accuracy: 0.8073 - val_loss: 0.4568 - val_accuracy: 0.7924\n",
            "Epoch 21/100\n",
            "313/313 [==============================] - 13s 41ms/step - loss: 0.4311 - accuracy: 0.8084 - val_loss: 0.4520 - val_accuracy: 0.7934\n",
            "Epoch 22/100\n",
            "313/313 [==============================] - 13s 41ms/step - loss: 0.4292 - accuracy: 0.8087 - val_loss: 0.4518 - val_accuracy: 0.7882\n",
            "Epoch 23/100\n",
            "313/313 [==============================] - 13s 41ms/step - loss: 0.4269 - accuracy: 0.8113 - val_loss: 0.4494 - val_accuracy: 0.7916\n",
            "Epoch 24/100\n",
            "313/313 [==============================] - 13s 42ms/step - loss: 0.4255 - accuracy: 0.8130 - val_loss: 0.4485 - val_accuracy: 0.7912\n",
            "Epoch 25/100\n",
            "313/313 [==============================] - 13s 41ms/step - loss: 0.4238 - accuracy: 0.8118 - val_loss: 0.4473 - val_accuracy: 0.7912\n",
            "Epoch 26/100\n",
            "313/313 [==============================] - 13s 42ms/step - loss: 0.4225 - accuracy: 0.8123 - val_loss: 0.4459 - val_accuracy: 0.7954\n",
            "Epoch 27/100\n",
            "313/313 [==============================] - 13s 41ms/step - loss: 0.4217 - accuracy: 0.8128 - val_loss: 0.4454 - val_accuracy: 0.7914\n",
            "Epoch 28/100\n",
            "313/313 [==============================] - 13s 41ms/step - loss: 0.4201 - accuracy: 0.8130 - val_loss: 0.4461 - val_accuracy: 0.7932\n",
            "Epoch 29/100\n",
            "313/313 [==============================] - 13s 41ms/step - loss: 0.4190 - accuracy: 0.8148 - val_loss: 0.4458 - val_accuracy: 0.7918\n",
            "Epoch 30/100\n",
            "313/313 [==============================] - 13s 42ms/step - loss: 0.4183 - accuracy: 0.8145 - val_loss: 0.4524 - val_accuracy: 0.7906\n"
          ]
        }
      ]
    },
    {
      "cell_type": "code",
      "source": [
        "import matplotlib.pyplot as plt\n",
        "plt.plot(history.history['loss'])\n",
        "plt.plot(history.history['val_loss'])\n",
        "plt.xlabel('epoch')\n",
        "plt.ylabel('loss')\n",
        "plt.legend(['train', 'val'])\n",
        "plt.show()"
      ],
      "metadata": {
        "colab": {
          "base_uri": "https://localhost:8080/",
          "height": 279
        },
        "id": "OMzsmGM3pwPt",
        "outputId": "095a4d59-61da-4439-8c7d-4b2daaa4d5a0"
      },
      "execution_count": 6,
      "outputs": [
        {
          "output_type": "display_data",
          "data": {
            "image/png": "[encoded data removed]",
            "text/plain": [
              "<Figure size 432x288 with 1 Axes>"
            ]
          },
          "metadata": {
            "needs_background": "light"
          }
        }
      ]
    },
    {
      "cell_type": "markdown",
      "source": [
        "### 순환층에 드롭아웃 적용하기"
      ],
      "metadata": {
        "id": "qfW_r_AftqNH"
      }
    },
    {
      "cell_type": "code",
      "source": [
        "model2 = keras.Sequential()\n",
        "model2.add(keras.layers.Embedding(500, 16, input_length=100))\n",
        "model2.add(keras.layers.LSTM(8, dropout=0.3))\n",
        "model2.add(keras.layers.Dense(1, activation='sigmoid'))"
      ],
      "metadata": {
        "id": "N92HMsYitmwp"
      },
      "execution_count": 7,
      "outputs": []
    },
    {
      "cell_type": "code",
      "source": [
        "rmsprop = keras.optimizers.RMSprop(learning_rate=1e-4)\n",
        "model2.compile(optimizer=rmsprop, loss='binary_crossentropy',\n",
        "              metrics=['accuracy'])\n",
        "checkpoint_cb = keras.callbacks.ModelCheckpoint('best-dropout-model.h5')\n",
        "early_stopping_cb = keras.callbacks.EarlyStopping(patience=3,\n",
        "                                                  restore_best_weights=True)\n",
        "history = model2.fit(train_seq, train_target, epochs=100, batch_size=64,\n",
        "                    validation_data=(val_seq, val_target),\n",
        "                    callbacks=[checkpoint_cb, early_stopping_cb])"
      ],
      "metadata": {
        "colab": {
          "base_uri": "https://localhost:8080/"
        },
        "outputId": "9d59149f-7f63-4e40-f33f-3f734264bd45",
        "id": "HLuth362vDRM"
      },
      "execution_count": 8,
      "outputs": [
        {
          "output_type": "stream",
          "name": "stdout",
          "text": [
            "Epoch 1/100\n",
            "313/313 [==============================] - 17s 46ms/step - loss: 0.6924 - accuracy: 0.5325 - val_loss: 0.6917 - val_accuracy: 0.5600\n",
            "Epoch 2/100\n",
            "313/313 [==============================] - 13s 43ms/step - loss: 0.6899 - accuracy: 0.5993 - val_loss: 0.6879 - val_accuracy: 0.6352\n",
            "Epoch 3/100\n",
            "313/313 [==============================] - 13s 43ms/step - loss: 0.6827 - accuracy: 0.6584 - val_loss: 0.6753 - val_accuracy: 0.6806\n",
            "Epoch 4/100\n",
            "313/313 [==============================] - 13s 43ms/step - loss: 0.6462 - accuracy: 0.6932 - val_loss: 0.6073 - val_accuracy: 0.7120\n",
            "Epoch 5/100\n",
            "313/313 [==============================] - 13s 43ms/step - loss: 0.5866 - accuracy: 0.7214 - val_loss: 0.5715 - val_accuracy: 0.7322\n",
            "Epoch 6/100\n",
            "313/313 [==============================] - 14s 44ms/step - loss: 0.5632 - accuracy: 0.7337 - val_loss: 0.5522 - val_accuracy: 0.7456\n",
            "Epoch 7/100\n",
            "313/313 [==============================] - 14s 44ms/step - loss: 0.5438 - accuracy: 0.7490 - val_loss: 0.5358 - val_accuracy: 0.7548\n",
            "Epoch 8/100\n",
            "313/313 [==============================] - 13s 43ms/step - loss: 0.5282 - accuracy: 0.7564 - val_loss: 0.5210 - val_accuracy: 0.7674\n",
            "Epoch 9/100\n",
            "313/313 [==============================] - 13s 42ms/step - loss: 0.5131 - accuracy: 0.7665 - val_loss: 0.5086 - val_accuracy: 0.7780\n",
            "Epoch 10/100\n",
            "313/313 [==============================] - 13s 43ms/step - loss: 0.5003 - accuracy: 0.7738 - val_loss: 0.4962 - val_accuracy: 0.7752\n",
            "Epoch 11/100\n",
            "313/313 [==============================] - 13s 42ms/step - loss: 0.4875 - accuracy: 0.7818 - val_loss: 0.4852 - val_accuracy: 0.7810\n",
            "Epoch 12/100\n",
            "313/313 [==============================] - 14s 44ms/step - loss: 0.4792 - accuracy: 0.7832 - val_loss: 0.4770 - val_accuracy: 0.7882\n",
            "Epoch 13/100\n",
            "313/313 [==============================] - 14s 44ms/step - loss: 0.4685 - accuracy: 0.7884 - val_loss: 0.4679 - val_accuracy: 0.7872\n",
            "Epoch 14/100\n",
            "313/313 [==============================] - 13s 43ms/step - loss: 0.4614 - accuracy: 0.7919 - val_loss: 0.4622 - val_accuracy: 0.7888\n",
            "Epoch 15/100\n",
            "313/313 [==============================] - 14s 44ms/step - loss: 0.4534 - accuracy: 0.7962 - val_loss: 0.4572 - val_accuracy: 0.7932\n",
            "Epoch 16/100\n",
            "313/313 [==============================] - 14s 44ms/step - loss: 0.4459 - accuracy: 0.7997 - val_loss: 0.4523 - val_accuracy: 0.7928\n",
            "Epoch 17/100\n",
            "313/313 [==============================] - 14s 45ms/step - loss: 0.4417 - accuracy: 0.8016 - val_loss: 0.4465 - val_accuracy: 0.7960\n",
            "Epoch 18/100\n",
            "313/313 [==============================] - 14s 44ms/step - loss: 0.4381 - accuracy: 0.8013 - val_loss: 0.4431 - val_accuracy: 0.7972\n",
            "Epoch 19/100\n",
            "313/313 [==============================] - 14s 44ms/step - loss: 0.4346 - accuracy: 0.8030 - val_loss: 0.4414 - val_accuracy: 0.7938\n",
            "Epoch 20/100\n",
            "313/313 [==============================] - 14s 44ms/step - loss: 0.4315 - accuracy: 0.8033 - val_loss: 0.4389 - val_accuracy: 0.7946\n",
            "Epoch 21/100\n",
            "313/313 [==============================] - 14s 43ms/step - loss: 0.4286 - accuracy: 0.8058 - val_loss: 0.4407 - val_accuracy: 0.7938\n",
            "Epoch 22/100\n",
            "313/313 [==============================] - 14s 44ms/step - loss: 0.4264 - accuracy: 0.8065 - val_loss: 0.4362 - val_accuracy: 0.7992\n",
            "Epoch 23/100\n",
            "313/313 [==============================] - 13s 43ms/step - loss: 0.4237 - accuracy: 0.8079 - val_loss: 0.4343 - val_accuracy: 0.7990\n",
            "Epoch 24/100\n",
            "313/313 [==============================] - 13s 43ms/step - loss: 0.4221 - accuracy: 0.8055 - val_loss: 0.4333 - val_accuracy: 0.7974\n",
            "Epoch 25/100\n",
            "313/313 [==============================] - 13s 43ms/step - loss: 0.4219 - accuracy: 0.8085 - val_loss: 0.4345 - val_accuracy: 0.7980\n",
            "Epoch 26/100\n",
            "313/313 [==============================] - 14s 44ms/step - loss: 0.4195 - accuracy: 0.8083 - val_loss: 0.4332 - val_accuracy: 0.8006\n",
            "Epoch 27/100\n",
            "313/313 [==============================] - 13s 43ms/step - loss: 0.4185 - accuracy: 0.8098 - val_loss: 0.4316 - val_accuracy: 0.7964\n",
            "Epoch 28/100\n",
            "313/313 [==============================] - 14s 44ms/step - loss: 0.4193 - accuracy: 0.8083 - val_loss: 0.4314 - val_accuracy: 0.7992\n",
            "Epoch 29/100\n",
            "313/313 [==============================] - 14s 44ms/step - loss: 0.4182 - accuracy: 0.8077 - val_loss: 0.4311 - val_accuracy: 0.7944\n",
            "Epoch 30/100\n",
            "313/313 [==============================] - 14s 43ms/step - loss: 0.4177 - accuracy: 0.8083 - val_loss: 0.4310 - val_accuracy: 0.7966\n",
            "Epoch 31/100\n",
            "313/313 [==============================] - 14s 44ms/step - loss: 0.4158 - accuracy: 0.8086 - val_loss: 0.4309 - val_accuracy: 0.7944\n",
            "Epoch 32/100\n",
            "313/313 [==============================] - 13s 43ms/step - loss: 0.4164 - accuracy: 0.8112 - val_loss: 0.4314 - val_accuracy: 0.8024\n",
            "Epoch 33/100\n",
            "313/313 [==============================] - 13s 42ms/step - loss: 0.4164 - accuracy: 0.8089 - val_loss: 0.4314 - val_accuracy: 0.7956\n",
            "Epoch 34/100\n",
            "313/313 [==============================] - 14s 44ms/step - loss: 0.4130 - accuracy: 0.8109 - val_loss: 0.4304 - val_accuracy: 0.8028\n",
            "Epoch 35/100\n",
            "313/313 [==============================] - 13s 43ms/step - loss: 0.4137 - accuracy: 0.8114 - val_loss: 0.4299 - val_accuracy: 0.8018\n",
            "Epoch 36/100\n",
            "313/313 [==============================] - 13s 43ms/step - loss: 0.4132 - accuracy: 0.8119 - val_loss: 0.4307 - val_accuracy: 0.8022\n",
            "Epoch 37/100\n",
            "313/313 [==============================] - 14s 44ms/step - loss: 0.4130 - accuracy: 0.8098 - val_loss: 0.4294 - val_accuracy: 0.8008\n",
            "Epoch 38/100\n",
            "313/313 [==============================] - 14s 43ms/step - loss: 0.4138 - accuracy: 0.8090 - val_loss: 0.4302 - val_accuracy: 0.8028\n",
            "Epoch 39/100\n",
            "313/313 [==============================] - 14s 43ms/step - loss: 0.4110 - accuracy: 0.8109 - val_loss: 0.4309 - val_accuracy: 0.8042\n",
            "Epoch 40/100\n",
            "313/313 [==============================] - 13s 43ms/step - loss: 0.4136 - accuracy: 0.8098 - val_loss: 0.4299 - val_accuracy: 0.8020\n"
          ]
        }
      ]
    },
    {
      "cell_type": "code",
      "source": [
        "plt.plot(history.history['loss'])\n",
        "plt.plot(history.history['val_loss'])\n",
        "plt.xlabel('epoch')\n",
        "plt.ylabel('loss')\n",
        "plt.legend(['train', 'val'])\n",
        "plt.show()"
      ],
      "metadata": {
        "colab": {
          "base_uri": "https://localhost:8080/",
          "height": 279
        },
        "id": "vX5g29v8vk4w",
        "outputId": "74d19ad5-27e0-43f9-e233-7345e105e54e"
      },
      "execution_count": 9,
      "outputs": [
        {
          "output_type": "display_data",
          "data": {
            "image/png": "[encoded data removed]",
            "text/plain": [
              "<Figure size 432x288 with 1 Axes>"
            ]
          },
          "metadata": {
            "needs_background": "light"
          }
        }
      ]
    },
    {
      "cell_type": "markdown",
      "source": [
        "### 2개의 층을 연결하기"
      ],
      "metadata": {
        "id": "yZKwY6B0vmh1"
      }
    },
    {
      "cell_type": "code",
      "source": [
        "model3 = keras.Sequential()\n",
        "model3.add(keras.layers.Embedding(500, 16, input_length=100))\n",
        "model3.add(keras.layers.LSTM(8, dropout=0.3, return_sequences=True))\n",
        "model3.add(keras.layers.LSTM(8, dropout=0.3))\n",
        "model3.add(keras.layers.Dense(1, activation='sigmoid'))"
      ],
      "metadata": {
        "id": "XBhnmWqCvvn8"
      },
      "execution_count": 11,
      "outputs": []
    },
    {
      "cell_type": "code",
      "source": [
        "model3.summary()"
      ],
      "metadata": {
        "colab": {
          "base_uri": "https://localhost:8080/"
        },
        "id": "_NJbZNlkV1cZ",
        "outputId": "19f5f4c5-220b-4a9f-e987-7cef10c04542"
      },
      "execution_count": 12,
      "outputs": [
        {
          "output_type": "stream",
          "name": "stdout",
          "text": [
            "Model: \"sequential_2\"\n",
            "_________________________________________________________________\n",
            " Layer (type)                Output Shape              Param #   \n",
            "=================================================================\n",
            " embedding_2 (Embedding)     (None, 100, 16)           8000      \n",
            "                                                                 \n",
            " lstm_2 (LSTM)               (None, 100, 8)            800       \n",
            "                                                                 \n",
            " lstm_3 (LSTM)               (None, 8)                 544       \n",
            "                                                                 \n",
            " dense_2 (Dense)             (None, 1)                 9         \n",
            "                                                                 \n",
            "=================================================================\n",
            "Total params: 9,353\n",
            "Trainable params: 9,353\n",
            "Non-trainable params: 0\n",
            "_________________________________________________________________\n"
          ]
        }
      ]
    },
    {
      "cell_type": "code",
      "source": [
        "rmsprop = keras.optimizers.RMSprop(learning_rate=1e-4)\n",
        "model3.compile(optimizer=rmsprop, loss='binary_crossentropy',\n",
        "              metrics=['accuracy'])\n",
        "checkpoint_cb = keras.callbacks.ModelCheckpoint('best-2rnn-model.h5')\n",
        "early_stopping_cb = keras.callbacks.EarlyStopping(patience=3,\n",
        "                                                  restore_best_weights=True)\n",
        "history = model3.fit(train_seq, train_target, epochs=100, batch_size=64,\n",
        "                    validation_data=(val_seq, val_target),\n",
        "                    callbacks=[checkpoint_cb, early_stopping_cb])"
      ],
      "metadata": {
        "colab": {
          "base_uri": "https://localhost:8080/"
        },
        "id": "YvAOFbu4V3Pb",
        "outputId": "6c1c65b2-6404-4ae1-a1e9-33cfc4cdfe2c"
      },
      "execution_count": 13,
      "outputs": [
        {
          "output_type": "stream",
          "name": "stdout",
          "text": [
            "Epoch 1/100\n",
            "313/313 [==============================] - 31s 84ms/step - loss: 0.6928 - accuracy: 0.5275 - val_loss: 0.6925 - val_accuracy: 0.5128\n",
            "Epoch 2/100\n",
            "313/313 [==============================] - 26s 82ms/step - loss: 0.6909 - accuracy: 0.5491 - val_loss: 0.6892 - val_accuracy: 0.5714\n",
            "Epoch 3/100\n",
            "313/313 [==============================] - 26s 83ms/step - loss: 0.6807 - accuracy: 0.5984 - val_loss: 0.6686 - val_accuracy: 0.5764\n",
            "Epoch 4/100\n",
            "313/313 [==============================] - 26s 82ms/step - loss: 0.6226 - accuracy: 0.6762 - val_loss: 0.5853 - val_accuracy: 0.7194\n",
            "Epoch 5/100\n",
            "313/313 [==============================] - 25s 80ms/step - loss: 0.5615 - accuracy: 0.7295 - val_loss: 0.5403 - val_accuracy: 0.7414\n",
            "Epoch 6/100\n",
            "313/313 [==============================] - 25s 81ms/step - loss: 0.5274 - accuracy: 0.7477 - val_loss: 0.5092 - val_accuracy: 0.7576\n",
            "Epoch 7/100\n",
            "313/313 [==============================] - 25s 81ms/step - loss: 0.5049 - accuracy: 0.7605 - val_loss: 0.4882 - val_accuracy: 0.7676\n",
            "Epoch 8/100\n",
            "313/313 [==============================] - 26s 82ms/step - loss: 0.4875 - accuracy: 0.7699 - val_loss: 0.4779 - val_accuracy: 0.7762\n",
            "Epoch 9/100\n",
            "313/313 [==============================] - 26s 82ms/step - loss: 0.4755 - accuracy: 0.7799 - val_loss: 0.4681 - val_accuracy: 0.7788\n",
            "Epoch 10/100\n",
            "313/313 [==============================] - 26s 82ms/step - loss: 0.4692 - accuracy: 0.7808 - val_loss: 0.4608 - val_accuracy: 0.7856\n",
            "Epoch 11/100\n",
            "313/313 [==============================] - 26s 83ms/step - loss: 0.4606 - accuracy: 0.7890 - val_loss: 0.4574 - val_accuracy: 0.7866\n",
            "Epoch 12/100\n",
            "313/313 [==============================] - 25s 81ms/step - loss: 0.4567 - accuracy: 0.7894 - val_loss: 0.4588 - val_accuracy: 0.7862\n",
            "Epoch 13/100\n",
            "313/313 [==============================] - 25s 81ms/step - loss: 0.4515 - accuracy: 0.7893 - val_loss: 0.4502 - val_accuracy: 0.7932\n",
            "Epoch 14/100\n",
            "313/313 [==============================] - 26s 83ms/step - loss: 0.4497 - accuracy: 0.7917 - val_loss: 0.4479 - val_accuracy: 0.7952\n",
            "Epoch 15/100\n",
            "313/313 [==============================] - 25s 81ms/step - loss: 0.4467 - accuracy: 0.7970 - val_loss: 0.4525 - val_accuracy: 0.7860\n",
            "Epoch 16/100\n",
            "313/313 [==============================] - 25s 81ms/step - loss: 0.4453 - accuracy: 0.7934 - val_loss: 0.4461 - val_accuracy: 0.7930\n",
            "Epoch 17/100\n",
            "313/313 [==============================] - 26s 82ms/step - loss: 0.4430 - accuracy: 0.7951 - val_loss: 0.4492 - val_accuracy: 0.7854\n",
            "Epoch 18/100\n",
            "313/313 [==============================] - 26s 82ms/step - loss: 0.4398 - accuracy: 0.7991 - val_loss: 0.4425 - val_accuracy: 0.7960\n",
            "Epoch 19/100\n",
            "313/313 [==============================] - 26s 83ms/step - loss: 0.4383 - accuracy: 0.7969 - val_loss: 0.4427 - val_accuracy: 0.7956\n",
            "Epoch 20/100\n",
            "313/313 [==============================] - 26s 82ms/step - loss: 0.4368 - accuracy: 0.8002 - val_loss: 0.4412 - val_accuracy: 0.7940\n",
            "Epoch 21/100\n",
            "313/313 [==============================] - 26s 82ms/step - loss: 0.4344 - accuracy: 0.7997 - val_loss: 0.4401 - val_accuracy: 0.7972\n",
            "Epoch 22/100\n",
            "313/313 [==============================] - 25s 81ms/step - loss: 0.4338 - accuracy: 0.8013 - val_loss: 0.4426 - val_accuracy: 0.7960\n",
            "Epoch 23/100\n",
            "313/313 [==============================] - 26s 82ms/step - loss: 0.4319 - accuracy: 0.8029 - val_loss: 0.4490 - val_accuracy: 0.7876\n",
            "Epoch 24/100\n",
            "313/313 [==============================] - 26s 82ms/step - loss: 0.4321 - accuracy: 0.8023 - val_loss: 0.4394 - val_accuracy: 0.7986\n",
            "Epoch 25/100\n",
            "313/313 [==============================] - 26s 83ms/step - loss: 0.4324 - accuracy: 0.8032 - val_loss: 0.4494 - val_accuracy: 0.7830\n",
            "Epoch 26/100\n",
            "313/313 [==============================] - 25s 81ms/step - loss: 0.4307 - accuracy: 0.8028 - val_loss: 0.4384 - val_accuracy: 0.7944\n",
            "Epoch 27/100\n",
            "313/313 [==============================] - 26s 84ms/step - loss: 0.4303 - accuracy: 0.8033 - val_loss: 0.4387 - val_accuracy: 0.7936\n",
            "Epoch 28/100\n",
            "313/313 [==============================] - 26s 83ms/step - loss: 0.4297 - accuracy: 0.8023 - val_loss: 0.4408 - val_accuracy: 0.7988\n",
            "Epoch 29/100\n",
            "313/313 [==============================] - 26s 83ms/step - loss: 0.4272 - accuracy: 0.8045 - val_loss: 0.4372 - val_accuracy: 0.7980\n",
            "Epoch 30/100\n",
            "313/313 [==============================] - 26s 84ms/step - loss: 0.4283 - accuracy: 0.8041 - val_loss: 0.4438 - val_accuracy: 0.7892\n",
            "Epoch 31/100\n",
            "313/313 [==============================] - 25s 81ms/step - loss: 0.4271 - accuracy: 0.8055 - val_loss: 0.4428 - val_accuracy: 0.8010\n",
            "Epoch 32/100\n",
            "313/313 [==============================] - 26s 83ms/step - loss: 0.4263 - accuracy: 0.8062 - val_loss: 0.4364 - val_accuracy: 0.8000\n",
            "Epoch 33/100\n",
            "313/313 [==============================] - 25s 81ms/step - loss: 0.4259 - accuracy: 0.8046 - val_loss: 0.4367 - val_accuracy: 0.8004\n",
            "Epoch 34/100\n",
            "313/313 [==============================] - 26s 83ms/step - loss: 0.4279 - accuracy: 0.8030 - val_loss: 0.4363 - val_accuracy: 0.7970\n",
            "Epoch 35/100\n",
            "313/313 [==============================] - 26s 83ms/step - loss: 0.4233 - accuracy: 0.8066 - val_loss: 0.4359 - val_accuracy: 0.7994\n",
            "Epoch 36/100\n",
            "313/313 [==============================] - 25s 80ms/step - loss: 0.4237 - accuracy: 0.8070 - val_loss: 0.4352 - val_accuracy: 0.8008\n",
            "Epoch 37/100\n",
            "313/313 [==============================] - 26s 82ms/step - loss: 0.4243 - accuracy: 0.8046 - val_loss: 0.4361 - val_accuracy: 0.8012\n",
            "Epoch 38/100\n",
            "313/313 [==============================] - 25s 81ms/step - loss: 0.4232 - accuracy: 0.8048 - val_loss: 0.4353 - val_accuracy: 0.8004\n",
            "Epoch 39/100\n",
            "313/313 [==============================] - 25s 81ms/step - loss: 0.4225 - accuracy: 0.8057 - val_loss: 0.4359 - val_accuracy: 0.7954\n"
          ]
        }
      ]
    },
    {
      "cell_type": "code",
      "source": [
        "plt.plot(history.history['loss'])\n",
        "plt.plot(history.history['val_loss'])\n",
        "plt.xlabel('epoch')\n",
        "plt.ylabel('loss')\n",
        "plt.legend(['train', 'val'])\n",
        "plt.show()"
      ],
      "metadata": {
        "colab": {
          "base_uri": "https://localhost:8080/",
          "height": 279
        },
        "id": "4ts5nc8uWBHI",
        "outputId": "1fee430a-7796-4762-cc1e-a82b4f38445b"
      },
      "execution_count": 14,
      "outputs": [
        {
          "output_type": "display_data",
          "data": {
            "image/png": "[encoded data removed]",
            "text/plain": [
              "<Figure size 432x288 with 1 Axes>"
            ]
          },
          "metadata": {
            "needs_background": "light"
          }
        }
      ]
    },
    {
      "cell_type": "markdown",
      "source": [
        "### GRU 신경망 훈련하기"
      ],
      "metadata": {
        "id": "ipS1yup1WDli"
      }
    },
    {
      "cell_type": "code",
      "source": [
        "model4 = keras.Sequential()\n",
        "model4.add(keras.layers.Embedding(500, 16, input_length=100))\n",
        "model4.add(keras.layers.GRU(8))\n",
        "model4.add(keras.layers.Dense(1, activation='sigmoid'))"
      ],
      "metadata": {
        "id": "2KVf-NpkWC_x"
      },
      "execution_count": 15,
      "outputs": []
    },
    {
      "cell_type": "code",
      "source": [
        "model4.summary()"
      ],
      "metadata": {
        "colab": {
          "base_uri": "https://localhost:8080/"
        },
        "id": "8R6l9jsnWZf-",
        "outputId": "a9abc0b4-1c28-4ac0-cfc6-784ef803ca0d"
      },
      "execution_count": 16,
      "outputs": [
        {
          "output_type": "stream",
          "name": "stdout",
          "text": [
            "Model: \"sequential_3\"\n",
            "_________________________________________________________________\n",
            " Layer (type)                Output Shape              Param #   \n",
            "=================================================================\n",
            " embedding_3 (Embedding)     (None, 100, 16)           8000      \n",
            "                                                                 \n",
            " gru (GRU)                   (None, 8)                 624       \n",
            "                                                                 \n",
            " dense_3 (Dense)             (None, 1)                 9         \n",
            "                                                                 \n",
            "=================================================================\n",
            "Total params: 8,633\n",
            "Trainable params: 8,633\n",
            "Non-trainable params: 0\n",
            "_________________________________________________________________\n"
          ]
        }
      ]
    },
    {
      "cell_type": "code",
      "source": [
        "rmsprop = keras.optimizers.RMSprop(learning_rate=1e-4)\n",
        "model4.compile(optimizer=rmsprop, loss='binary_crossentropy',\n",
        "              metrics=['accuracy'])\n",
        "checkpoint_cb = keras.callbacks.ModelCheckpoint('best-gru-model.h5')\n",
        "early_stopping_cb = keras.callbacks.EarlyStopping(patience=3,\n",
        "                                                  restore_best_weights=True)\n",
        "history = model4.fit(train_seq, train_target, epochs=100, batch_size=64,\n",
        "                    validation_data=(val_seq, val_target),\n",
        "                    callbacks=[checkpoint_cb, early_stopping_cb])"
      ],
      "metadata": {
        "colab": {
          "base_uri": "https://localhost:8080/"
        },
        "id": "23I04rOhWbtF",
        "outputId": "fca26d2f-e647-4f38-9b39-2b66509d1978"
      },
      "execution_count": 17,
      "outputs": [
        {
          "output_type": "stream",
          "name": "stdout",
          "text": [
            "Epoch 1/100\n",
            "313/313 [==============================] - 17s 47ms/step - loss: 0.6924 - accuracy: 0.5225 - val_loss: 0.6919 - val_accuracy: 0.5376\n",
            "Epoch 2/100\n",
            "313/313 [==============================] - 14s 46ms/step - loss: 0.6903 - accuracy: 0.5645 - val_loss: 0.6893 - val_accuracy: 0.5602\n",
            "Epoch 3/100\n",
            "313/313 [==============================] - 15s 47ms/step - loss: 0.6866 - accuracy: 0.5897 - val_loss: 0.6850 - val_accuracy: 0.5736\n",
            "Epoch 4/100\n",
            "313/313 [==============================] - 14s 45ms/step - loss: 0.6804 - accuracy: 0.6127 - val_loss: 0.6776 - val_accuracy: 0.6062\n",
            "Epoch 5/100\n",
            "313/313 [==============================] - 14s 45ms/step - loss: 0.6695 - accuracy: 0.6328 - val_loss: 0.6646 - val_accuracy: 0.6266\n",
            "Epoch 6/100\n",
            "313/313 [==============================] - 14s 45ms/step - loss: 0.6503 - accuracy: 0.6561 - val_loss: 0.6411 - val_accuracy: 0.6562\n",
            "Epoch 7/100\n",
            "313/313 [==============================] - 14s 45ms/step - loss: 0.6114 - accuracy: 0.6857 - val_loss: 0.5887 - val_accuracy: 0.6992\n",
            "Epoch 8/100\n",
            "313/313 [==============================] - 14s 45ms/step - loss: 0.5522 - accuracy: 0.7241 - val_loss: 0.5446 - val_accuracy: 0.7320\n",
            "Epoch 9/100\n",
            "313/313 [==============================] - 14s 45ms/step - loss: 0.5245 - accuracy: 0.7477 - val_loss: 0.5289 - val_accuracy: 0.7494\n",
            "Epoch 10/100\n",
            "313/313 [==============================] - 15s 47ms/step - loss: 0.5079 - accuracy: 0.7600 - val_loss: 0.5142 - val_accuracy: 0.7566\n",
            "Epoch 11/100\n",
            "313/313 [==============================] - 15s 46ms/step - loss: 0.4952 - accuracy: 0.7682 - val_loss: 0.5042 - val_accuracy: 0.7660\n",
            "Epoch 12/100\n",
            "313/313 [==============================] - 15s 46ms/step - loss: 0.4853 - accuracy: 0.7733 - val_loss: 0.4955 - val_accuracy: 0.7716\n",
            "Epoch 13/100\n",
            "313/313 [==============================] - 14s 45ms/step - loss: 0.4763 - accuracy: 0.7799 - val_loss: 0.4876 - val_accuracy: 0.7750\n",
            "Epoch 14/100\n",
            "313/313 [==============================] - 14s 45ms/step - loss: 0.4696 - accuracy: 0.7839 - val_loss: 0.4826 - val_accuracy: 0.7746\n",
            "Epoch 15/100\n",
            "313/313 [==============================] - 14s 46ms/step - loss: 0.4631 - accuracy: 0.7864 - val_loss: 0.4774 - val_accuracy: 0.7804\n",
            "Epoch 16/100\n",
            "313/313 [==============================] - 14s 46ms/step - loss: 0.4583 - accuracy: 0.7893 - val_loss: 0.4767 - val_accuracy: 0.7718\n",
            "Epoch 17/100\n",
            "313/313 [==============================] - 14s 45ms/step - loss: 0.4532 - accuracy: 0.7933 - val_loss: 0.4681 - val_accuracy: 0.7860\n",
            "Epoch 18/100\n",
            "313/313 [==============================] - 14s 45ms/step - loss: 0.4492 - accuracy: 0.7938 - val_loss: 0.4650 - val_accuracy: 0.7862\n",
            "Epoch 19/100\n",
            "313/313 [==============================] - 14s 45ms/step - loss: 0.4455 - accuracy: 0.7966 - val_loss: 0.4637 - val_accuracy: 0.7868\n",
            "Epoch 20/100\n",
            "313/313 [==============================] - 14s 46ms/step - loss: 0.4418 - accuracy: 0.8011 - val_loss: 0.4613 - val_accuracy: 0.7830\n",
            "Epoch 21/100\n",
            "313/313 [==============================] - 14s 45ms/step - loss: 0.4396 - accuracy: 0.8020 - val_loss: 0.4600 - val_accuracy: 0.7866\n",
            "Epoch 22/100\n",
            "313/313 [==============================] - 15s 47ms/step - loss: 0.4367 - accuracy: 0.8039 - val_loss: 0.4580 - val_accuracy: 0.7846\n",
            "Epoch 23/100\n",
            "313/313 [==============================] - 14s 46ms/step - loss: 0.4347 - accuracy: 0.8048 - val_loss: 0.4567 - val_accuracy: 0.7862\n",
            "Epoch 24/100\n",
            "313/313 [==============================] - 14s 46ms/step - loss: 0.4329 - accuracy: 0.8056 - val_loss: 0.4552 - val_accuracy: 0.7888\n",
            "Epoch 25/100\n",
            "313/313 [==============================] - 14s 46ms/step - loss: 0.4309 - accuracy: 0.8067 - val_loss: 0.4562 - val_accuracy: 0.7850\n",
            "Epoch 26/100\n",
            "313/313 [==============================] - 14s 45ms/step - loss: 0.4298 - accuracy: 0.8080 - val_loss: 0.4529 - val_accuracy: 0.7892\n",
            "Epoch 27/100\n",
            "313/313 [==============================] - 14s 45ms/step - loss: 0.4276 - accuracy: 0.8094 - val_loss: 0.4522 - val_accuracy: 0.7912\n",
            "Epoch 28/100\n",
            "313/313 [==============================] - 15s 48ms/step - loss: 0.4266 - accuracy: 0.8081 - val_loss: 0.4515 - val_accuracy: 0.7886\n",
            "Epoch 29/100\n",
            "313/313 [==============================] - 15s 47ms/step - loss: 0.4252 - accuracy: 0.8112 - val_loss: 0.4506 - val_accuracy: 0.7914\n",
            "Epoch 30/100\n",
            "313/313 [==============================] - 14s 45ms/step - loss: 0.4241 - accuracy: 0.8104 - val_loss: 0.4506 - val_accuracy: 0.7906\n",
            "Epoch 31/100\n",
            "313/313 [==============================] - 15s 47ms/step - loss: 0.4228 - accuracy: 0.8120 - val_loss: 0.4498 - val_accuracy: 0.7928\n",
            "Epoch 32/100\n",
            "313/313 [==============================] - 14s 46ms/step - loss: 0.4216 - accuracy: 0.8127 - val_loss: 0.4547 - val_accuracy: 0.7832\n",
            "Epoch 33/100\n",
            "313/313 [==============================] - 15s 47ms/step - loss: 0.4212 - accuracy: 0.8129 - val_loss: 0.4486 - val_accuracy: 0.7916\n",
            "Epoch 34/100\n",
            "313/313 [==============================] - 14s 46ms/step - loss: 0.4204 - accuracy: 0.8126 - val_loss: 0.4484 - val_accuracy: 0.7936\n",
            "Epoch 35/100\n",
            "313/313 [==============================] - 15s 47ms/step - loss: 0.4193 - accuracy: 0.8141 - val_loss: 0.4493 - val_accuracy: 0.7940\n",
            "Epoch 36/100\n",
            "313/313 [==============================] - 14s 45ms/step - loss: 0.4187 - accuracy: 0.8149 - val_loss: 0.4473 - val_accuracy: 0.7944\n",
            "Epoch 37/100\n",
            "313/313 [==============================] - 14s 46ms/step - loss: 0.4177 - accuracy: 0.8145 - val_loss: 0.4470 - val_accuracy: 0.7950\n",
            "Epoch 38/100\n",
            "313/313 [==============================] - 14s 45ms/step - loss: 0.4172 - accuracy: 0.8156 - val_loss: 0.4505 - val_accuracy: 0.7936\n",
            "Epoch 39/100\n",
            "313/313 [==============================] - 14s 46ms/step - loss: 0.4168 - accuracy: 0.8155 - val_loss: 0.4508 - val_accuracy: 0.7860\n",
            "Epoch 40/100\n",
            "313/313 [==============================] - 14s 46ms/step - loss: 0.4162 - accuracy: 0.8171 - val_loss: 0.4470 - val_accuracy: 0.7900\n",
            "Epoch 41/100\n",
            "313/313 [==============================] - 14s 45ms/step - loss: 0.4155 - accuracy: 0.8166 - val_loss: 0.4444 - val_accuracy: 0.7922\n",
            "Epoch 42/100\n",
            "313/313 [==============================] - 15s 46ms/step - loss: 0.4149 - accuracy: 0.8171 - val_loss: 0.4445 - val_accuracy: 0.7964\n",
            "Epoch 43/100\n",
            "313/313 [==============================] - 14s 45ms/step - loss: 0.4141 - accuracy: 0.8161 - val_loss: 0.4450 - val_accuracy: 0.7954\n",
            "Epoch 44/100\n",
            "313/313 [==============================] - 14s 46ms/step - loss: 0.4137 - accuracy: 0.8174 - val_loss: 0.4424 - val_accuracy: 0.7944\n",
            "Epoch 45/100\n",
            "313/313 [==============================] - 15s 47ms/step - loss: 0.4129 - accuracy: 0.8182 - val_loss: 0.4423 - val_accuracy: 0.7972\n",
            "Epoch 46/100\n",
            "313/313 [==============================] - 14s 46ms/step - loss: 0.4129 - accuracy: 0.8177 - val_loss: 0.4433 - val_accuracy: 0.7896\n",
            "Epoch 47/100\n",
            "313/313 [==============================] - 14s 46ms/step - loss: 0.4121 - accuracy: 0.8152 - val_loss: 0.4474 - val_accuracy: 0.7914\n",
            "Epoch 48/100\n",
            "313/313 [==============================] - 15s 46ms/step - loss: 0.4118 - accuracy: 0.8173 - val_loss: 0.4417 - val_accuracy: 0.7954\n",
            "Epoch 49/100\n",
            "313/313 [==============================] - 14s 46ms/step - loss: 0.4113 - accuracy: 0.8172 - val_loss: 0.4419 - val_accuracy: 0.7924\n",
            "Epoch 50/100\n",
            "313/313 [==============================] - 15s 47ms/step - loss: 0.4108 - accuracy: 0.8164 - val_loss: 0.4409 - val_accuracy: 0.7956\n",
            "Epoch 51/100\n",
            "313/313 [==============================] - 14s 46ms/step - loss: 0.4099 - accuracy: 0.8170 - val_loss: 0.4393 - val_accuracy: 0.7970\n",
            "Epoch 52/100\n",
            "313/313 [==============================] - 15s 48ms/step - loss: 0.4099 - accuracy: 0.8174 - val_loss: 0.4413 - val_accuracy: 0.7964\n",
            "Epoch 53/100\n",
            "313/313 [==============================] - 14s 45ms/step - loss: 0.4094 - accuracy: 0.8189 - val_loss: 0.4421 - val_accuracy: 0.7934\n",
            "Epoch 54/100\n",
            "313/313 [==============================] - 14s 46ms/step - loss: 0.4091 - accuracy: 0.8175 - val_loss: 0.4385 - val_accuracy: 0.7964\n",
            "Epoch 55/100\n",
            "313/313 [==============================] - 14s 46ms/step - loss: 0.4087 - accuracy: 0.8166 - val_loss: 0.4386 - val_accuracy: 0.7980\n",
            "Epoch 56/100\n",
            "313/313 [==============================] - 14s 46ms/step - loss: 0.4082 - accuracy: 0.8179 - val_loss: 0.4372 - val_accuracy: 0.7978\n",
            "Epoch 57/100\n",
            "313/313 [==============================] - 15s 47ms/step - loss: 0.4081 - accuracy: 0.8171 - val_loss: 0.4369 - val_accuracy: 0.7972\n",
            "Epoch 58/100\n",
            "313/313 [==============================] - 15s 47ms/step - loss: 0.4071 - accuracy: 0.8182 - val_loss: 0.4361 - val_accuracy: 0.7982\n",
            "Epoch 59/100\n",
            "313/313 [==============================] - 15s 47ms/step - loss: 0.4071 - accuracy: 0.8181 - val_loss: 0.4370 - val_accuracy: 0.7972\n",
            "Epoch 60/100\n",
            "313/313 [==============================] - 15s 48ms/step - loss: 0.4065 - accuracy: 0.8169 - val_loss: 0.4351 - val_accuracy: 0.7998\n",
            "Epoch 61/100\n",
            "313/313 [==============================] - 14s 46ms/step - loss: 0.4064 - accuracy: 0.8175 - val_loss: 0.4377 - val_accuracy: 0.7952\n",
            "Epoch 62/100\n",
            "313/313 [==============================] - 14s 46ms/step - loss: 0.4061 - accuracy: 0.8185 - val_loss: 0.4356 - val_accuracy: 0.7978\n",
            "Epoch 63/100\n",
            "313/313 [==============================] - 14s 46ms/step - loss: 0.4059 - accuracy: 0.8186 - val_loss: 0.4354 - val_accuracy: 0.7984\n"
          ]
        }
      ]
    },
    {
      "cell_type": "code",
      "source": [
        "plt.plot(history.history['loss'])\n",
        "plt.plot(history.history['val_loss'])\n",
        "plt.xlabel('epoch')\n",
        "plt.ylabel('loss')\n",
        "plt.legend(['train', 'val'])\n",
        "plt.show()"
      ],
      "metadata": {
        "colab": {
          "base_uri": "https://localhost:8080/",
          "height": 279
        },
        "id": "-6J0y56lX2-K",
        "outputId": "68304c0e-9d18-4910-fb68-2fd5a4d0d51c"
      },
      "execution_count": 18,
      "outputs": [
        {
          "output_type": "display_data",
          "data": {
            "image/png": "[encoded data removed]",
            "text/plain": [
              "<Figure size 432x288 with 1 Axes>"
            ]
          },
          "metadata": {
            "needs_background": "light"
          }
        }
      ]
    },
    {
      "cell_type": "markdown",
      "source": [
        "### 가장 좋았던 모델로 test set을 prediction"
      ],
      "metadata": {
        "id": "k_WVagdpX_7b"
      }
    },
    {
      "cell_type": "code",
      "source": [
        "test_seq = pad_sequences(test_input, maxlen=100)\n",
        "rnn_model = keras.models.load_model('best-2rnn-model.h5')\n",
        "rnn_model.evaluate(test_seq, test_target)"
      ],
      "metadata": {
        "colab": {
          "base_uri": "https://localhost:8080/"
        },
        "id": "-G-SuzqoYF-S",
        "outputId": "8a3c2744-f7f1-48a7-ce57-358e3f4cfa00"
      },
      "execution_count": 19,
      "outputs": [
        {
          "output_type": "stream",
          "name": "stdout",
          "text": [
            "782/782 [==============================] - 12s 14ms/step - loss: 0.4308 - accuracy: 0.7983\n"
          ]
        },
        {
          "output_type": "execute_result",
          "data": {
            "text/plain": [
              "[0.4307805001735687, 0.7982800006866455]"
            ]
          },
          "metadata": {},
          "execution_count": 19
        }
      ]
    }
  ]
}